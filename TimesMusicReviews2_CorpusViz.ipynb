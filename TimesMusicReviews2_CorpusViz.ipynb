{
 "cells": [
  {
   "cell_type": "markdown",
   "metadata": {},
   "source": [
    "# Sentiment Analysis of *The Times* Music Reviews\n",
    "## Part II: Corpus Analysis and Summarization\n",
    "*How have artforms been reported?  Is there a status hierarchy between them?  How has this changed over time?*\n",
    "\n",
    "* **Project:** What counts as culture?  Reporting and criticism in The Times 1785-2000\n",
    "* **Project Lead:** Dave O'Brien\n",
    "* **Developer:** Lucy Havens\n",
    "* **Funding:** from the Centre for Data, Culture & Society, University of Edinburgh\n",
    "* **Dataset:** 83,625 reviews about music published in The Times from 1950 through 2009\n",
    "\n",
    "Begun March 2021"
   ]
  },
  {
   "cell_type": "markdown",
   "metadata": {},
   "source": [
    "Let's summarize our corpus and visualize the results so we can get an overview of the data we're working with."
   ]
  },
  {
   "cell_type": "code",
   "execution_count": 2,
   "metadata": {},
   "outputs": [],
   "source": [
    "# for data loading analysis\n",
    "import re\n",
    "import string\n",
    "import numpy as np\n",
    "import pandas as pd\n",
    "\n",
    "# for data visualization\n",
    "import matplotlib.pyplot as plt\n",
    "import altair as alt   ###  Need to figure out why Altair returns error! (Javascript Error: Unrecognized transform type: \"formula\")\n",
    "import seaborn as sns\n",
    "\n",
    "# for text analysis\n",
    "import nltk\n",
    "from nltk.tokenize import word_tokenize, sent_tokenize\n",
    "# nltk.download('punkt')\n",
    "from nltk.corpus import PlaintextCorpusReader\n",
    "# nltk.download('wordnet')\n",
    "from nltk.corpus import wordnet\n",
    "# nltk.download('stopwords')\n",
    "from nltk.corpus import stopwords\n",
    "from nltk.text import Text"
   ]
  },
  {
   "cell_type": "markdown",
   "metadata": {},
   "source": [
    "## 1. Text Analysis\n",
    "We'll begin by determining the number of words and sentences per article so we can study the change in article lenghts over time and by genre.\n",
    "\n",
    "**Step 1:** Split the running text of the music reviews into words and sentences."
   ]
  },
  {
   "cell_type": "code",
   "execution_count": 5,
   "metadata": {},
   "outputs": [],
   "source": [
    "data_path = \"../TheTimes_DaveO/TheTimesMusicReviews_1950-2009\"\n",
    "articles = PlaintextCorpusReader(data_path, \".+/.+\", encoding='utf-8')"
   ]
  },
  {
   "cell_type": "code",
   "execution_count": 8,
   "metadata": {},
   "outputs": [
    {
     "name": "stdout",
     "output_type": "stream",
     "text": [
      "Sample of Tokens (strings of characters estimated to be words):\n",
      " [\"'SOME\", 'NEW', 'SCORES', 'MOTET', 'AND', 'OPERA', 'BY', 'OUR', 'MUSIC', 'CRIrIC', 'Music', 'publishing', 'has', 'got', 'into']\n"
     ]
    }
   ],
   "source": [
    "fileids = articles.fileids()\n",
    "tokens = []\n",
    "for fileid in fileids:\n",
    "    tokens += [word_tokenize(articles.raw(fileid))]\n",
    "print(\"Sample of Tokens (strings of characters estimated to be words):\\n\", tokens[0][0:15])"
   ]
  },
  {
   "cell_type": "code",
   "execution_count": 9,
   "metadata": {
    "jupyter": {
     "source_hidden": true
    }
   },
   "outputs": [],
   "source": [
    "# for fileid in fileids:\n",
    "#     article_tokens = tokens.fileid(fileid)\n",
    "#     # Create a list of all the alphabetic tokens in the music reviews so that we can \n",
    "#     # count the number of words per music review\n",
    "#     alpha_tokens = [t for t in article_tokens if t.isalpha()]\n",
    "#     # Create a list of all the alphabetic tokens (words) and numbers in the music reviews\n",
    "#     # so that we can count the words, numbers and dates per music review\n",
    "#     alphanum_tokens = [t for t in article_tokens if t.isalnum()]\n",
    "\n",
    "\n",
    "# print(\"Sample of Words:\\n\", alpha_tokens[100][100:115])\n",
    "# print(\"\\nSample of Alphanumeric Tokens (words, numbers, dates):\\n\", alphanum_tokens[20][1000:1015])"
   ]
  },
  {
   "cell_type": "code",
   "execution_count": 10,
   "metadata": {},
   "outputs": [
    {
     "name": "stdout",
     "output_type": "stream",
     "text": [
      "Sample sentence: Its score, apparently enlarged by photographic process from Tudor Church Miusic by permission of the Carnegie Trust, is issued by the Oxford University Press at the remarkable price of 3s.\n"
     ]
    }
   ],
   "source": [
    "sentences = []\n",
    "for fileid in fileids:\n",
    "    sentences += [sent_tokenize(articles.raw(fileid))]\n",
    "print(\"Sample sentence:\", sentences[0][10])"
   ]
  },
  {
   "cell_type": "markdown",
   "metadata": {},
   "source": [
    "**Step 2:** Now that we have split the running text of the articles into words and sentences, let's count the number of words and sentences per article."
   ]
  },
  {
   "cell_type": "code",
   "execution_count": 11,
   "metadata": {},
   "outputs": [],
   "source": [
    "def countPerArticle(article_list):\n",
    "    lengths_list = []\n",
    "    for article in article_list:\n",
    "        lengths_list += [len(article)]\n",
    "    return lengths_list\n",
    "\n",
    "tokens_per_article = countPerArticle(tokens)\n",
    "sents_per_article = countPerArticle(sentences)"
   ]
  },
  {
   "cell_type": "code",
   "execution_count": 12,
   "metadata": {},
   "outputs": [
    {
     "name": "stdout",
     "output_type": "stream",
     "text": [
      "20787\n"
     ]
    }
   ],
   "source": [
    "identifiers = []\n",
    "for fileid in fileids:\n",
    "    identifiers += [int(re.findall(\"\\d{5,}\",fileid)[0])]\n",
    "print(identifiers[0])"
   ]
  },
  {
   "cell_type": "code",
   "execution_count": 13,
   "metadata": {},
   "outputs": [
    {
     "data": {
      "text/html": [
       "<div>\n",
       "<style scoped>\n",
       "    .dataframe tbody tr th:only-of-type {\n",
       "        vertical-align: middle;\n",
       "    }\n",
       "\n",
       "    .dataframe tbody tr th {\n",
       "        vertical-align: top;\n",
       "    }\n",
       "\n",
       "    .dataframe thead th {\n",
       "        text-align: right;\n",
       "    }\n",
       "</style>\n",
       "<table border=\"1\" class=\"dataframe\">\n",
       "  <thead>\n",
       "    <tr style=\"text-align: right;\">\n",
       "      <th></th>\n",
       "      <th>identifier</th>\n",
       "      <th>word_count</th>\n",
       "      <th>sentence_count</th>\n",
       "    </tr>\n",
       "  </thead>\n",
       "  <tbody>\n",
       "    <tr>\n",
       "      <th>0</th>\n",
       "      <td>20787</td>\n",
       "      <td>849</td>\n",
       "      <td>42</td>\n",
       "    </tr>\n",
       "    <tr>\n",
       "      <th>1</th>\n",
       "      <td>20788</td>\n",
       "      <td>367</td>\n",
       "      <td>14</td>\n",
       "    </tr>\n",
       "    <tr>\n",
       "      <th>2</th>\n",
       "      <td>20789</td>\n",
       "      <td>386</td>\n",
       "      <td>11</td>\n",
       "    </tr>\n",
       "    <tr>\n",
       "      <th>3</th>\n",
       "      <td>20790</td>\n",
       "      <td>383</td>\n",
       "      <td>8</td>\n",
       "    </tr>\n",
       "    <tr>\n",
       "      <th>4</th>\n",
       "      <td>20791</td>\n",
       "      <td>738</td>\n",
       "      <td>23</td>\n",
       "    </tr>\n",
       "  </tbody>\n",
       "</table>\n",
       "</div>"
      ],
      "text/plain": [
       "   identifier  word_count  sentence_count\n",
       "0       20787         849              42\n",
       "1       20788         367              14\n",
       "2       20789         386              11\n",
       "3       20790         383               8\n",
       "4       20791         738              23"
      ]
     },
     "execution_count": 13,
     "metadata": {},
     "output_type": "execute_result"
    }
   ],
   "source": [
    "df_lengths = pd.DataFrame({\"identifier\":identifiers, \"word_count\":tokens_per_article, \"sentence_count\":sents_per_article})\n",
    "df_lengths.head()"
   ]
  },
  {
   "cell_type": "markdown",
   "metadata": {},
   "source": [
    "With this table we can quickly calculate the longest, shortest, and average lengths of music reviews."
   ]
  },
  {
   "cell_type": "code",
   "execution_count": 14,
   "metadata": {},
   "outputs": [
    {
     "name": "stdout",
     "output_type": "stream",
     "text": [
      "Most Words: 12690\n",
      "Fewest Words: 9\n",
      "Average Words: 664.8419850523169\n",
      "Standard Deviation: 523.0112775422288\n",
      "\n",
      "Most Sentences: 867\n",
      "Fewest Sentences: 1\n",
      "Average Sentences: 26.25595216741405\n",
      "Standard Deviation: 24.638387926951495\n"
     ]
    }
   ],
   "source": [
    "print(\"Most Words:\", max(df_lengths[\"word_count\"]))\n",
    "print(\"Fewest Words:\", min(df_lengths[\"word_count\"]))\n",
    "print(\"Average Words:\", np.mean(df_lengths[\"word_count\"]))\n",
    "print(\"Standard Deviation:\", np.std(df_lengths[\"word_count\"]))\n",
    "print(\"\\nMost Sentences:\", max(df_lengths[\"sentence_count\"]))\n",
    "print(\"Fewest Sentences:\", min(df_lengths[\"sentence_count\"]))\n",
    "print(\"Average Sentences:\", np.mean(df_lengths[\"sentence_count\"]))\n",
    "print(\"Standard Deviation:\", np.std(df_lengths[\"sentence_count\"]))"
   ]
  },
  {
   "cell_type": "markdown",
   "metadata": {},
   "source": [
    "Nice!\n",
    "\n",
    "Now we can write this table to a CSV for safekeeping."
   ]
  },
  {
   "cell_type": "code",
   "execution_count": 15,
   "metadata": {},
   "outputs": [],
   "source": [
    "df_lengths.to_csv(\"../TheTimes_DaveO/TheTimesArticlesLengths_1950-2009.csv\")"
   ]
  },
  {
   "cell_type": "markdown",
   "metadata": {},
   "source": [
    "**Step 3:** Lastly, let's visualize the table so we can get a broader overview of how the music reviews' lengths compare.  To do this, let's begin by joining up the lengths information with the inventory containing metadata for each music review.  Then, we can calculate lengths by genre, by year, and by author.\n",
    "\n",
    "We'll load the inventory..."
   ]
  },
  {
   "cell_type": "code",
   "execution_count": 16,
   "metadata": {},
   "outputs": [
    {
     "data": {
      "text/html": [
       "<div>\n",
       "<style scoped>\n",
       "    .dataframe tbody tr th:only-of-type {\n",
       "        vertical-align: middle;\n",
       "    }\n",
       "\n",
       "    .dataframe tbody tr th {\n",
       "        vertical-align: top;\n",
       "    }\n",
       "\n",
       "    .dataframe thead th {\n",
       "        text-align: right;\n",
       "    }\n",
       "</style>\n",
       "<table border=\"1\" class=\"dataframe\">\n",
       "  <thead>\n",
       "    <tr style=\"text-align: right;\">\n",
       "      <th></th>\n",
       "      <th>identifier</th>\n",
       "      <th>title</th>\n",
       "      <th>year</th>\n",
       "      <th>author</th>\n",
       "      <th>term</th>\n",
       "      <th>section</th>\n",
       "      <th>pages</th>\n",
       "      <th>filename</th>\n",
       "      <th>article_id</th>\n",
       "      <th>issue_id</th>\n",
       "    </tr>\n",
       "  </thead>\n",
       "  <tbody>\n",
       "    <tr>\n",
       "      <th>0</th>\n",
       "      <td>20787</td>\n",
       "      <td>SOME NEW SCORES MOTET AND OPERA</td>\n",
       "      <td>1950</td>\n",
       "      <td>BY OUR MUSIC CRITIC</td>\n",
       "      <td>[' bands', ' composer', ' musical', ' opera', ...</td>\n",
       "      <td>Reviews</td>\n",
       "      <td>[]</td>\n",
       "      <td>/lustre/home/dc125/shared/TDA_GDA_1785-2009/19...</td>\n",
       "      <td>0FFO-1950-JUN30-008-023</td>\n",
       "      <td>0FFO-1950-JUN30</td>\n",
       "    </tr>\n",
       "    <tr>\n",
       "      <th>1</th>\n",
       "      <td>20788</td>\n",
       "      <td>THE ROYAL OPERA \" TRISTAN AND ISOLDE \"</td>\n",
       "      <td>1950</td>\n",
       "      <td>''</td>\n",
       "      <td>[' opera', ' orchestra']</td>\n",
       "      <td>Reviews</td>\n",
       "      <td>[]</td>\n",
       "      <td>/lustre/home/dc125/shared/TDA_GDA_1785-2009/19...</td>\n",
       "      <td>0FFO-1950-JUN30-008-027</td>\n",
       "      <td>0FFO-1950-JUN30</td>\n",
       "    </tr>\n",
       "    <tr>\n",
       "      <th>2</th>\n",
       "      <td>20789</td>\n",
       "      <td>GROWING TASTE FOR MUSIC PLEA FOR ENLARGED QUEE...</td>\n",
       "      <td>1950</td>\n",
       "      <td>''</td>\n",
       "      <td>[' country']</td>\n",
       "      <td>Reviews</td>\n",
       "      <td>[]</td>\n",
       "      <td>/lustre/home/dc125/shared/TDA_GDA_1785-2009/19...</td>\n",
       "      <td>0FFO-1950-JUN30-008-032</td>\n",
       "      <td>0FFO-1950-JUN30</td>\n",
       "    </tr>\n",
       "    <tr>\n",
       "      <th>3</th>\n",
       "      <td>20790</td>\n",
       "      <td>ROYAL PHILHARMONIC CONCERT BEECHAM AND MOZART</td>\n",
       "      <td>1950</td>\n",
       "      <td>''</td>\n",
       "      <td>[' orchestra', ' orchestras']</td>\n",
       "      <td>Reviews</td>\n",
       "      <td>['010']</td>\n",
       "      <td>/lustre/home/dc125/shared/TDA_GDA_1785-2009/19...</td>\n",
       "      <td>0FFO-1950-MAR02-010-006</td>\n",
       "      <td>0FFO-1950-MAR02</td>\n",
       "    </tr>\n",
       "    <tr>\n",
       "      <th>4</th>\n",
       "      <td>20791</td>\n",
       "      <td>MUSICAL JOURNALS SOME NEWCOMERS</td>\n",
       "      <td>1950</td>\n",
       "      <td>BY OUR MUSIC CRITIC</td>\n",
       "      <td>[' musical', ' orchestra', ' orchestras']</td>\n",
       "      <td>Reviews</td>\n",
       "      <td>['007']</td>\n",
       "      <td>/lustre/home/dc125/shared/TDA_GDA_1785-2009/19...</td>\n",
       "      <td>0FFO-1950-MAR03-007-010</td>\n",
       "      <td>0FFO-1950-MAR03</td>\n",
       "    </tr>\n",
       "  </tbody>\n",
       "</table>\n",
       "</div>"
      ],
      "text/plain": [
       "   identifier                                              title  year  \\\n",
       "0       20787                    SOME NEW SCORES MOTET AND OPERA  1950   \n",
       "1       20788             THE ROYAL OPERA \" TRISTAN AND ISOLDE \"  1950   \n",
       "2       20789  GROWING TASTE FOR MUSIC PLEA FOR ENLARGED QUEE...  1950   \n",
       "3       20790      ROYAL PHILHARMONIC CONCERT BEECHAM AND MOZART  1950   \n",
       "4       20791                    MUSICAL JOURNALS SOME NEWCOMERS  1950   \n",
       "\n",
       "                author                                               term  \\\n",
       "0  BY OUR MUSIC CRITIC  [' bands', ' composer', ' musical', ' opera', ...   \n",
       "1                   ''                           [' opera', ' orchestra']   \n",
       "2                   ''                                       [' country']   \n",
       "3                   ''                      [' orchestra', ' orchestras']   \n",
       "4  BY OUR MUSIC CRITIC          [' musical', ' orchestra', ' orchestras']   \n",
       "\n",
       "   section    pages                                           filename  \\\n",
       "0  Reviews       []  /lustre/home/dc125/shared/TDA_GDA_1785-2009/19...   \n",
       "1  Reviews       []  /lustre/home/dc125/shared/TDA_GDA_1785-2009/19...   \n",
       "2  Reviews       []  /lustre/home/dc125/shared/TDA_GDA_1785-2009/19...   \n",
       "3  Reviews  ['010']  /lustre/home/dc125/shared/TDA_GDA_1785-2009/19...   \n",
       "4  Reviews  ['007']  /lustre/home/dc125/shared/TDA_GDA_1785-2009/19...   \n",
       "\n",
       "                article_id         issue_id  \n",
       "0  0FFO-1950-JUN30-008-023  0FFO-1950-JUN30  \n",
       "1  0FFO-1950-JUN30-008-027  0FFO-1950-JUN30  \n",
       "2  0FFO-1950-JUN30-008-032  0FFO-1950-JUN30  \n",
       "3  0FFO-1950-MAR02-010-006  0FFO-1950-MAR02  \n",
       "4  0FFO-1950-MAR03-007-010  0FFO-1950-MAR03  "
      ]
     },
     "execution_count": 16,
     "metadata": {},
     "output_type": "execute_result"
    }
   ],
   "source": [
    "dfi = pd.read_csv(\"../TheTimes_DaveO/TheTimesArticles_1950-2009_Inventory.csv\")\n",
    "dfi.rename(columns={\"Unnamed: 0\":\"identifier\"}, inplace=True)\n",
    "dfi.head()"
   ]
  },
  {
   "cell_type": "markdown",
   "metadata": {},
   "source": [
    "...merge it with the lengths table..."
   ]
  },
  {
   "cell_type": "code",
   "execution_count": 17,
   "metadata": {},
   "outputs": [
    {
     "data": {
      "text/html": [
       "<div>\n",
       "<style scoped>\n",
       "    .dataframe tbody tr th:only-of-type {\n",
       "        vertical-align: middle;\n",
       "    }\n",
       "\n",
       "    .dataframe tbody tr th {\n",
       "        vertical-align: top;\n",
       "    }\n",
       "\n",
       "    .dataframe thead th {\n",
       "        text-align: right;\n",
       "    }\n",
       "</style>\n",
       "<table border=\"1\" class=\"dataframe\">\n",
       "  <thead>\n",
       "    <tr style=\"text-align: right;\">\n",
       "      <th></th>\n",
       "      <th>identifier</th>\n",
       "      <th>title</th>\n",
       "      <th>year</th>\n",
       "      <th>author</th>\n",
       "      <th>term</th>\n",
       "      <th>section</th>\n",
       "      <th>pages</th>\n",
       "      <th>filename</th>\n",
       "      <th>article_id</th>\n",
       "      <th>issue_id</th>\n",
       "      <th>word_count</th>\n",
       "      <th>sentence_count</th>\n",
       "    </tr>\n",
       "  </thead>\n",
       "  <tbody>\n",
       "    <tr>\n",
       "      <th>0</th>\n",
       "      <td>20787</td>\n",
       "      <td>SOME NEW SCORES MOTET AND OPERA</td>\n",
       "      <td>1950</td>\n",
       "      <td>BY OUR MUSIC CRITIC</td>\n",
       "      <td>[' bands', ' composer', ' musical', ' opera', ...</td>\n",
       "      <td>Reviews</td>\n",
       "      <td>[]</td>\n",
       "      <td>/lustre/home/dc125/shared/TDA_GDA_1785-2009/19...</td>\n",
       "      <td>0FFO-1950-JUN30-008-023</td>\n",
       "      <td>0FFO-1950-JUN30</td>\n",
       "      <td>849</td>\n",
       "      <td>42</td>\n",
       "    </tr>\n",
       "    <tr>\n",
       "      <th>1</th>\n",
       "      <td>20788</td>\n",
       "      <td>THE ROYAL OPERA \" TRISTAN AND ISOLDE \"</td>\n",
       "      <td>1950</td>\n",
       "      <td>''</td>\n",
       "      <td>[' opera', ' orchestra']</td>\n",
       "      <td>Reviews</td>\n",
       "      <td>[]</td>\n",
       "      <td>/lustre/home/dc125/shared/TDA_GDA_1785-2009/19...</td>\n",
       "      <td>0FFO-1950-JUN30-008-027</td>\n",
       "      <td>0FFO-1950-JUN30</td>\n",
       "      <td>367</td>\n",
       "      <td>14</td>\n",
       "    </tr>\n",
       "    <tr>\n",
       "      <th>2</th>\n",
       "      <td>20789</td>\n",
       "      <td>GROWING TASTE FOR MUSIC PLEA FOR ENLARGED QUEE...</td>\n",
       "      <td>1950</td>\n",
       "      <td>''</td>\n",
       "      <td>[' country']</td>\n",
       "      <td>Reviews</td>\n",
       "      <td>[]</td>\n",
       "      <td>/lustre/home/dc125/shared/TDA_GDA_1785-2009/19...</td>\n",
       "      <td>0FFO-1950-JUN30-008-032</td>\n",
       "      <td>0FFO-1950-JUN30</td>\n",
       "      <td>386</td>\n",
       "      <td>11</td>\n",
       "    </tr>\n",
       "    <tr>\n",
       "      <th>3</th>\n",
       "      <td>20790</td>\n",
       "      <td>ROYAL PHILHARMONIC CONCERT BEECHAM AND MOZART</td>\n",
       "      <td>1950</td>\n",
       "      <td>''</td>\n",
       "      <td>[' orchestra', ' orchestras']</td>\n",
       "      <td>Reviews</td>\n",
       "      <td>['010']</td>\n",
       "      <td>/lustre/home/dc125/shared/TDA_GDA_1785-2009/19...</td>\n",
       "      <td>0FFO-1950-MAR02-010-006</td>\n",
       "      <td>0FFO-1950-MAR02</td>\n",
       "      <td>383</td>\n",
       "      <td>8</td>\n",
       "    </tr>\n",
       "    <tr>\n",
       "      <th>4</th>\n",
       "      <td>20791</td>\n",
       "      <td>MUSICAL JOURNALS SOME NEWCOMERS</td>\n",
       "      <td>1950</td>\n",
       "      <td>BY OUR MUSIC CRITIC</td>\n",
       "      <td>[' musical', ' orchestra', ' orchestras']</td>\n",
       "      <td>Reviews</td>\n",
       "      <td>['007']</td>\n",
       "      <td>/lustre/home/dc125/shared/TDA_GDA_1785-2009/19...</td>\n",
       "      <td>0FFO-1950-MAR03-007-010</td>\n",
       "      <td>0FFO-1950-MAR03</td>\n",
       "      <td>738</td>\n",
       "      <td>23</td>\n",
       "    </tr>\n",
       "  </tbody>\n",
       "</table>\n",
       "</div>"
      ],
      "text/plain": [
       "   identifier                                              title  year  \\\n",
       "0       20787                    SOME NEW SCORES MOTET AND OPERA  1950   \n",
       "1       20788             THE ROYAL OPERA \" TRISTAN AND ISOLDE \"  1950   \n",
       "2       20789  GROWING TASTE FOR MUSIC PLEA FOR ENLARGED QUEE...  1950   \n",
       "3       20790      ROYAL PHILHARMONIC CONCERT BEECHAM AND MOZART  1950   \n",
       "4       20791                    MUSICAL JOURNALS SOME NEWCOMERS  1950   \n",
       "\n",
       "                author                                               term  \\\n",
       "0  BY OUR MUSIC CRITIC  [' bands', ' composer', ' musical', ' opera', ...   \n",
       "1                   ''                           [' opera', ' orchestra']   \n",
       "2                   ''                                       [' country']   \n",
       "3                   ''                      [' orchestra', ' orchestras']   \n",
       "4  BY OUR MUSIC CRITIC          [' musical', ' orchestra', ' orchestras']   \n",
       "\n",
       "   section    pages                                           filename  \\\n",
       "0  Reviews       []  /lustre/home/dc125/shared/TDA_GDA_1785-2009/19...   \n",
       "1  Reviews       []  /lustre/home/dc125/shared/TDA_GDA_1785-2009/19...   \n",
       "2  Reviews       []  /lustre/home/dc125/shared/TDA_GDA_1785-2009/19...   \n",
       "3  Reviews  ['010']  /lustre/home/dc125/shared/TDA_GDA_1785-2009/19...   \n",
       "4  Reviews  ['007']  /lustre/home/dc125/shared/TDA_GDA_1785-2009/19...   \n",
       "\n",
       "                article_id         issue_id  word_count  sentence_count  \n",
       "0  0FFO-1950-JUN30-008-023  0FFO-1950-JUN30         849              42  \n",
       "1  0FFO-1950-JUN30-008-027  0FFO-1950-JUN30         367              14  \n",
       "2  0FFO-1950-JUN30-008-032  0FFO-1950-JUN30         386              11  \n",
       "3  0FFO-1950-MAR02-010-006  0FFO-1950-MAR02         383               8  \n",
       "4  0FFO-1950-MAR03-007-010  0FFO-1950-MAR03         738              23  "
      ]
     },
     "execution_count": 17,
     "metadata": {},
     "output_type": "execute_result"
    }
   ],
   "source": [
    "df = dfi.merge(df_lengths, how=\"outer\", on=\"identifier\")\n",
    "df.head()"
   ]
  },
  {
   "cell_type": "markdown",
   "metadata": {},
   "source": [
    "...and then create subsets of the data to visualize!\n",
    "\n",
    "## 2. Data Visualization\n",
    "\n",
    "### 2.1 Average Length per Year**"
   ]
  },
  {
   "cell_type": "code",
   "execution_count": 18,
   "metadata": {},
   "outputs": [
    {
     "name": "stdout",
     "output_type": "stream",
     "text": [
      "(60, 3)\n"
     ]
    },
    {
     "data": {
      "text/html": [
       "<div>\n",
       "<style scoped>\n",
       "    .dataframe tbody tr th:only-of-type {\n",
       "        vertical-align: middle;\n",
       "    }\n",
       "\n",
       "    .dataframe tbody tr th {\n",
       "        vertical-align: top;\n",
       "    }\n",
       "\n",
       "    .dataframe thead th {\n",
       "        text-align: right;\n",
       "    }\n",
       "</style>\n",
       "<table border=\"1\" class=\"dataframe\">\n",
       "  <thead>\n",
       "    <tr style=\"text-align: right;\">\n",
       "      <th></th>\n",
       "      <th>year</th>\n",
       "      <th>word_count</th>\n",
       "      <th>sentence_count</th>\n",
       "    </tr>\n",
       "  </thead>\n",
       "  <tbody>\n",
       "    <tr>\n",
       "      <th>0</th>\n",
       "      <td>1950</td>\n",
       "      <td>466.077778</td>\n",
       "      <td>14.808889</td>\n",
       "    </tr>\n",
       "    <tr>\n",
       "      <th>1</th>\n",
       "      <td>1951</td>\n",
       "      <td>512.378840</td>\n",
       "      <td>16.023891</td>\n",
       "    </tr>\n",
       "    <tr>\n",
       "      <th>2</th>\n",
       "      <td>1952</td>\n",
       "      <td>476.099320</td>\n",
       "      <td>15.654422</td>\n",
       "    </tr>\n",
       "    <tr>\n",
       "      <th>3</th>\n",
       "      <td>1953</td>\n",
       "      <td>521.763547</td>\n",
       "      <td>16.709360</td>\n",
       "    </tr>\n",
       "    <tr>\n",
       "      <th>4</th>\n",
       "      <td>1954</td>\n",
       "      <td>519.183673</td>\n",
       "      <td>16.771909</td>\n",
       "    </tr>\n",
       "  </tbody>\n",
       "</table>\n",
       "</div>"
      ],
      "text/plain": [
       "   year  word_count  sentence_count\n",
       "0  1950  466.077778       14.808889\n",
       "1  1951  512.378840       16.023891\n",
       "2  1952  476.099320       15.654422\n",
       "3  1953  521.763547       16.709360\n",
       "4  1954  519.183673       16.771909"
      ]
     },
     "execution_count": 18,
     "metadata": {},
     "output_type": "execute_result"
    }
   ],
   "source": [
    "df_yearly = pd.DataFrame({\"year\":list(df.year), \"word_count\":list(df.word_count), \"sentence_count\":list(df.sentence_count)})\n",
    "df_yearly_grouped = df_yearly.groupby(\"year\").mean().reset_index()\n",
    "print(df_yearly_grouped.shape)\n",
    "df_yearly_grouped.head()"
   ]
  },
  {
   "cell_type": "code",
   "execution_count": 21,
   "metadata": {},
   "outputs": [
    {
     "data": {
      "image/png": "[encoded data removed]",
      "text/plain": [
       "<Figure size 432x288 with 1 Axes>"
      ]
     },
     "metadata": {
      "needs_background": "light"
     },
     "output_type": "display_data"
    }
   ],
   "source": [
    "lengths_viz = sns.scatterplot(data=df_yearly_grouped, x=\"year\", y=\"word_count\")\n",
    "lengths_viz.set(title=\"Average Words per Music Review per Year, 1950-2009\")  # ylim=(0.4,1),\n",
    "lengths_viz.figure.savefig(\"yearly_avg_words_per_review.png\")"
   ]
  },
  {
   "cell_type": "code",
   "execution_count": 22,
   "metadata": {},
   "outputs": [
    {
     "data": {
      "image/png": "[encoded data removed]",
      "text/plain": [
       "<Figure size 432x288 with 1 Axes>"
      ]
     },
     "metadata": {
      "needs_background": "light"
     },
     "output_type": "display_data"
    }
   ],
   "source": [
    "lengths_viz = sns.scatterplot(data=df_yearly_grouped, x=\"year\", y=\"sentence_count\")\n",
    "lengths_viz.set(title=\"Average Sentences per Music Review per Year, 1950-2009\")  # ylim=(0.4,1),\n",
    "lengths_viz.figure.savefig(\"yearly_avg_sentences_per_review.png\")"
   ]
  },
  {
   "cell_type": "markdown",
   "metadata": {},
   "source": [
    "**Articles per Year**"
   ]
  },
  {
   "cell_type": "code",
   "execution_count": 23,
   "metadata": {},
   "outputs": [
    {
     "data": {
      "text/html": [
       "<div>\n",
       "<style scoped>\n",
       "    .dataframe tbody tr th:only-of-type {\n",
       "        vertical-align: middle;\n",
       "    }\n",
       "\n",
       "    .dataframe tbody tr th {\n",
       "        vertical-align: top;\n",
       "    }\n",
       "\n",
       "    .dataframe thead th {\n",
       "        text-align: right;\n",
       "    }\n",
       "</style>\n",
       "<table border=\"1\" class=\"dataframe\">\n",
       "  <thead>\n",
       "    <tr style=\"text-align: right;\">\n",
       "      <th></th>\n",
       "      <th>year</th>\n",
       "      <th>total_articles</th>\n",
       "    </tr>\n",
       "  </thead>\n",
       "  <tbody>\n",
       "    <tr>\n",
       "      <th>55</th>\n",
       "      <td>2005</td>\n",
       "      <td>2559</td>\n",
       "    </tr>\n",
       "    <tr>\n",
       "      <th>56</th>\n",
       "      <td>2006</td>\n",
       "      <td>2387</td>\n",
       "    </tr>\n",
       "    <tr>\n",
       "      <th>57</th>\n",
       "      <td>2007</td>\n",
       "      <td>3271</td>\n",
       "    </tr>\n",
       "    <tr>\n",
       "      <th>58</th>\n",
       "      <td>2008</td>\n",
       "      <td>611</td>\n",
       "    </tr>\n",
       "    <tr>\n",
       "      <th>59</th>\n",
       "      <td>2009</td>\n",
       "      <td>2314</td>\n",
       "    </tr>\n",
       "  </tbody>\n",
       "</table>\n",
       "</div>"
      ],
      "text/plain": [
       "    year  total_articles\n",
       "55  2005            2559\n",
       "56  2006            2387\n",
       "57  2007            3271\n",
       "58  2008             611\n",
       "59  2009            2314"
      ]
     },
     "execution_count": 23,
     "metadata": {},
     "output_type": "execute_result"
    }
   ],
   "source": [
    "df_yearly2 = pd.DataFrame({\"identifier\":list(df.identifier), \"year\":list(df.year)})\n",
    "df_yearly_count = df_yearly2.groupby(\"year\").count().reset_index()\n",
    "df_yearly_count.columns = [\"year\", \"total_articles\"]\n",
    "df_yearly_count.tail()"
   ]
  },
  {
   "cell_type": "code",
   "execution_count": 24,
   "metadata": {},
   "outputs": [
    {
     "data": {
      "text/plain": [
       "(2559, 12)"
      ]
     },
     "execution_count": 24,
     "metadata": {},
     "output_type": "execute_result"
    }
   ],
   "source": [
    "# Check that the counts were made as expected\n",
    "df_test = df[df.year == 2005]\n",
    "df_test.shape"
   ]
  },
  {
   "cell_type": "code",
   "execution_count": 25,
   "metadata": {},
   "outputs": [
    {
     "data": {
      "image/png": "[encoded data removed]",
      "text/plain": [
       "<Figure size 720x1296 with 1 Axes>"
      ]
     },
     "metadata": {},
     "output_type": "display_data"
    }
   ],
   "source": [
    "sns.set_context(\"talk\")  # talk, poster\n",
    "sns.set_style(\"whitegrid\")\n",
    "count_viz = plt.figure(figsize=(10,18))\n",
    "count_viz = sns.barplot(data=df_yearly_count, x=\"total_articles\", y=\"year\", color=\".3\", orient=\"h\")\n",
    "count_viz.set(title=\"Total Music Reviews per Year, 1950-2009\")  # xticks=[1950, 1955, 1960, 1965, 1970, 1975, 1980, 1985, 1990, 1995, 2000, 2005, 2010]\n",
    "plt.show()"
   ]
  },
  {
   "cell_type": "code",
   "execution_count": 26,
   "metadata": {},
   "outputs": [],
   "source": [
    "count_viz.figure.savefig(\"total-reviews-per-year.png\")"
   ]
  },
  {
   "cell_type": "markdown",
   "metadata": {},
   "source": [
    "### 2.2 By Genre\n",
    "\n",
    "Let's create subsets of the data for music reviews about opera, jazz, rap, and rock and then create data visualizations focusing on those genres."
   ]
  },
  {
   "cell_type": "code",
   "execution_count": 27,
   "metadata": {},
   "outputs": [],
   "source": [
    "def termFilter(term_string, dataframe):\n",
    "    df_terms = list(dataframe.term)\n",
    "    with_term = []\n",
    "    for t in df_terms:\n",
    "        if term_string in t:\n",
    "            with_term += [True]\n",
    "        else:\n",
    "            with_term += [False]\n",
    "    \n",
    "    assert(len(with_term) == len(df_terms))\n",
    "    return with_term\n",
    "\n",
    "with_opera = termFilter(\" opera\", df)\n",
    "with_jazz = termFilter(\" jazz\", df)\n",
    "with_rap = termFilter(\" rap\", df)\n",
    "with_rock = termFilter(\" rock\", df)"
   ]
  },
  {
   "cell_type": "code",
   "execution_count": 28,
   "metadata": {},
   "outputs": [
    {
     "name": "stdout",
     "output_type": "stream",
     "text": [
      "(83625, 16)\n"
     ]
    },
    {
     "data": {
      "text/html": [
       "<div>\n",
       "<style scoped>\n",
       "    .dataframe tbody tr th:only-of-type {\n",
       "        vertical-align: middle;\n",
       "    }\n",
       "\n",
       "    .dataframe tbody tr th {\n",
       "        vertical-align: top;\n",
       "    }\n",
       "\n",
       "    .dataframe thead th {\n",
       "        text-align: right;\n",
       "    }\n",
       "</style>\n",
       "<table border=\"1\" class=\"dataframe\">\n",
       "  <thead>\n",
       "    <tr style=\"text-align: right;\">\n",
       "      <th></th>\n",
       "      <th>identifier</th>\n",
       "      <th>title</th>\n",
       "      <th>year</th>\n",
       "      <th>author</th>\n",
       "      <th>term</th>\n",
       "      <th>section</th>\n",
       "      <th>pages</th>\n",
       "      <th>filename</th>\n",
       "      <th>article_id</th>\n",
       "      <th>issue_id</th>\n",
       "      <th>word_count</th>\n",
       "      <th>sentence_count</th>\n",
       "      <th>with_opera</th>\n",
       "      <th>with_jazz</th>\n",
       "      <th>with_rap</th>\n",
       "      <th>with_rock</th>\n",
       "    </tr>\n",
       "  </thead>\n",
       "  <tbody>\n",
       "    <tr>\n",
       "      <th>83620</th>\n",
       "      <td>106805</td>\n",
       "      <td>JR. ^Fjjf U2 Wembley Stadium *k it itiir ft St...</td>\n",
       "      <td>2009</td>\n",
       "      <td>Stephen Dalton</td>\n",
       "      <td>[' bands', ' musical', ' pop', ' rock', ' sing...</td>\n",
       "      <td>Reviews</td>\n",
       "      <td>[]</td>\n",
       "      <td>/lustre/home/dc125/shared/TDA_GDA_1785-2009/19...</td>\n",
       "      <td>0FFO-2009-0817-0081-003</td>\n",
       "      <td>0FFO-2009-0817</td>\n",
       "      <td>435</td>\n",
       "      <td>21</td>\n",
       "      <td>False</td>\n",
       "      <td>False</td>\n",
       "      <td>False</td>\n",
       "      <td>True</td>\n",
       "    </tr>\n",
       "    <tr>\n",
       "      <th>83621</th>\n",
       "      <td>106806</td>\n",
       "      <td>Pop The Juan MacLean Sub Club, Glasgow Lisa Ve...</td>\n",
       "      <td>2009</td>\n",
       "      <td>Lisa Verrico</td>\n",
       "      <td>[' album', ' bands', ' pop', ' rave', ' singer...</td>\n",
       "      <td>Reviews</td>\n",
       "      <td>[]</td>\n",
       "      <td>/lustre/home/dc125/shared/TDA_GDA_1785-2009/19...</td>\n",
       "      <td>0FFO-2009-0818-0080-002</td>\n",
       "      <td>0FFO-2009-0818</td>\n",
       "      <td>434</td>\n",
       "      <td>14</td>\n",
       "      <td>False</td>\n",
       "      <td>False</td>\n",
       "      <td>False</td>\n",
       "      <td>False</td>\n",
       "    </tr>\n",
       "    <tr>\n",
       "      <th>83622</th>\n",
       "      <td>106807</td>\n",
       "      <td>Edinburgh RSNO/Daniel Usher Hall i%iir*k\"kik</td>\n",
       "      <td>2009</td>\n",
       "      <td>Richard Morrison</td>\n",
       "      <td>[' orchestra', ' songs']</td>\n",
       "      <td>Reviews</td>\n",
       "      <td>[]</td>\n",
       "      <td>/lustre/home/dc125/shared/TDA_GDA_1785-2009/19...</td>\n",
       "      <td>0FFO-2009-0818-0080-003</td>\n",
       "      <td>0FFO-2009-0818</td>\n",
       "      <td>422</td>\n",
       "      <td>15</td>\n",
       "      <td>False</td>\n",
       "      <td>False</td>\n",
       "      <td>False</td>\n",
       "      <td>False</td>\n",
       "    </tr>\n",
       "    <tr>\n",
       "      <th>83623</th>\n",
       "      <td>106808</td>\n",
       "      <td>Edinburgh Dance ME (Mobile/ Evolution) RAW Out...</td>\n",
       "      <td>2009</td>\n",
       "      <td>Donald Hutera</td>\n",
       "      <td>[' artists', ' classical', ' dj']</td>\n",
       "      <td>Reviews</td>\n",
       "      <td>[]</td>\n",
       "      <td>/lustre/home/dc125/shared/TDA_GDA_1785-2009/19...</td>\n",
       "      <td>0FFO-2009-0818-0081-001</td>\n",
       "      <td>0FFO-2009-0818</td>\n",
       "      <td>472</td>\n",
       "      <td>21</td>\n",
       "      <td>False</td>\n",
       "      <td>False</td>\n",
       "      <td>False</td>\n",
       "      <td>False</td>\n",
       "    </tr>\n",
       "    <tr>\n",
       "      <th>83624</th>\n",
       "      <td>106809</td>\n",
       "      <td>Dead-end street</td>\n",
       "      <td>2009</td>\n",
       "      <td>Alex Hardy</td>\n",
       "      <td>[' musical']</td>\n",
       "      <td>Reviews</td>\n",
       "      <td>[]</td>\n",
       "      <td>/lustre/home/dc125/shared/TDA_GDA_1785-2009/19...</td>\n",
       "      <td>0FFO-2009-0818-0082-001</td>\n",
       "      <td>0FFO-2009-0818</td>\n",
       "      <td>1131</td>\n",
       "      <td>41</td>\n",
       "      <td>False</td>\n",
       "      <td>False</td>\n",
       "      <td>False</td>\n",
       "      <td>False</td>\n",
       "    </tr>\n",
       "  </tbody>\n",
       "</table>\n",
       "</div>"
      ],
      "text/plain": [
       "       identifier                                              title  year  \\\n",
       "83620      106805  JR. ^Fjjf U2 Wembley Stadium *k it itiir ft St...  2009   \n",
       "83621      106806  Pop The Juan MacLean Sub Club, Glasgow Lisa Ve...  2009   \n",
       "83622      106807       Edinburgh RSNO/Daniel Usher Hall i%iir*k\"kik  2009   \n",
       "83623      106808  Edinburgh Dance ME (Mobile/ Evolution) RAW Out...  2009   \n",
       "83624      106809                                    Dead-end street  2009   \n",
       "\n",
       "                 author                                               term  \\\n",
       "83620    Stephen Dalton  [' bands', ' musical', ' pop', ' rock', ' sing...   \n",
       "83621      Lisa Verrico  [' album', ' bands', ' pop', ' rave', ' singer...   \n",
       "83622  Richard Morrison                           [' orchestra', ' songs']   \n",
       "83623     Donald Hutera                  [' artists', ' classical', ' dj']   \n",
       "83624        Alex Hardy                                       [' musical']   \n",
       "\n",
       "       section pages                                           filename  \\\n",
       "83620  Reviews    []  /lustre/home/dc125/shared/TDA_GDA_1785-2009/19...   \n",
       "83621  Reviews    []  /lustre/home/dc125/shared/TDA_GDA_1785-2009/19...   \n",
       "83622  Reviews    []  /lustre/home/dc125/shared/TDA_GDA_1785-2009/19...   \n",
       "83623  Reviews    []  /lustre/home/dc125/shared/TDA_GDA_1785-2009/19...   \n",
       "83624  Reviews    []  /lustre/home/dc125/shared/TDA_GDA_1785-2009/19...   \n",
       "\n",
       "                    article_id        issue_id  word_count  sentence_count  \\\n",
       "83620  0FFO-2009-0817-0081-003  0FFO-2009-0817         435              21   \n",
       "83621  0FFO-2009-0818-0080-002  0FFO-2009-0818         434              14   \n",
       "83622  0FFO-2009-0818-0080-003  0FFO-2009-0818         422              15   \n",
       "83623  0FFO-2009-0818-0081-001  0FFO-2009-0818         472              21   \n",
       "83624  0FFO-2009-0818-0082-001  0FFO-2009-0818        1131              41   \n",
       "\n",
       "       with_opera  with_jazz  with_rap  with_rock  \n",
       "83620       False      False     False       True  \n",
       "83621       False      False     False      False  \n",
       "83622       False      False     False      False  \n",
       "83623       False      False     False      False  \n",
       "83624       False      False     False      False  "
      ]
     },
     "execution_count": 28,
     "metadata": {},
     "output_type": "execute_result"
    }
   ],
   "source": [
    "df[\"with_opera\"] = with_opera\n",
    "df[\"with_jazz\"] = with_jazz\n",
    "df[\"with_rap\"] = with_rap\n",
    "df[\"with_rock\"] = with_rock\n",
    "print(df.shape)\n",
    "df.tail()"
   ]
  },
  {
   "cell_type": "code",
   "execution_count": 29,
   "metadata": {},
   "outputs": [
    {
     "name": "stdout",
     "output_type": "stream",
     "text": [
      "Opera articles: 18628\n",
      "Jazz articles: 7681\n",
      "Rap articles: 1925\n",
      "Rock articles: 9222\n"
     ]
    }
   ],
   "source": [
    "df_opera = df[df.with_opera == True]\n",
    "df_jazz = df[df.with_jazz == True]\n",
    "df_rap = df[df.with_rap == True]\n",
    "df_rock = df[df.with_rock == True]\n",
    "print(\"Opera articles:\",df_opera.shape[0])\n",
    "print(\"Jazz articles:\",df_jazz.shape[0])\n",
    "print(\"Rap articles:\",df_rap.shape[0])\n",
    "print(\"Rock articles:\",df_rock.shape[0])"
   ]
  },
  {
   "cell_type": "code",
   "execution_count": 30,
   "metadata": {},
   "outputs": [
    {
     "name": "stdout",
     "output_type": "stream",
     "text": [
      "[1952 1957 1960 1962 1964 1966 1969 1972 1973 1975 1976 1977 1978 1980\n",
      " 1981 1982 1983 1984 2000 1986 1987 1988 1989 1990 1991 1992 1993 1994\n",
      " 1995 1996 1997 1998 1999 2001 2002 2003 2004 2005 2006 2007 2008 2009]\n"
     ]
    }
   ],
   "source": [
    "print(df_rap.year.unique())  # some years there aren't any rap articles"
   ]
  },
  {
   "cell_type": "markdown",
   "metadata": {},
   "source": [
    "Are there any music reviews that include a combination of these genres?"
   ]
  },
  {
   "cell_type": "code",
   "execution_count": 31,
   "metadata": {},
   "outputs": [
    {
     "name": "stdout",
     "output_type": "stream",
     "text": [
      "4602 articles appear in the genre subsets of data for more than one of the four genres (opera, jazz, rap, rock)\n"
     ]
    }
   ],
   "source": [
    "opera_identifiers = list(df_opera.identifier)\n",
    "jazz_identifiers = list(df_jazz.identifier)\n",
    "rap_identifiers = list(df_rap.identifier)\n",
    "rock_identifiers = list(df_rock.identifier)\n",
    "multiple_genres = []\n",
    "for i in opera_identifiers:\n",
    "    if i in jazz_identifiers:\n",
    "        multiple_genres += [i]\n",
    "    if i in rap_identifiers:\n",
    "        multiple_genres += [i]\n",
    "    if i in rock_identifiers:\n",
    "        multiple_genres += [i]\n",
    "for i in jazz_identifiers:\n",
    "    if i in rap_identifiers:\n",
    "        multiple_genres += [i]\n",
    "    if i in rock_identifiers:\n",
    "        multiple_genres += [i]\n",
    "for i in rap_identifiers:\n",
    "    if i in rock_identifiers:\n",
    "        multiple_genres += [i]\n",
    "multiple_genres = set(multiple_genres)\n",
    "print(len(multiple_genres), \"articles appear in the genre subsets of data for more than one of the four genres (opera, jazz, rap, rock)\")"
   ]
  },
  {
   "cell_type": "markdown",
   "metadata": {},
   "source": [
    "Now let's visualize the number of articles per year for the genres opera, jazz, rap, and rock."
   ]
  },
  {
   "cell_type": "code",
   "execution_count": 32,
   "metadata": {},
   "outputs": [],
   "source": [
    "genre = []\n",
    "for index,row in df.iterrows():\n",
    "    if row[\"with_opera\"] == True and row[\"with_jazz\"] == False and row[\"with_rap\"] == False and row[\"with_rock\"] == False:\n",
    "        genre += [\"opera\"]\n",
    "    elif row[\"with_opera\"] == False and row[\"with_jazz\"] == True and row[\"with_rap\"] == False and row[\"with_rock\"] == False:\n",
    "        genre += [\"jazz\"]\n",
    "    elif row[\"with_opera\"] == False and row[\"with_jazz\"] == False and row[\"with_rap\"] == True and row[\"with_rock\"] == False:\n",
    "        genre += [\"rap\"]\n",
    "    elif row[\"with_opera\"] == False and row[\"with_jazz\"] == False and row[\"with_rap\"] == False and row[\"with_rock\"] == True:\n",
    "        genre += [\"rock\"]\n",
    "    else:\n",
    "        genre += [\"multiple\"]\n",
    "assert len(genre) == df.shape[0]"
   ]
  },
  {
   "cell_type": "code",
   "execution_count": 33,
   "metadata": {},
   "outputs": [
    {
     "name": "stdout",
     "output_type": "stream",
     "text": [
      "(83625, 6)\n"
     ]
    },
    {
     "data": {
      "text/html": [
       "<div>\n",
       "<style scoped>\n",
       "    .dataframe tbody tr th:only-of-type {\n",
       "        vertical-align: middle;\n",
       "    }\n",
       "\n",
       "    .dataframe tbody tr th {\n",
       "        vertical-align: top;\n",
       "    }\n",
       "\n",
       "    .dataframe thead th {\n",
       "        text-align: right;\n",
       "    }\n",
       "</style>\n",
       "<table border=\"1\" class=\"dataframe\">\n",
       "  <thead>\n",
       "    <tr style=\"text-align: right;\">\n",
       "      <th></th>\n",
       "      <th>identifier</th>\n",
       "      <th>genre</th>\n",
       "      <th>year</th>\n",
       "      <th>author</th>\n",
       "      <th>word_count</th>\n",
       "      <th>sentence_count</th>\n",
       "    </tr>\n",
       "  </thead>\n",
       "  <tbody>\n",
       "    <tr>\n",
       "      <th>0</th>\n",
       "      <td>20787</td>\n",
       "      <td>opera</td>\n",
       "      <td>1950</td>\n",
       "      <td>BY OUR MUSIC CRITIC</td>\n",
       "      <td>849</td>\n",
       "      <td>42</td>\n",
       "    </tr>\n",
       "    <tr>\n",
       "      <th>1</th>\n",
       "      <td>20788</td>\n",
       "      <td>opera</td>\n",
       "      <td>1950</td>\n",
       "      <td>''</td>\n",
       "      <td>367</td>\n",
       "      <td>14</td>\n",
       "    </tr>\n",
       "    <tr>\n",
       "      <th>2</th>\n",
       "      <td>20789</td>\n",
       "      <td>multiple</td>\n",
       "      <td>1950</td>\n",
       "      <td>''</td>\n",
       "      <td>386</td>\n",
       "      <td>11</td>\n",
       "    </tr>\n",
       "    <tr>\n",
       "      <th>3</th>\n",
       "      <td>20790</td>\n",
       "      <td>multiple</td>\n",
       "      <td>1950</td>\n",
       "      <td>''</td>\n",
       "      <td>383</td>\n",
       "      <td>8</td>\n",
       "    </tr>\n",
       "    <tr>\n",
       "      <th>4</th>\n",
       "      <td>20791</td>\n",
       "      <td>multiple</td>\n",
       "      <td>1950</td>\n",
       "      <td>BY OUR MUSIC CRITIC</td>\n",
       "      <td>738</td>\n",
       "      <td>23</td>\n",
       "    </tr>\n",
       "  </tbody>\n",
       "</table>\n",
       "</div>"
      ],
      "text/plain": [
       "   identifier     genre  year               author  word_count  sentence_count\n",
       "0       20787     opera  1950  BY OUR MUSIC CRITIC         849              42\n",
       "1       20788     opera  1950                   ''         367              14\n",
       "2       20789  multiple  1950                   ''         386              11\n",
       "3       20790  multiple  1950                   ''         383               8\n",
       "4       20791  multiple  1950  BY OUR MUSIC CRITIC         738              23"
      ]
     },
     "execution_count": 33,
     "metadata": {},
     "output_type": "execute_result"
    }
   ],
   "source": [
    "df_genres = pd.DataFrame({\"identifier\":list(df.identifier), \"genre\":genre, \"year\":list(df.year), \"author\":list(df.author), \n",
    "                         \"word_count\":list(df.word_count), \"sentence_count\":df.sentence_count})\n",
    "print(df_genres.shape)\n",
    "df_genres.head()"
   ]
  },
  {
   "cell_type": "code",
   "execution_count": 34,
   "metadata": {},
   "outputs": [
    {
     "data": {
      "image/png": "[encoded data removed]",
      "text/plain": [
       "<Figure size 432x288 with 1 Axes>"
      ]
     },
     "metadata": {},
     "output_type": "display_data"
    }
   ],
   "source": [
    "# Number of articles per genre\n",
    "# sns.catplot(x=\"year\", hue=\"genre\", kind=\"count\", data=df_genres)\n",
    "per_genre = sns.countplot(x=\"genre\", color=\"c\", data=df_genres)\n",
    "per_genre.set(title=\"Total Music Reviews Per Genre\")\n",
    "per_genre.figure.savefig(\"reviews_per_genre_with_overlaps.png\")"
   ]
  },
  {
   "cell_type": "code",
   "execution_count": 35,
   "metadata": {},
   "outputs": [
    {
     "name": "stdout",
     "output_type": "stream",
     "text": [
      "(27462, 6)\n"
     ]
    },
    {
     "data": {
      "text/html": [
       "<div>\n",
       "<style scoped>\n",
       "    .dataframe tbody tr th:only-of-type {\n",
       "        vertical-align: middle;\n",
       "    }\n",
       "\n",
       "    .dataframe tbody tr th {\n",
       "        vertical-align: top;\n",
       "    }\n",
       "\n",
       "    .dataframe thead th {\n",
       "        text-align: right;\n",
       "    }\n",
       "</style>\n",
       "<table border=\"1\" class=\"dataframe\">\n",
       "  <thead>\n",
       "    <tr style=\"text-align: right;\">\n",
       "      <th></th>\n",
       "      <th>identifier</th>\n",
       "      <th>genre</th>\n",
       "      <th>year</th>\n",
       "      <th>author</th>\n",
       "      <th>word_count</th>\n",
       "      <th>sentence_count</th>\n",
       "    </tr>\n",
       "  </thead>\n",
       "  <tbody>\n",
       "    <tr>\n",
       "      <th>0</th>\n",
       "      <td>20787</td>\n",
       "      <td>opera</td>\n",
       "      <td>1950</td>\n",
       "      <td>BY OUR MUSIC CRITIC</td>\n",
       "      <td>849</td>\n",
       "      <td>42</td>\n",
       "    </tr>\n",
       "    <tr>\n",
       "      <th>1</th>\n",
       "      <td>20788</td>\n",
       "      <td>opera</td>\n",
       "      <td>1950</td>\n",
       "      <td>''</td>\n",
       "      <td>367</td>\n",
       "      <td>14</td>\n",
       "    </tr>\n",
       "    <tr>\n",
       "      <th>5</th>\n",
       "      <td>20792</td>\n",
       "      <td>opera</td>\n",
       "      <td>1950</td>\n",
       "      <td>''</td>\n",
       "      <td>249</td>\n",
       "      <td>8</td>\n",
       "    </tr>\n",
       "    <tr>\n",
       "      <th>10</th>\n",
       "      <td>20797</td>\n",
       "      <td>opera</td>\n",
       "      <td>1950</td>\n",
       "      <td>''</td>\n",
       "      <td>767</td>\n",
       "      <td>21</td>\n",
       "    </tr>\n",
       "    <tr>\n",
       "      <th>13</th>\n",
       "      <td>20800</td>\n",
       "      <td>opera</td>\n",
       "      <td>1950</td>\n",
       "      <td>''</td>\n",
       "      <td>853</td>\n",
       "      <td>34</td>\n",
       "    </tr>\n",
       "  </tbody>\n",
       "</table>\n",
       "</div>"
      ],
      "text/plain": [
       "    identifier  genre  year               author  word_count  sentence_count\n",
       "0        20787  opera  1950  BY OUR MUSIC CRITIC         849              42\n",
       "1        20788  opera  1950                   ''         367              14\n",
       "5        20792  opera  1950                   ''         249               8\n",
       "10       20797  opera  1950                   ''         767              21\n",
       "13       20800  opera  1950                   ''         853              34"
      ]
     },
     "execution_count": 35,
     "metadata": {},
     "output_type": "execute_result"
    }
   ],
   "source": [
    "df_genres_excl = df_genres[df_genres.genre != \"multiple\"]\n",
    "print(df_genres_excl.shape)\n",
    "df_genres_excl.head()"
   ]
  },
  {
   "cell_type": "code",
   "execution_count": 36,
   "metadata": {},
   "outputs": [
    {
     "data": {
      "image/png": "[encoded data removed]",
      "text/plain": [
       "<Figure size 432x288 with 1 Axes>"
      ]
     },
     "metadata": {},
     "output_type": "display_data"
    }
   ],
   "source": [
    "per_genre_excl = sns.countplot(x=\"genre\", color=\"g\", data=df_genres_excl)\n",
    "per_genre_excl.set(title=\"Total Reviews Per Genre Excluding Multiple Genres\")\n",
    "per_genre_excl.figure.savefig(\"reviews_per_genre_without_overlap.png\")"
   ]
  },
  {
   "cell_type": "code",
   "execution_count": 37,
   "metadata": {},
   "outputs": [],
   "source": [
    "# df_genres_grouped = df_genres.groupby(\"year\")\n",
    "# df_genres_grouped.head()\n",
    "\n",
    "def getArticlesPerGenrePerYear(df, genre):\n",
    "    genre_only = df[df.genre == genre]\n",
    "    genre_year_counts = []\n",
    "    years = df.year.unique()\n",
    "    for y in years:\n",
    "        genre_year_counts += [(genre_only[genre_only.year == y]).shape[0]]\n",
    "    return genre_year_counts\n",
    "    \n",
    "opera_yearly = getArticlesPerGenrePerYear(df_genres, \"opera\")\n",
    "jazz_yearly = getArticlesPerGenrePerYear(df_genres, \"jazz\")\n",
    "rap_yearly = getArticlesPerGenrePerYear(df_genres, \"rap\")\n",
    "rock_yearly = getArticlesPerGenrePerYear(df_genres, \"rock\")"
   ]
  },
  {
   "cell_type": "code",
   "execution_count": 38,
   "metadata": {},
   "outputs": [
    {
     "data": {
      "text/html": [
       "<div>\n",
       "<style scoped>\n",
       "    .dataframe tbody tr th:only-of-type {\n",
       "        vertical-align: middle;\n",
       "    }\n",
       "\n",
       "    .dataframe tbody tr th {\n",
       "        vertical-align: top;\n",
       "    }\n",
       "\n",
       "    .dataframe thead th {\n",
       "        text-align: right;\n",
       "    }\n",
       "</style>\n",
       "<table border=\"1\" class=\"dataframe\">\n",
       "  <thead>\n",
       "    <tr style=\"text-align: right;\">\n",
       "      <th></th>\n",
       "      <th>year</th>\n",
       "      <th>opera</th>\n",
       "      <th>jazz</th>\n",
       "      <th>rap</th>\n",
       "      <th>rock</th>\n",
       "    </tr>\n",
       "  </thead>\n",
       "  <tbody>\n",
       "    <tr>\n",
       "      <th>0</th>\n",
       "      <td>1950</td>\n",
       "      <td>114</td>\n",
       "      <td>4</td>\n",
       "      <td>0</td>\n",
       "      <td>1</td>\n",
       "    </tr>\n",
       "    <tr>\n",
       "      <th>1</th>\n",
       "      <td>1951</td>\n",
       "      <td>154</td>\n",
       "      <td>2</td>\n",
       "      <td>0</td>\n",
       "      <td>3</td>\n",
       "    </tr>\n",
       "    <tr>\n",
       "      <th>2</th>\n",
       "      <td>1952</td>\n",
       "      <td>155</td>\n",
       "      <td>2</td>\n",
       "      <td>2</td>\n",
       "      <td>6</td>\n",
       "    </tr>\n",
       "    <tr>\n",
       "      <th>3</th>\n",
       "      <td>1953</td>\n",
       "      <td>207</td>\n",
       "      <td>4</td>\n",
       "      <td>0</td>\n",
       "      <td>4</td>\n",
       "    </tr>\n",
       "    <tr>\n",
       "      <th>4</th>\n",
       "      <td>1954</td>\n",
       "      <td>201</td>\n",
       "      <td>5</td>\n",
       "      <td>0</td>\n",
       "      <td>6</td>\n",
       "    </tr>\n",
       "  </tbody>\n",
       "</table>\n",
       "</div>"
      ],
      "text/plain": [
       "   year  opera  jazz  rap  rock\n",
       "0  1950    114     4    0     1\n",
       "1  1951    154     2    0     3\n",
       "2  1952    155     2    2     6\n",
       "3  1953    207     4    0     4\n",
       "4  1954    201     5    0     6"
      ]
     },
     "execution_count": 38,
     "metadata": {},
     "output_type": "execute_result"
    }
   ],
   "source": [
    "years = df_genres.year.unique()\n",
    "df_genre_yearly = pd.DataFrame({\"year\":years, \"opera\":opera_yearly, \"jazz\":jazz_yearly, \"rap\":rap_yearly, \"rock\":rock_yearly})\n",
    "df_genre_yearly.head()"
   ]
  },
  {
   "cell_type": "code",
   "execution_count": 39,
   "metadata": {},
   "outputs": [
    {
     "data": {
      "text/html": [
       "<div>\n",
       "<style scoped>\n",
       "    .dataframe tbody tr th:only-of-type {\n",
       "        vertical-align: middle;\n",
       "    }\n",
       "\n",
       "    .dataframe tbody tr th {\n",
       "        vertical-align: top;\n",
       "    }\n",
       "\n",
       "    .dataframe thead th {\n",
       "        text-align: right;\n",
       "    }\n",
       "</style>\n",
       "<table border=\"1\" class=\"dataframe\">\n",
       "  <thead>\n",
       "    <tr style=\"text-align: right;\">\n",
       "      <th></th>\n",
       "      <th>Year</th>\n",
       "      <th>Genre</th>\n",
       "      <th>Total Articles</th>\n",
       "    </tr>\n",
       "  </thead>\n",
       "  <tbody>\n",
       "    <tr>\n",
       "      <th>0</th>\n",
       "      <td>1950</td>\n",
       "      <td>opera</td>\n",
       "      <td>114</td>\n",
       "    </tr>\n",
       "    <tr>\n",
       "      <th>1</th>\n",
       "      <td>1951</td>\n",
       "      <td>opera</td>\n",
       "      <td>154</td>\n",
       "    </tr>\n",
       "    <tr>\n",
       "      <th>2</th>\n",
       "      <td>1952</td>\n",
       "      <td>opera</td>\n",
       "      <td>155</td>\n",
       "    </tr>\n",
       "    <tr>\n",
       "      <th>3</th>\n",
       "      <td>1953</td>\n",
       "      <td>opera</td>\n",
       "      <td>207</td>\n",
       "    </tr>\n",
       "    <tr>\n",
       "      <th>4</th>\n",
       "      <td>1954</td>\n",
       "      <td>opera</td>\n",
       "      <td>201</td>\n",
       "    </tr>\n",
       "  </tbody>\n",
       "</table>\n",
       "</div>"
      ],
      "text/plain": [
       "   Year  Genre  Total Articles\n",
       "0  1950  opera             114\n",
       "1  1951  opera             154\n",
       "2  1952  opera             155\n",
       "3  1953  opera             207\n",
       "4  1954  opera             201"
      ]
     },
     "execution_count": 39,
     "metadata": {},
     "output_type": "execute_result"
    }
   ],
   "source": [
    "df_genre_yearly_melted = df_genre_yearly.melt(id_vars=[\"year\"], value_vars=[\"opera\", \"jazz\", \"rap\", \"rock\"])\n",
    "df_genre_yearly_melted.rename(columns={\"year\":\"Year\", \"variable\":\"Genre\", \"value\":\"Total Articles\"}, inplace=True)\n",
    "df_genre_yearly_melted.head()"
   ]
  },
  {
   "cell_type": "code",
   "execution_count": 44,
   "metadata": {},
   "outputs": [],
   "source": [
    "df_genre_yearly_melted[\"Total Articles\"].replace({0:np.nan}, inplace=True)"
   ]
  },
  {
   "cell_type": "code",
   "execution_count": 45,
   "metadata": {},
   "outputs": [
    {
     "data": {
      "image/png": "[encoded data removed]",
      "text/plain": [
       "<Figure size 1152x864 with 1 Axes>"
      ]
     },
     "metadata": {},
     "output_type": "display_data"
    }
   ],
   "source": [
    "genre_year_viz = plt.figure(figsize=(16,12))\n",
    "genre_year_viz = sns.scatterplot(data=df_genre_yearly_melted, x=\"Year\", y=\"Total Articles\", hue=\"Genre\")\n",
    "genre_year_viz.set(title=\"Total Music Reviews per Year for Four Genres from The Times, 1950-2009\", ylim=(0), xlim=(1950,2009))\n",
    "# Put the legend out of the figure\n",
    "plt.legend(bbox_to_anchor=(1.05, 1), loc=2, borderaxespad=0.)\n",
    "plt.show()\n",
    "genre_year_viz.figure.savefig(\"reviews_per_year_per_genre.png\")"
   ]
  },
  {
   "cell_type": "code",
   "execution_count": null,
   "metadata": {},
   "outputs": [],
   "source": []
  }
 ],
 "metadata": {
  "kernelspec": {
   "display_name": "Python 3",
   "language": "python",
   "name": "python3"
  },
  "language_info": {
   "codemirror_mode": {
    "name": "ipython",
    "version": 3
   },
   "file_extension": ".py",
   "mimetype": "text/x-python",
   "name": "python",
   "nbconvert_exporter": "python",
   "pygments_lexer": "ipython3",
   "version": "3.8.5"
  }
 },
 "nbformat": 4,
 "nbformat_minor": 4
}
