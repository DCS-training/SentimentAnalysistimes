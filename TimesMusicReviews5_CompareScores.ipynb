{
 "cells": [
  {
   "cell_type": "markdown",
   "metadata": {},
   "source": [
    "# Sentiment Analysis of *The Times* Music Reviews\n",
    "## Part V: Comparison of Manual and VADER Sentiment Scores\n",
    "*How have artforms been reported?  Is there a status hierarchy between them?  How has this changed over time?*\n",
    "\n",
    "* **Project:** What counts as culture?  Reporting and criticism in The Times 1785-2000\n",
    "* **Project Lead:** Dave O'Brien\n",
    "* **Developer:** Lucy Havens\n",
    "* **Funding:** from the Centre for Data, Culture & Society, University of Edinburgh\n",
    "* **Dataset:** 83,625 reviews about music published in The Times from 1950 through 2009\n",
    "\n",
    "Begun February 2021\n",
    "\n",
    "***\n",
    "\n",
    "## 1. Prepare the Data\n",
    "\n",
    "Before we can begin coding, we must first import the programming libraries we'd like to use in our code."
   ]
  },
  {
   "cell_type": "code",
   "execution_count": 9,
   "metadata": {},
   "outputs": [],
   "source": [
    "# For data loading\n",
    "import re\n",
    "import string\n",
    "import random\n",
    "import math\n",
    "import numpy as np\n",
    "import pandas as pd\n",
    "\n",
    "# For text analysis\n",
    "import nltk\n",
    "from nltk.tokenize import word_tokenize, sent_tokenize\n",
    "# nltk.download('punkt')\n",
    "from nltk.corpus import PlaintextCorpusReader\n",
    "# nltk.download('wordnet')\n",
    "from nltk.corpus import wordnet\n",
    "# nltk.download('stopwords')\n",
    "from nltk.corpus import stopwords\n",
    "from nltk.text import Text\n",
    "# nltk.download('averaged_perceptron_tagger')\n",
    "# nltk.download('tagsets')  # part of speech tags\n",
    "from nltk.tag import pos_tag\n",
    "\n",
    "# For data visualization\n",
    "import matplotlib.pyplot as plt\n",
    "import altair as alt   ###  Need to figure out why Altair returns error! (Javascript Error: Unrecognized transform type: \"formula\")\n",
    "import seaborn as sns"
   ]
  },
  {
   "cell_type": "markdown",
   "metadata": {},
   "source": [
    "### 1.1 Select Reviews for Manual Sentiment Analysis"
   ]
  },
  {
   "cell_type": "markdown",
   "metadata": {},
   "source": [
    "To get a sense of how well the sentiment analyzer performs, we can read some of these reviews and judge for ourselves whether the VADER scores seem accurate!  \n",
    "\n",
    "Let's randomly select music reviews with at least one of the four genres we're focusing on (opera, jazz, rap, and rock), getting a selection of articles published in every year from 1950 through 2009."
   ]
  },
  {
   "cell_type": "code",
   "execution_count": 11,
   "metadata": {},
   "outputs": [],
   "source": [
    "# Load a DataFrame of reviews and their sentiment scores\n",
    "df = pd.read_csv(\"../TheTimes_DaveO/TheTimesArticles_1950-2009_MetadataWithVADERSentiments.csv\")"
   ]
  },
  {
   "cell_type": "code",
   "execution_count": 14,
   "metadata": {},
   "outputs": [
    {
     "name": "stdout",
     "output_type": "stream",
     "text": [
      "Opera articles: 18628\n",
      "Jazz articles: 7681\n",
      "Rap articles: 1925\n",
      "Rock articles: 9222\n"
     ]
    }
   ],
   "source": [
    "#  Input: music-related term and a DataFrame of music review metadata\n",
    "# Output: a list of booleans (True or False) noting which reviews have the input term\n",
    "def termFilter(term_string, dataframe):\n",
    "    df_terms = list(dataframe.term)\n",
    "    with_term = []\n",
    "    for t in df_terms:\n",
    "        if term_string in t:\n",
    "            with_term += [True]\n",
    "        else:\n",
    "            with_term += [False]\n",
    "    \n",
    "    assert(len(with_term) == len(df_terms))\n",
    "    return with_term\n",
    "\n",
    "# Determine which music reviews have the words opera, jazz, rap, and rock\n",
    "with_opera = termFilter(\"opera\", df)\n",
    "with_jazz = termFilter(\"jazz\", df)\n",
    "with_rap = termFilter(\"rap\", df)\n",
    "with_rock = termFilter(\"rock\", df)\n",
    "\n",
    "# Add the lists of booleans to the DataFrame of music review metadata (including sentiment scores)\n",
    "df[\"with_opera\"] = with_opera\n",
    "df[\"with_jazz\"] = with_jazz\n",
    "df[\"with_rap\"] = with_rap\n",
    "df[\"with_rock\"] = with_rock\n",
    "\n",
    "# Create subsets of data, making one DataFrame of music reviews per genre\n",
    "df_opera = df[df.with_opera == True]\n",
    "df_jazz = df[df.with_jazz == True]\n",
    "df_rap = df[df.with_rap == True]\n",
    "df_rock = df[df.with_rock == True]\n",
    "print(\"Opera articles:\",df_opera.shape[0])\n",
    "print(\"Jazz articles:\",df_jazz.shape[0])\n",
    "print(\"Rap articles:\",df_rap.shape[0])\n",
    "print(\"Rock articles:\",df_rock.shape[0])"
   ]
  },
  {
   "cell_type": "code",
   "execution_count": 15,
   "metadata": {},
   "outputs": [],
   "source": [
    "# Create a 2D list of files for each genre, with one list per year of publication\n",
    "def listsOfArticlesPerYear(dataframe):\n",
    "    # Get a non-repeating list of all years in the dataframe\n",
    "    years = dataframe.year.unique()\n",
    "    articles = []\n",
    "    for y in years:\n",
    "        # For each year, create a list of articles published in that year\n",
    "        # and add those articles' identifiers to a list \n",
    "        articles += [list(dataframe[dataframe.year == y].filepath)]\n",
    "    # Return the two-dimensional list of articles (one sub-list per year) \n",
    "    return articles\n",
    "\n",
    "opera_ids = listsOfArticlesPerYear(df_opera)\n",
    "# print(opera_ids[1:2])\n",
    "jazz_ids = listsOfArticlesPerYear(df_jazz)\n",
    "rap_ids = listsOfArticlesPerYear(df_rap)\n",
    "rock_ids = listsOfArticlesPerYear(df_rock)"
   ]
  },
  {
   "cell_type": "code",
   "execution_count": 16,
   "metadata": {},
   "outputs": [
    {
     "name": "stdout",
     "output_type": "stream",
     "text": [
      "Number of publication years for our corpus: 60\n",
      "\n",
      "Opera articles to read: 60\n",
      "Jazz articles to read: 60\n",
      "Rap articles to read: 42\n",
      "Rock articles to read: 60\n",
      "\n",
      "Articles to read: 222\n"
     ]
    }
   ],
   "source": [
    "year_entries = len(df.year.unique())\n",
    "print(\"Number of publication years for our corpus:\",year_entries)\n",
    "\n",
    "# Randomly select one article from each year from each genre's identifiers lists\n",
    "def randomSelection(twoDlist):\n",
    "    to_read = []\n",
    "    for year_of_articles in twoDlist:\n",
    "        to_read += [random.choice(year_of_articles)]\n",
    "    return to_read\n",
    "\n",
    "read_opera = randomSelection(opera_ids)\n",
    "print(\"\\nOpera articles to read:\", len(read_opera))\n",
    "read_jazz = randomSelection(jazz_ids)\n",
    "print(\"Jazz articles to read:\", len(read_jazz))\n",
    "read_rap = randomSelection(rap_ids)\n",
    "print(\"Rap articles to read:\", len(read_rap))\n",
    "read_rock = randomSelection(rock_ids)\n",
    "print(\"Rock articles to read:\", len(read_rock))\n",
    "print(\"\\nArticles to read:\",len(read_opera)+len(read_jazz)+len(read_rap)+len(read_rock))"
   ]
  },
  {
   "cell_type": "markdown",
   "metadata": {},
   "source": [
    "I'm also going to add five articles with the maximum and minimum VADER scores to our subset of articles to read and manually analyze the sentiment of tem."
   ]
  },
  {
   "cell_type": "code",
   "execution_count": 17,
   "metadata": {},
   "outputs": [
    {
     "name": "stdout",
     "output_type": "stream",
     "text": [
      "['TheTimesMusicReviews_1950-2009_part1/70658', 'TheTimesMusicReviews_1950-2009_part1/64287']\n",
      "Total articles to read: 227\n"
     ]
    }
   ],
   "source": [
    "max_min_scores = [70658, 64287, 21217, 98832, 72571]\n",
    "to_read = []\n",
    "for identifier in max_min_scores:\n",
    "    filepath = list(df.filepath[df.identifier == identifier])[0]\n",
    "    identifier = re.findall(\"\\d{5,}\", filepath)[0]\n",
    "    to_read.append(filepath)\n",
    "\n",
    "def flattenTwoDLists(genre_list, to_read):\n",
    "    for id_list in genre_list:\n",
    "        for filepath in id_list:\n",
    "            to_read += [filepath]\n",
    "    return to_read\n",
    "\n",
    "to_read_ids = flattenTwoDLists([read_opera, read_jazz, read_rock, read_rap], to_read)\n",
    "print(to_read_ids[0:2])\n",
    "print(\"Total articles to read:\", len(to_read_ids))"
   ]
  },
  {
   "cell_type": "markdown",
   "metadata": {},
   "source": [
    "Now let's export the selected reviews so we can read and manually score their sentiment."
   ]
  },
  {
   "cell_type": "code",
   "execution_count": 18,
   "metadata": {},
   "outputs": [
    {
     "name": "stdout",
     "output_type": "stream",
     "text": [
      "TheTimesMusicReviews_1950-2009_part1/20787\n"
     ]
    }
   ],
   "source": [
    "data_path = \"../TheTimes_DaveO/TheTimesMusicReviews_1950-2009\"\n",
    "articles = PlaintextCorpusReader(data_path, \".+/.+\", encoding='utf-8')\n",
    "fileids = articles.fileids()\n",
    "print(fileids[0])"
   ]
  },
  {
   "cell_type": "code",
   "execution_count": 22,
   "metadata": {},
   "outputs": [
    {
     "name": "stdout",
     "output_type": "stream",
     "text": [
      "Files ready for manual sentiment analysis in the directory ToReadAndScore!\n"
     ]
    }
   ],
   "source": [
    "for filepath in to_read_ids:\n",
    "    file = open(\"../TheTimes_DaveO/ToReadAndScore/\"+str(filepath), \"a\")\n",
    "    file.write(articles.raw(filepath))\n",
    "    file.close()\n",
    "    \n",
    "print(\"Files ready for manual sentiment analysis in the directory ToReadAndScore!\")"
   ]
  },
  {
   "cell_type": "markdown",
   "metadata": {},
   "source": [
    "Let's make sure the division of the files is relatively equal in word length."
   ]
  },
  {
   "cell_type": "code",
   "execution_count": 31,
   "metadata": {},
   "outputs": [],
   "source": [
    "dave_path =  \"../TheTimes_DaveO/ToReadAndScore/Dave\"\n",
    "dave = PlaintextCorpusReader(dave_path, \".+\", encoding='utf-8')\n",
    "dave_tokens = dave.words()\n",
    "orian_path =  \"../TheTimes_DaveO/ToReadAndScore/Orian\"\n",
    "orian = PlaintextCorpusReader(orian_path, \".+\", encoding='utf-8')\n",
    "orian_tokens = orian.words()\n",
    "lucy_path =  \"../TheTimes_DaveO/ToReadAndScore/Lucy\"\n",
    "lucy = PlaintextCorpusReader(lucy_path, \".+\", encoding='utf-8')\n",
    "lucy_tokens = lucy.words()"
   ]
  },
  {
   "cell_type": "code",
   "execution_count": 32,
   "metadata": {},
   "outputs": [
    {
     "name": "stdout",
     "output_type": "stream",
     "text": [
      "76739\n",
      "76396\n",
      "62749\n"
     ]
    }
   ],
   "source": [
    "print(len(dave_tokens))\n",
    "print(len(orian_tokens))\n",
    "print(len(lucy_tokens))"
   ]
  },
  {
   "cell_type": "markdown",
   "metadata": {},
   "source": [
    "Great!  After scoring these articles, we'll compare our manually calculated sentiment scores with the scores VADER assigns in the sections below."
   ]
  },
  {
   "cell_type": "markdown",
   "metadata": {},
   "source": [
    "### 1.2 Load Sentiment Scores\n",
    "**Step 1:** Load the data with VADER scores for each review in our corpus of articles from The Times as a DataFrame (which is a type of table used in the Python library pandas) called `vader`."
   ]
  },
  {
   "cell_type": "code",
   "execution_count": 27,
   "metadata": {},
   "outputs": [
    {
     "name": "stdout",
     "output_type": "stream",
     "text": [
      "Total Reviews (rows in table): 83625\n"
     ]
    },
    {
     "data": {
      "text/html": [
       "<div>\n",
       "<style scoped>\n",
       "    .dataframe tbody tr th:only-of-type {\n",
       "        vertical-align: middle;\n",
       "    }\n",
       "\n",
       "    .dataframe tbody tr th {\n",
       "        vertical-align: top;\n",
       "    }\n",
       "\n",
       "    .dataframe thead th {\n",
       "        text-align: right;\n",
       "    }\n",
       "</style>\n",
       "<table border=\"1\" class=\"dataframe\">\n",
       "  <thead>\n",
       "    <tr style=\"text-align: right;\">\n",
       "      <th></th>\n",
       "      <th>identifier</th>\n",
       "      <th>title</th>\n",
       "      <th>year</th>\n",
       "      <th>author</th>\n",
       "      <th>term</th>\n",
       "      <th>section</th>\n",
       "      <th>pages</th>\n",
       "      <th>filename</th>\n",
       "      <th>article_id</th>\n",
       "      <th>issue_id</th>\n",
       "      <th>filepath</th>\n",
       "      <th>compound</th>\n",
       "      <th>positive</th>\n",
       "      <th>neutral</th>\n",
       "      <th>negative</th>\n",
       "    </tr>\n",
       "  </thead>\n",
       "  <tbody>\n",
       "    <tr>\n",
       "      <th>0</th>\n",
       "      <td>20787</td>\n",
       "      <td>SOME NEW SCORES MOTET AND OPERA</td>\n",
       "      <td>1950</td>\n",
       "      <td>BY OUR MUSIC CRITIC</td>\n",
       "      <td>[' bands', ' composer', ' musical', ' opera', ...</td>\n",
       "      <td>Reviews</td>\n",
       "      <td>[]</td>\n",
       "      <td>/lustre/home/dc125/shared/TDA_GDA_1785-2009/19...</td>\n",
       "      <td>0FFO-1950-JUN30-008-023</td>\n",
       "      <td>0FFO-1950-JUN30</td>\n",
       "      <td>TheTimesMusicReviews_1950-2009_part1/20787</td>\n",
       "      <td>0.9897</td>\n",
       "      <td>0.075</td>\n",
       "      <td>0.912</td>\n",
       "      <td>0.013</td>\n",
       "    </tr>\n",
       "    <tr>\n",
       "      <th>1</th>\n",
       "      <td>20788</td>\n",
       "      <td>THE ROYAL OPERA \" TRISTAN AND ISOLDE \"</td>\n",
       "      <td>1950</td>\n",
       "      <td>''</td>\n",
       "      <td>[' opera', ' orchestra']</td>\n",
       "      <td>Reviews</td>\n",
       "      <td>[]</td>\n",
       "      <td>/lustre/home/dc125/shared/TDA_GDA_1785-2009/19...</td>\n",
       "      <td>0FFO-1950-JUN30-008-027</td>\n",
       "      <td>0FFO-1950-JUN30</td>\n",
       "      <td>TheTimesMusicReviews_1950-2009_part1/20788</td>\n",
       "      <td>0.9978</td>\n",
       "      <td>0.230</td>\n",
       "      <td>0.744</td>\n",
       "      <td>0.025</td>\n",
       "    </tr>\n",
       "    <tr>\n",
       "      <th>2</th>\n",
       "      <td>20789</td>\n",
       "      <td>GROWING TASTE FOR MUSIC PLEA FOR ENLARGED QUEE...</td>\n",
       "      <td>1950</td>\n",
       "      <td>''</td>\n",
       "      <td>[' country']</td>\n",
       "      <td>Reviews</td>\n",
       "      <td>[]</td>\n",
       "      <td>/lustre/home/dc125/shared/TDA_GDA_1785-2009/19...</td>\n",
       "      <td>0FFO-1950-JUN30-008-032</td>\n",
       "      <td>0FFO-1950-JUN30</td>\n",
       "      <td>TheTimesMusicReviews_1950-2009_part1/20789</td>\n",
       "      <td>0.9912</td>\n",
       "      <td>0.124</td>\n",
       "      <td>0.866</td>\n",
       "      <td>0.010</td>\n",
       "    </tr>\n",
       "  </tbody>\n",
       "</table>\n",
       "</div>"
      ],
      "text/plain": [
       "   identifier                                              title  year  \\\n",
       "0       20787                    SOME NEW SCORES MOTET AND OPERA  1950   \n",
       "1       20788             THE ROYAL OPERA \" TRISTAN AND ISOLDE \"  1950   \n",
       "2       20789  GROWING TASTE FOR MUSIC PLEA FOR ENLARGED QUEE...  1950   \n",
       "\n",
       "                author                                               term  \\\n",
       "0  BY OUR MUSIC CRITIC  [' bands', ' composer', ' musical', ' opera', ...   \n",
       "1                   ''                           [' opera', ' orchestra']   \n",
       "2                   ''                                       [' country']   \n",
       "\n",
       "   section pages                                           filename  \\\n",
       "0  Reviews    []  /lustre/home/dc125/shared/TDA_GDA_1785-2009/19...   \n",
       "1  Reviews    []  /lustre/home/dc125/shared/TDA_GDA_1785-2009/19...   \n",
       "2  Reviews    []  /lustre/home/dc125/shared/TDA_GDA_1785-2009/19...   \n",
       "\n",
       "                article_id         issue_id  \\\n",
       "0  0FFO-1950-JUN30-008-023  0FFO-1950-JUN30   \n",
       "1  0FFO-1950-JUN30-008-027  0FFO-1950-JUN30   \n",
       "2  0FFO-1950-JUN30-008-032  0FFO-1950-JUN30   \n",
       "\n",
       "                                     filepath  compound  positive  neutral  \\\n",
       "0  TheTimesMusicReviews_1950-2009_part1/20787    0.9897     0.075    0.912   \n",
       "1  TheTimesMusicReviews_1950-2009_part1/20788    0.9978     0.230    0.744   \n",
       "2  TheTimesMusicReviews_1950-2009_part1/20789    0.9912     0.124    0.866   \n",
       "\n",
       "   negative  \n",
       "0     0.013  \n",
       "1     0.025  \n",
       "2     0.010  "
      ]
     },
     "execution_count": 27,
     "metadata": {},
     "output_type": "execute_result"
    }
   ],
   "source": [
    "vader = pd.read_csv(\"../TheTimes_DaveO/TheTimesArticles_1950-2009_MetadataWithVADERSentiments.csv\")\n",
    "vader.drop(columns={\"Unnamed: 0\"}, inplace=True)\n",
    "print(\"Total Reviews (rows in table):\", vader.shape[0])\n",
    "vader.head(3)"
   ]
  },
  {
   "cell_type": "markdown",
   "metadata": {},
   "source": [
    "**Step 2:** Load the data of manual sentiment scores as DataFrames `man1`, `man2`, and `man3`.  We'll also remove any `NaN` (not an integer) scores that may have been recorded for articles that weren't actually about the music genres opera, rock, rap, or jazz."
   ]
  },
  {
   "cell_type": "code",
   "execution_count": 58,
   "metadata": {},
   "outputs": [
    {
     "data": {
      "text/html": [
       "<div>\n",
       "<style scoped>\n",
       "    .dataframe tbody tr th:only-of-type {\n",
       "        vertical-align: middle;\n",
       "    }\n",
       "\n",
       "    .dataframe tbody tr th {\n",
       "        vertical-align: top;\n",
       "    }\n",
       "\n",
       "    .dataframe thead th {\n",
       "        text-align: right;\n",
       "    }\n",
       "</style>\n",
       "<table border=\"1\" class=\"dataframe\">\n",
       "  <thead>\n",
       "    <tr style=\"text-align: right;\">\n",
       "      <th></th>\n",
       "      <th>identifier</th>\n",
       "      <th>manual score</th>\n",
       "      <th>person</th>\n",
       "    </tr>\n",
       "  </thead>\n",
       "  <tbody>\n",
       "    <tr>\n",
       "      <th>2</th>\n",
       "      <td>71435</td>\n",
       "      <td>5</td>\n",
       "      <td>dave</td>\n",
       "    </tr>\n",
       "    <tr>\n",
       "      <th>3</th>\n",
       "      <td>71703</td>\n",
       "      <td>5</td>\n",
       "      <td>dave</td>\n",
       "    </tr>\n",
       "    <tr>\n",
       "      <th>4</th>\n",
       "      <td>72059</td>\n",
       "      <td>5</td>\n",
       "      <td>dave</td>\n",
       "    </tr>\n",
       "  </tbody>\n",
       "</table>\n",
       "</div>"
      ],
      "text/plain": [
       "   identifier manual score person\n",
       "2       71435            5   dave\n",
       "3       71703            5   dave\n",
       "4       72059            5   dave"
      ]
     },
     "execution_count": 58,
     "metadata": {},
     "output_type": "execute_result"
    }
   ],
   "source": [
    "man1 = pd.read_csv(\"ManualSentimentScores/manual-scores-dave.csv\", header=None, names=[\"identifier\", \"manual score\"])\n",
    "man1.dropna(axis=0, inplace=True)\n",
    "man1[\"person\"] = \"dave\"\n",
    "man2 = pd.read_csv(\"ManualSentimentScores/manual-scores-lucy.csv\", header=None, names=[\"identifier\", \"manual score\"])\n",
    "man2.dropna(axis=0, inplace=True)\n",
    "man2[\"person\"] = \"lucy\"\n",
    "#man3 = pd.read_csv(\"ManualSentimentScores/manual-scores-orian.csv\", header=None, names=[\"identifier\", \"manual score\"])\n",
    "#man3.dropna(how=\"score\", axis=0, inplace=True)\n",
    "#man3[\"person\"] = \"orian\"\n",
    "man1.head(3)"
   ]
  },
  {
   "cell_type": "markdown",
   "metadata": {},
   "source": [
    "***Note:*** *For this data, each included article was only given one manual score by one person on a scale of 1 to 5, 1 being very negative, 3 being neutral, and 5 being very positive.*\n",
    "\n",
    "**Step 3:** Merge the DataFrames of manual scores and VADER scores.\n",
    "\n",
    "We want to compare the VADER sentiment scores to the manually-assigned sentiment scores, so we'll use the *identifier* column of our DataFrames to filter out articles from `vader` that are not included."
   ]
  },
  {
   "cell_type": "code",
   "execution_count": 59,
   "metadata": {},
   "outputs": [],
   "source": [
    "# Combine the manual sentiment score DataFrames into one dataframe\n",
    "man = man1.append(man2) #.append(man3)\n",
    "#man"
   ]
  },
  {
   "cell_type": "code",
   "execution_count": 60,
   "metadata": {},
   "outputs": [],
   "source": [
    "# Find the VADER scores for each article in the 'man' DataFrame\n",
    "man_ids = list(man.identifier)\n",
    "compound = []\n",
    "positive = []\n",
    "neutral = []\n",
    "negative = []\n",
    "for i in man_ids:\n",
    "    compound += [list(vader[vader[\"identifier\"] == i][\"compound\"])[0]]\n",
    "    positive += [list(vader[vader[\"identifier\"] == i][\"positive\"])[0]]\n",
    "    neutral += [list(vader[vader[\"identifier\"] == i][\"neutral\"])[0]]\n",
    "    negative += [list(vader[vader[\"identifier\"] == i][\"negative\"])[0]]"
   ]
  },
  {
   "cell_type": "code",
   "execution_count": 61,
   "metadata": {},
   "outputs": [
    {
     "data": {
      "text/html": [
       "<div>\n",
       "<style scoped>\n",
       "    .dataframe tbody tr th:only-of-type {\n",
       "        vertical-align: middle;\n",
       "    }\n",
       "\n",
       "    .dataframe tbody tr th {\n",
       "        vertical-align: top;\n",
       "    }\n",
       "\n",
       "    .dataframe thead th {\n",
       "        text-align: right;\n",
       "    }\n",
       "</style>\n",
       "<table border=\"1\" class=\"dataframe\">\n",
       "  <thead>\n",
       "    <tr style=\"text-align: right;\">\n",
       "      <th></th>\n",
       "      <th>identifier</th>\n",
       "      <th>manual score</th>\n",
       "      <th>person</th>\n",
       "      <th>VADER compound</th>\n",
       "      <th>VADER positive</th>\n",
       "      <th>VADER neutral</th>\n",
       "      <th>VADER negative</th>\n",
       "    </tr>\n",
       "  </thead>\n",
       "  <tbody>\n",
       "    <tr>\n",
       "      <th>2</th>\n",
       "      <td>71435</td>\n",
       "      <td>5</td>\n",
       "      <td>dave</td>\n",
       "      <td>0.9975</td>\n",
       "      <td>0.181</td>\n",
       "      <td>0.815</td>\n",
       "      <td>0.004</td>\n",
       "    </tr>\n",
       "    <tr>\n",
       "      <th>3</th>\n",
       "      <td>71703</td>\n",
       "      <td>5</td>\n",
       "      <td>dave</td>\n",
       "      <td>0.9879</td>\n",
       "      <td>0.141</td>\n",
       "      <td>0.832</td>\n",
       "      <td>0.026</td>\n",
       "    </tr>\n",
       "    <tr>\n",
       "      <th>4</th>\n",
       "      <td>72059</td>\n",
       "      <td>5</td>\n",
       "      <td>dave</td>\n",
       "      <td>0.9929</td>\n",
       "      <td>0.151</td>\n",
       "      <td>0.829</td>\n",
       "      <td>0.020</td>\n",
       "    </tr>\n",
       "    <tr>\n",
       "      <th>5</th>\n",
       "      <td>72092</td>\n",
       "      <td>4</td>\n",
       "      <td>dave</td>\n",
       "      <td>0.9764</td>\n",
       "      <td>0.094</td>\n",
       "      <td>0.865</td>\n",
       "      <td>0.041</td>\n",
       "    </tr>\n",
       "    <tr>\n",
       "      <th>7</th>\n",
       "      <td>72950</td>\n",
       "      <td>1</td>\n",
       "      <td>dave</td>\n",
       "      <td>-0.7537</td>\n",
       "      <td>0.081</td>\n",
       "      <td>0.823</td>\n",
       "      <td>0.096</td>\n",
       "    </tr>\n",
       "  </tbody>\n",
       "</table>\n",
       "</div>"
      ],
      "text/plain": [
       "   identifier manual score person  VADER compound  VADER positive  \\\n",
       "2       71435            5   dave          0.9975           0.181   \n",
       "3       71703            5   dave          0.9879           0.141   \n",
       "4       72059            5   dave          0.9929           0.151   \n",
       "5       72092            4   dave          0.9764           0.094   \n",
       "7       72950            1   dave         -0.7537           0.081   \n",
       "\n",
       "   VADER neutral  VADER negative  \n",
       "2          0.815           0.004  \n",
       "3          0.832           0.026  \n",
       "4          0.829           0.020  \n",
       "5          0.865           0.041  \n",
       "7          0.823           0.096  "
      ]
     },
     "execution_count": 61,
     "metadata": {},
     "output_type": "execute_result"
    }
   ],
   "source": [
    "# Add the VADER scores to 'man'\n",
    "man[\"VADER compound\"] = compound\n",
    "man[\"VADER positive\"] = positive\n",
    "man[\"VADER neutral\"] = neutral\n",
    "man[\"VADER negative\"] = negative\n",
    "man.head()"
   ]
  },
  {
   "cell_type": "markdown",
   "metadata": {},
   "source": [
    "<!-- OPTION 1:\n",
    "Since the manual scores and VADER scores use different scales ([see VADER's here](https://github.com/cjhutto/vaderSentiment#about-the-scoring)), we'll normalize and generalize the scores according to the following:\n",
    "* manual 5 = VADER compound 0.7501-1\n",
    "* manual 4 = VADER compound 0.5001-0.75\n",
    "* manual 3 = VADER compound -0.5-0.5\n",
    "* manual 2 = VADER compound  -->"
   ]
  },
  {
   "cell_type": "code",
   "execution_count": null,
   "metadata": {},
   "outputs": [],
   "source": []
  },
  {
   "cell_type": "code",
   "execution_count": null,
   "metadata": {},
   "outputs": [],
   "source": []
  },
  {
   "cell_type": "markdown",
   "metadata": {},
   "source": [
    "## 2. Analyze the Data\n",
    "### 2.1 Manual Scores and VADER Compound Scores\n",
    "Let's compare the manually-assigned scores to VADER's compound scores"
   ]
  },
  {
   "cell_type": "code",
   "execution_count": 10,
   "metadata": {},
   "outputs": [
    {
     "name": "stdout",
     "output_type": "stream",
     "text": [
      "Highest Positive Score:\n",
      "\t 0.457\n",
      "Review with Highest Positive Score:\n",
      "\t \\  \\\"The Feigned Lady Gardener\\\" doesnt exactly trip off the tongue , but\\ (Identifier: 72571 )\n"
     ]
    }
   ],
   "source": [
    "maxPos = max(df.positive)\n",
    "print(\"Highest Positive Score:\\n\\t\", maxPos)\n",
    "print(\"Review with Highest Positive Score:\\n\\t\", list(df.title[df.positive == maxPos])[0], \"(Identifier:\",list(df.identifier[df.positive == maxPos])[0], \")\")"
   ]
  },
  {
   "cell_type": "code",
   "execution_count": 11,
   "metadata": {},
   "outputs": [
    {
     "name": "stdout",
     "output_type": "stream",
     "text": [
      "Highest Negative Score:\n",
      "\t 0.319\n",
      "Review with Highest Negative Score:\n",
      "\t The Art of Noise The1 week's best music video (Identifier: 98832 )\n"
     ]
    }
   ],
   "source": [
    "maxNeg = max(df.negative)\n",
    "print(\"Highest Negative Score:\\n\\t\", maxNeg)\n",
    "print(\"Review with Highest Negative Score:\\n\\t\", list(df.title[df.negative == maxNeg])[0], \"(Identifier:\",list(df.identifier[df.negative == maxNeg])[0], \")\")"
   ]
  },
  {
   "cell_type": "code",
   "execution_count": 12,
   "metadata": {},
   "outputs": [
    {
     "name": "stdout",
     "output_type": "stream",
     "text": [
      "Highest Neutral Score:\n",
      "\t 1.0\n",
      "Review with Highest Neutral Score:\n",
      "\t BRITISH MUSIC SUNG AT ST. JOHN LATFRAN A CONTEMPORARY MASS (Identifier: 21217 )\n"
     ]
    }
   ],
   "source": [
    "maxNeu = max(df.neutral)\n",
    "print(\"Highest Neutral Score:\\n\\t\", maxNeu)\n",
    "print(\"Review with Highest Neutral Score:\\n\\t\", list(df.title[df.neutral == maxNeu])[0], \"(Identifier:\",list(df.identifier[df.neutral == maxNeu])[0], \")\")"
   ]
  },
  {
   "cell_type": "code",
   "execution_count": 13,
   "metadata": {},
   "outputs": [
    {
     "name": "stdout",
     "output_type": "stream",
     "text": [
      "Most Positive (Highest) Compound Score:\n",
      "\t 1.0\n",
      "Review with Most Positive (Highest) Compount Score:\n",
      "\t . . .. . \" i / . . k LUCGIRAHD (Identifier: 64287 )\n",
      "\n",
      "Most Negative (Lowest) Compound Score:\n",
      "\t -0.9998\n",
      "Review with Most Negative (Lowest) Compount Score:\n",
      "\t '1993: the year a simple handshake gave new hope lor a more peaceful world...' (Identifier: 70658 )\n"
     ]
    }
   ],
   "source": [
    "maxCom = max(df[\"compound\"])\n",
    "minCom = min(df[\"compound\"])\n",
    "print(\"Most Positive (Highest) Compound Score:\\n\\t\", maxCom)\n",
    "print(\"Review with Most Positive (Highest) Compount Score:\\n\\t\", list(df.title[df[\"compound\"] == maxCom])[0], \"(Identifier:\",list(df.identifier[df[\"compound\"] == maxCom])[0], \")\")\n",
    "print(\"\\nMost Negative (Lowest) Compound Score:\\n\\t\", minCom)\n",
    "print(\"Review with Most Negative (Lowest) Compount Score:\\n\\t\", list(df.title[df[\"compound\"] == minCom])[0], \"(Identifier:\",list(df.identifier[df[\"compound\"] == minCom])[0], \")\")"
   ]
  }
 ],
 "metadata": {
  "kernelspec": {
   "display_name": "Python 3",
   "language": "python",
   "name": "python3"
  },
  "language_info": {
   "codemirror_mode": {
    "name": "ipython",
    "version": 3
   },
   "file_extension": ".py",
   "mimetype": "text/x-python",
   "name": "python",
   "nbconvert_exporter": "python",
   "pygments_lexer": "ipython3",
   "version": "3.8.5"
  }
 },
 "nbformat": 4,
 "nbformat_minor": 4
}
