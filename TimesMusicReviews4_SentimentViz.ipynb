{
 "cells": [
  {
   "cell_type": "markdown",
   "metadata": {},
   "source": [
    "# Sentiment Analysis of *The Times* Music Reviews\n",
    "## Part III: Data Visualization\n",
    "*How have artforms been reported?  Is there a status hierarchy between them?  How has this changed over time?*\n",
    "\n",
    "* **Project:** What counts as culture?  Reporting and criticism in The Times 1785-2000\n",
    "* **Project Lead:** Dave O'Brien\n",
    "* **Developer:** Lucy Havens\n",
    "* **Funding:** from the Centre for Data, Culture & Society, University of Edinburgh\n",
    "* **Dataset:** 83,625 reviews about music published in The Times from 1950 through 2009\n",
    "\n",
    "Begun February 2021\n",
    "\n",
    "***\n",
    "\n",
    "### 1. Load the Data\n",
    "\n",
    "First, import required programming libraries."
   ]
  },
  {
   "cell_type": "code",
   "execution_count": 1,
   "metadata": {},
   "outputs": [],
   "source": [
    "# For data loading\n",
    "import re\n",
    "import string\n",
    "import random\n",
    "import numpy as np\n",
    "import pandas as pd\n",
    "\n",
    "# For text analysis\n",
    "import nltk\n",
    "from nltk.tokenize import word_tokenize, sent_tokenize\n",
    "# nltk.download('punkt')\n",
    "from nltk.corpus import PlaintextCorpusReader\n",
    "# nltk.download('wordnet')\n",
    "from nltk.corpus import wordnet\n",
    "# nltk.download('stopwords')\n",
    "from nltk.corpus import stopwords\n",
    "from nltk.text import Text\n",
    "# nltk.download('averaged_perceptron_tagger')\n",
    "# nltk.download('tagsets')  # part of speech tags\n",
    "from nltk.tag import pos_tag\n",
    "\n",
    "# For data visualization\n",
    "import matplotlib.pyplot as plt\n",
    "import altair as alt   ###  Need to figure out why Altair returns error! (Javascript Error: Unrecognized transform type: \"formula\")\n",
    "import seaborn as sns"
   ]
  },
  {
   "cell_type": "markdown",
   "metadata": {},
   "source": [
    "Next, load the data from the VADER sentiment analyzer run on The Times reviews' text and load the inventory data.\n",
    "\n",
    "We'll load these datasets into DataFrames, organizing the CSV file into rows and columns just as it was in the Sentiment Analysis Notebook (#2)."
   ]
  },
  {
   "cell_type": "code",
   "execution_count": 2,
   "metadata": {},
   "outputs": [
    {
     "data": {
      "text/html": [
       "<div>\n",
       "<style scoped>\n",
       "    .dataframe tbody tr th:only-of-type {\n",
       "        vertical-align: middle;\n",
       "    }\n",
       "\n",
       "    .dataframe tbody tr th {\n",
       "        vertical-align: top;\n",
       "    }\n",
       "\n",
       "    .dataframe thead th {\n",
       "        text-align: right;\n",
       "    }\n",
       "</style>\n",
       "<table border=\"1\" class=\"dataframe\">\n",
       "  <thead>\n",
       "    <tr style=\"text-align: right;\">\n",
       "      <th></th>\n",
       "      <th>filepath</th>\n",
       "      <th>compound</th>\n",
       "      <th>positive</th>\n",
       "      <th>neutral</th>\n",
       "      <th>negative</th>\n",
       "    </tr>\n",
       "  </thead>\n",
       "  <tbody>\n",
       "    <tr>\n",
       "      <th>0</th>\n",
       "      <td>TheTimesMusicReviews_1950-2009_part1/20787</td>\n",
       "      <td>0.9897</td>\n",
       "      <td>0.075</td>\n",
       "      <td>0.912</td>\n",
       "      <td>0.013</td>\n",
       "    </tr>\n",
       "    <tr>\n",
       "      <th>1</th>\n",
       "      <td>TheTimesMusicReviews_1950-2009_part1/20788</td>\n",
       "      <td>0.9978</td>\n",
       "      <td>0.230</td>\n",
       "      <td>0.744</td>\n",
       "      <td>0.025</td>\n",
       "    </tr>\n",
       "    <tr>\n",
       "      <th>2</th>\n",
       "      <td>TheTimesMusicReviews_1950-2009_part1/20789</td>\n",
       "      <td>0.9912</td>\n",
       "      <td>0.124</td>\n",
       "      <td>0.866</td>\n",
       "      <td>0.010</td>\n",
       "    </tr>\n",
       "    <tr>\n",
       "      <th>3</th>\n",
       "      <td>TheTimesMusicReviews_1950-2009_part1/20790</td>\n",
       "      <td>0.9886</td>\n",
       "      <td>0.133</td>\n",
       "      <td>0.822</td>\n",
       "      <td>0.044</td>\n",
       "    </tr>\n",
       "    <tr>\n",
       "      <th>4</th>\n",
       "      <td>TheTimesMusicReviews_1950-2009_part1/20791</td>\n",
       "      <td>0.8225</td>\n",
       "      <td>0.061</td>\n",
       "      <td>0.893</td>\n",
       "      <td>0.046</td>\n",
       "    </tr>\n",
       "  </tbody>\n",
       "</table>\n",
       "</div>"
      ],
      "text/plain": [
       "                                     filepath  compound  positive  neutral  \\\n",
       "0  TheTimesMusicReviews_1950-2009_part1/20787    0.9897     0.075    0.912   \n",
       "1  TheTimesMusicReviews_1950-2009_part1/20788    0.9978     0.230    0.744   \n",
       "2  TheTimesMusicReviews_1950-2009_part1/20789    0.9912     0.124    0.866   \n",
       "3  TheTimesMusicReviews_1950-2009_part1/20790    0.9886     0.133    0.822   \n",
       "4  TheTimesMusicReviews_1950-2009_part1/20791    0.8225     0.061    0.893   \n",
       "\n",
       "   negative  \n",
       "0     0.013  \n",
       "1     0.025  \n",
       "2     0.010  \n",
       "3     0.044  \n",
       "4     0.046  "
      ]
     },
     "execution_count": 2,
     "metadata": {},
     "output_type": "execute_result"
    }
   ],
   "source": [
    "dfs = pd.read_csv(\"../TheTimes_DaveO/TheTimesArticles_1950-2009_VADERSentiments.csv\", index_col=0)\n",
    "dfs.rename(columns={\"article_id\":\"filepath\"}, inplace=True)\n",
    "dfs.head()"
   ]
  },
  {
   "cell_type": "code",
   "execution_count": 3,
   "metadata": {},
   "outputs": [
    {
     "data": {
      "text/html": [
       "<div>\n",
       "<style scoped>\n",
       "    .dataframe tbody tr th:only-of-type {\n",
       "        vertical-align: middle;\n",
       "    }\n",
       "\n",
       "    .dataframe tbody tr th {\n",
       "        vertical-align: top;\n",
       "    }\n",
       "\n",
       "    .dataframe thead th {\n",
       "        text-align: right;\n",
       "    }\n",
       "</style>\n",
       "<table border=\"1\" class=\"dataframe\">\n",
       "  <thead>\n",
       "    <tr style=\"text-align: right;\">\n",
       "      <th></th>\n",
       "      <th>identifier</th>\n",
       "      <th>title</th>\n",
       "      <th>year</th>\n",
       "      <th>author</th>\n",
       "      <th>term</th>\n",
       "      <th>section</th>\n",
       "      <th>pages</th>\n",
       "      <th>filename</th>\n",
       "      <th>article_id</th>\n",
       "      <th>issue_id</th>\n",
       "    </tr>\n",
       "  </thead>\n",
       "  <tbody>\n",
       "    <tr>\n",
       "      <th>0</th>\n",
       "      <td>20787</td>\n",
       "      <td>SOME NEW SCORES MOTET AND OPERA</td>\n",
       "      <td>1950</td>\n",
       "      <td>BY OUR MUSIC CRITIC</td>\n",
       "      <td>[' bands', ' composer', ' musical', ' opera', ...</td>\n",
       "      <td>Reviews</td>\n",
       "      <td>[]</td>\n",
       "      <td>/lustre/home/dc125/shared/TDA_GDA_1785-2009/19...</td>\n",
       "      <td>0FFO-1950-JUN30-008-023</td>\n",
       "      <td>0FFO-1950-JUN30</td>\n",
       "    </tr>\n",
       "    <tr>\n",
       "      <th>1</th>\n",
       "      <td>20788</td>\n",
       "      <td>THE ROYAL OPERA \" TRISTAN AND ISOLDE \"</td>\n",
       "      <td>1950</td>\n",
       "      <td>''</td>\n",
       "      <td>[' opera', ' orchestra']</td>\n",
       "      <td>Reviews</td>\n",
       "      <td>[]</td>\n",
       "      <td>/lustre/home/dc125/shared/TDA_GDA_1785-2009/19...</td>\n",
       "      <td>0FFO-1950-JUN30-008-027</td>\n",
       "      <td>0FFO-1950-JUN30</td>\n",
       "    </tr>\n",
       "    <tr>\n",
       "      <th>2</th>\n",
       "      <td>20789</td>\n",
       "      <td>GROWING TASTE FOR MUSIC PLEA FOR ENLARGED QUEE...</td>\n",
       "      <td>1950</td>\n",
       "      <td>''</td>\n",
       "      <td>[' country']</td>\n",
       "      <td>Reviews</td>\n",
       "      <td>[]</td>\n",
       "      <td>/lustre/home/dc125/shared/TDA_GDA_1785-2009/19...</td>\n",
       "      <td>0FFO-1950-JUN30-008-032</td>\n",
       "      <td>0FFO-1950-JUN30</td>\n",
       "    </tr>\n",
       "    <tr>\n",
       "      <th>3</th>\n",
       "      <td>20790</td>\n",
       "      <td>ROYAL PHILHARMONIC CONCERT BEECHAM AND MOZART</td>\n",
       "      <td>1950</td>\n",
       "      <td>''</td>\n",
       "      <td>[' orchestra', ' orchestras']</td>\n",
       "      <td>Reviews</td>\n",
       "      <td>['010']</td>\n",
       "      <td>/lustre/home/dc125/shared/TDA_GDA_1785-2009/19...</td>\n",
       "      <td>0FFO-1950-MAR02-010-006</td>\n",
       "      <td>0FFO-1950-MAR02</td>\n",
       "    </tr>\n",
       "    <tr>\n",
       "      <th>4</th>\n",
       "      <td>20791</td>\n",
       "      <td>MUSICAL JOURNALS SOME NEWCOMERS</td>\n",
       "      <td>1950</td>\n",
       "      <td>BY OUR MUSIC CRITIC</td>\n",
       "      <td>[' musical', ' orchestra', ' orchestras']</td>\n",
       "      <td>Reviews</td>\n",
       "      <td>['007']</td>\n",
       "      <td>/lustre/home/dc125/shared/TDA_GDA_1785-2009/19...</td>\n",
       "      <td>0FFO-1950-MAR03-007-010</td>\n",
       "      <td>0FFO-1950-MAR03</td>\n",
       "    </tr>\n",
       "  </tbody>\n",
       "</table>\n",
       "</div>"
      ],
      "text/plain": [
       "   identifier                                              title  year  \\\n",
       "0       20787                    SOME NEW SCORES MOTET AND OPERA  1950   \n",
       "1       20788             THE ROYAL OPERA \" TRISTAN AND ISOLDE \"  1950   \n",
       "2       20789  GROWING TASTE FOR MUSIC PLEA FOR ENLARGED QUEE...  1950   \n",
       "3       20790      ROYAL PHILHARMONIC CONCERT BEECHAM AND MOZART  1950   \n",
       "4       20791                    MUSICAL JOURNALS SOME NEWCOMERS  1950   \n",
       "\n",
       "                author                                               term  \\\n",
       "0  BY OUR MUSIC CRITIC  [' bands', ' composer', ' musical', ' opera', ...   \n",
       "1                   ''                           [' opera', ' orchestra']   \n",
       "2                   ''                                       [' country']   \n",
       "3                   ''                      [' orchestra', ' orchestras']   \n",
       "4  BY OUR MUSIC CRITIC          [' musical', ' orchestra', ' orchestras']   \n",
       "\n",
       "   section    pages                                           filename  \\\n",
       "0  Reviews       []  /lustre/home/dc125/shared/TDA_GDA_1785-2009/19...   \n",
       "1  Reviews       []  /lustre/home/dc125/shared/TDA_GDA_1785-2009/19...   \n",
       "2  Reviews       []  /lustre/home/dc125/shared/TDA_GDA_1785-2009/19...   \n",
       "3  Reviews  ['010']  /lustre/home/dc125/shared/TDA_GDA_1785-2009/19...   \n",
       "4  Reviews  ['007']  /lustre/home/dc125/shared/TDA_GDA_1785-2009/19...   \n",
       "\n",
       "                article_id         issue_id  \n",
       "0  0FFO-1950-JUN30-008-023  0FFO-1950-JUN30  \n",
       "1  0FFO-1950-JUN30-008-027  0FFO-1950-JUN30  \n",
       "2  0FFO-1950-JUN30-008-032  0FFO-1950-JUN30  \n",
       "3  0FFO-1950-MAR02-010-006  0FFO-1950-MAR02  \n",
       "4  0FFO-1950-MAR03-007-010  0FFO-1950-MAR03  "
      ]
     },
     "execution_count": 3,
     "metadata": {},
     "output_type": "execute_result"
    }
   ],
   "source": [
    "dfi = pd.read_csv(\"../TheTimes_DaveO/TheTimesArticles_1950-2009_Inventory.csv\")\n",
    "dfi.rename(columns={\"Unnamed: 0\":\"identifier\"}, inplace=True)\n",
    "dfi.head()"
   ]
  },
  {
   "cell_type": "markdown",
   "metadata": {},
   "source": [
    "Now we can merge these two DataFrames together using the `filepath` column from the first DataFrame and the `identifer` column from the second DataFrame."
   ]
  },
  {
   "cell_type": "code",
   "execution_count": 4,
   "metadata": {},
   "outputs": [
    {
     "name": "stdout",
     "output_type": "stream",
     "text": [
      "[20787, 20788, 20789, 20790, 20791, 20792, 20793, 20794, 20795, 20796]\n"
     ]
    }
   ],
   "source": [
    "paths = list(dfs.filepath)\n",
    "ids = []\n",
    "for p in paths:\n",
    "    ids += [int((re.findall(\"\\d{1,}$\",p))[0])]\n",
    "    \n",
    "print(ids[:10]) # print the first 10 ids"
   ]
  },
  {
   "cell_type": "markdown",
   "metadata": {},
   "source": [
    "Add an `identifier` column to the first DataFrame of sentiment analysis results."
   ]
  },
  {
   "cell_type": "code",
   "execution_count": 5,
   "metadata": {},
   "outputs": [
    {
     "data": {
      "text/html": [
       "<div>\n",
       "<style scoped>\n",
       "    .dataframe tbody tr th:only-of-type {\n",
       "        vertical-align: middle;\n",
       "    }\n",
       "\n",
       "    .dataframe tbody tr th {\n",
       "        vertical-align: top;\n",
       "    }\n",
       "\n",
       "    .dataframe thead th {\n",
       "        text-align: right;\n",
       "    }\n",
       "</style>\n",
       "<table border=\"1\" class=\"dataframe\">\n",
       "  <thead>\n",
       "    <tr style=\"text-align: right;\">\n",
       "      <th></th>\n",
       "      <th>filepath</th>\n",
       "      <th>compound</th>\n",
       "      <th>positive</th>\n",
       "      <th>neutral</th>\n",
       "      <th>negative</th>\n",
       "      <th>identifier</th>\n",
       "    </tr>\n",
       "  </thead>\n",
       "  <tbody>\n",
       "    <tr>\n",
       "      <th>0</th>\n",
       "      <td>TheTimesMusicReviews_1950-2009_part1/20787</td>\n",
       "      <td>0.9897</td>\n",
       "      <td>0.075</td>\n",
       "      <td>0.912</td>\n",
       "      <td>0.013</td>\n",
       "      <td>20787</td>\n",
       "    </tr>\n",
       "    <tr>\n",
       "      <th>1</th>\n",
       "      <td>TheTimesMusicReviews_1950-2009_part1/20788</td>\n",
       "      <td>0.9978</td>\n",
       "      <td>0.230</td>\n",
       "      <td>0.744</td>\n",
       "      <td>0.025</td>\n",
       "      <td>20788</td>\n",
       "    </tr>\n",
       "    <tr>\n",
       "      <th>2</th>\n",
       "      <td>TheTimesMusicReviews_1950-2009_part1/20789</td>\n",
       "      <td>0.9912</td>\n",
       "      <td>0.124</td>\n",
       "      <td>0.866</td>\n",
       "      <td>0.010</td>\n",
       "      <td>20789</td>\n",
       "    </tr>\n",
       "  </tbody>\n",
       "</table>\n",
       "</div>"
      ],
      "text/plain": [
       "                                     filepath  compound  positive  neutral  \\\n",
       "0  TheTimesMusicReviews_1950-2009_part1/20787    0.9897     0.075    0.912   \n",
       "1  TheTimesMusicReviews_1950-2009_part1/20788    0.9978     0.230    0.744   \n",
       "2  TheTimesMusicReviews_1950-2009_part1/20789    0.9912     0.124    0.866   \n",
       "\n",
       "   negative  identifier  \n",
       "0     0.013       20787  \n",
       "1     0.025       20788  \n",
       "2     0.010       20789  "
      ]
     },
     "execution_count": 5,
     "metadata": {},
     "output_type": "execute_result"
    }
   ],
   "source": [
    "dfs[\"identifier\"] = ids\n",
    "dfs.head(3)"
   ]
  },
  {
   "cell_type": "markdown",
   "metadata": {},
   "source": [
    "Now we can join the DataFrames on their `identifier` columns!"
   ]
  },
  {
   "cell_type": "code",
   "execution_count": 6,
   "metadata": {},
   "outputs": [
    {
     "data": {
      "text/html": [
       "<div>\n",
       "<style scoped>\n",
       "    .dataframe tbody tr th:only-of-type {\n",
       "        vertical-align: middle;\n",
       "    }\n",
       "\n",
       "    .dataframe tbody tr th {\n",
       "        vertical-align: top;\n",
       "    }\n",
       "\n",
       "    .dataframe thead th {\n",
       "        text-align: right;\n",
       "    }\n",
       "</style>\n",
       "<table border=\"1\" class=\"dataframe\">\n",
       "  <thead>\n",
       "    <tr style=\"text-align: right;\">\n",
       "      <th></th>\n",
       "      <th>identifier</th>\n",
       "      <th>title</th>\n",
       "      <th>year</th>\n",
       "      <th>author</th>\n",
       "      <th>term</th>\n",
       "      <th>section</th>\n",
       "      <th>pages</th>\n",
       "      <th>filename</th>\n",
       "      <th>article_id</th>\n",
       "      <th>issue_id</th>\n",
       "      <th>filepath</th>\n",
       "      <th>compound</th>\n",
       "      <th>positive</th>\n",
       "      <th>neutral</th>\n",
       "      <th>negative</th>\n",
       "    </tr>\n",
       "  </thead>\n",
       "  <tbody>\n",
       "    <tr>\n",
       "      <th>0</th>\n",
       "      <td>20787</td>\n",
       "      <td>SOME NEW SCORES MOTET AND OPERA</td>\n",
       "      <td>1950</td>\n",
       "      <td>BY OUR MUSIC CRITIC</td>\n",
       "      <td>[' bands', ' composer', ' musical', ' opera', ...</td>\n",
       "      <td>Reviews</td>\n",
       "      <td>[]</td>\n",
       "      <td>/lustre/home/dc125/shared/TDA_GDA_1785-2009/19...</td>\n",
       "      <td>0FFO-1950-JUN30-008-023</td>\n",
       "      <td>0FFO-1950-JUN30</td>\n",
       "      <td>TheTimesMusicReviews_1950-2009_part1/20787</td>\n",
       "      <td>0.9897</td>\n",
       "      <td>0.075</td>\n",
       "      <td>0.912</td>\n",
       "      <td>0.013</td>\n",
       "    </tr>\n",
       "    <tr>\n",
       "      <th>1</th>\n",
       "      <td>20788</td>\n",
       "      <td>THE ROYAL OPERA \" TRISTAN AND ISOLDE \"</td>\n",
       "      <td>1950</td>\n",
       "      <td>''</td>\n",
       "      <td>[' opera', ' orchestra']</td>\n",
       "      <td>Reviews</td>\n",
       "      <td>[]</td>\n",
       "      <td>/lustre/home/dc125/shared/TDA_GDA_1785-2009/19...</td>\n",
       "      <td>0FFO-1950-JUN30-008-027</td>\n",
       "      <td>0FFO-1950-JUN30</td>\n",
       "      <td>TheTimesMusicReviews_1950-2009_part1/20788</td>\n",
       "      <td>0.9978</td>\n",
       "      <td>0.230</td>\n",
       "      <td>0.744</td>\n",
       "      <td>0.025</td>\n",
       "    </tr>\n",
       "    <tr>\n",
       "      <th>2</th>\n",
       "      <td>20789</td>\n",
       "      <td>GROWING TASTE FOR MUSIC PLEA FOR ENLARGED QUEE...</td>\n",
       "      <td>1950</td>\n",
       "      <td>''</td>\n",
       "      <td>[' country']</td>\n",
       "      <td>Reviews</td>\n",
       "      <td>[]</td>\n",
       "      <td>/lustre/home/dc125/shared/TDA_GDA_1785-2009/19...</td>\n",
       "      <td>0FFO-1950-JUN30-008-032</td>\n",
       "      <td>0FFO-1950-JUN30</td>\n",
       "      <td>TheTimesMusicReviews_1950-2009_part1/20789</td>\n",
       "      <td>0.9912</td>\n",
       "      <td>0.124</td>\n",
       "      <td>0.866</td>\n",
       "      <td>0.010</td>\n",
       "    </tr>\n",
       "  </tbody>\n",
       "</table>\n",
       "</div>"
      ],
      "text/plain": [
       "   identifier                                              title  year  \\\n",
       "0       20787                    SOME NEW SCORES MOTET AND OPERA  1950   \n",
       "1       20788             THE ROYAL OPERA \" TRISTAN AND ISOLDE \"  1950   \n",
       "2       20789  GROWING TASTE FOR MUSIC PLEA FOR ENLARGED QUEE...  1950   \n",
       "\n",
       "                author                                               term  \\\n",
       "0  BY OUR MUSIC CRITIC  [' bands', ' composer', ' musical', ' opera', ...   \n",
       "1                   ''                           [' opera', ' orchestra']   \n",
       "2                   ''                                       [' country']   \n",
       "\n",
       "   section pages                                           filename  \\\n",
       "0  Reviews    []  /lustre/home/dc125/shared/TDA_GDA_1785-2009/19...   \n",
       "1  Reviews    []  /lustre/home/dc125/shared/TDA_GDA_1785-2009/19...   \n",
       "2  Reviews    []  /lustre/home/dc125/shared/TDA_GDA_1785-2009/19...   \n",
       "\n",
       "                article_id         issue_id  \\\n",
       "0  0FFO-1950-JUN30-008-023  0FFO-1950-JUN30   \n",
       "1  0FFO-1950-JUN30-008-027  0FFO-1950-JUN30   \n",
       "2  0FFO-1950-JUN30-008-032  0FFO-1950-JUN30   \n",
       "\n",
       "                                     filepath  compound  positive  neutral  \\\n",
       "0  TheTimesMusicReviews_1950-2009_part1/20787    0.9897     0.075    0.912   \n",
       "1  TheTimesMusicReviews_1950-2009_part1/20788    0.9978     0.230    0.744   \n",
       "2  TheTimesMusicReviews_1950-2009_part1/20789    0.9912     0.124    0.866   \n",
       "\n",
       "   negative  \n",
       "0     0.013  \n",
       "1     0.025  \n",
       "2     0.010  "
      ]
     },
     "execution_count": 6,
     "metadata": {},
     "output_type": "execute_result"
    }
   ],
   "source": [
    "df = dfi.merge(dfs, how=\"outer\", on=\"identifier\")\n",
    "df.head(3)"
   ]
  },
  {
   "cell_type": "markdown",
   "metadata": {},
   "source": [
    "It looks like our year column isn't appearing properly: we want every year value to be a four-digit integer where the year is given or 0 where the year is unknown."
   ]
  },
  {
   "cell_type": "code",
   "execution_count": 7,
   "metadata": {},
   "outputs": [
    {
     "data": {
      "text/plain": [
       "array([1950, 1951, 1952, 1953, 1954, 1955, 1956, 1957, 1958, 1959, 1960,\n",
       "       1961, 1962, 1963, 1964, 1965, 1966, 1967, 1968, 1969, 1970, 1971,\n",
       "       1972, 1973, 1974, 1975, 1976, 1977, 1978, 1979, 1980, 1981, 1982,\n",
       "       1983, 1984, 1985, 2000, 1986, 1987, 1988, 1989, 1990, 1991, 1992,\n",
       "       1993, 1994, 1995, 1996, 1997, 1998, 1999, 2001, 2002, 2003, 2004,\n",
       "       2005, 2006, 2007, 2008, 2009])"
      ]
     },
     "execution_count": 7,
     "metadata": {},
     "output_type": "execute_result"
    }
   ],
   "source": [
    "df.year.unique()"
   ]
  },
  {
   "cell_type": "code",
   "execution_count": 8,
   "metadata": {},
   "outputs": [
    {
     "name": "stdout",
     "output_type": "stream",
     "text": [
      "False\n",
      "False\n",
      "False\n",
      "False\n",
      "False\n"
     ]
    }
   ],
   "source": [
    "print(df.year.isnull().values.any())\n",
    "print(df.term.isnull().values.any())\n",
    "print(df.title.isnull().values.any())\n",
    "print(df.section.isnull().values.any())\n",
    "print(df.pages.isnull().values.any())"
   ]
  },
  {
   "cell_type": "markdown",
   "metadata": {},
   "source": [
    "Great, it looks like we haven't lost any articles' metadata!"
   ]
  },
  {
   "cell_type": "markdown",
   "metadata": {},
   "source": [
    "Now that we have the reviews' sentiment data are joined up with the reviews' metadata, we can export the data as a CSV file for quicker reference in the future."
   ]
  },
  {
   "cell_type": "code",
   "execution_count": 9,
   "metadata": {},
   "outputs": [],
   "source": [
    "df.to_csv(\"../TheTimes_DaveO/TheTimesArticles_1950-2009_MetadataWithVADERSentiments.csv\")"
   ]
  },
  {
   "cell_type": "markdown",
   "metadata": {},
   "source": [
    "### 2. Analyze the Data\n",
    "#### 2.1 Summary Statistics\n",
    "Let's figure out what the most positive, negative, and neutral reviews are and what scores the VADER Sentiment Analyzer assigned them."
   ]
  },
  {
   "cell_type": "code",
   "execution_count": 10,
   "metadata": {},
   "outputs": [
    {
     "name": "stdout",
     "output_type": "stream",
     "text": [
      "Highest Positive Score:\n",
      "\t 0.457\n",
      "Review with Highest Positive Score:\n",
      "\t \\  \\\"The Feigned Lady Gardener\\\" doesnt exactly trip off the tongue , but\\ (Identifier: 72571 )\n"
     ]
    }
   ],
   "source": [
    "maxPos = max(df.positive)\n",
    "print(\"Highest Positive Score:\\n\\t\", maxPos)\n",
    "print(\"Review with Highest Positive Score:\\n\\t\", list(df.title[df.positive == maxPos])[0], \"(Identifier:\",list(df.identifier[df.positive == maxPos])[0], \")\")"
   ]
  },
  {
   "cell_type": "code",
   "execution_count": 11,
   "metadata": {},
   "outputs": [
    {
     "name": "stdout",
     "output_type": "stream",
     "text": [
      "Highest Negative Score:\n",
      "\t 0.319\n",
      "Review with Highest Negative Score:\n",
      "\t The Art of Noise The1 week's best music video (Identifier: 98832 )\n"
     ]
    }
   ],
   "source": [
    "maxNeg = max(df.negative)\n",
    "print(\"Highest Negative Score:\\n\\t\", maxNeg)\n",
    "print(\"Review with Highest Negative Score:\\n\\t\", list(df.title[df.negative == maxNeg])[0], \"(Identifier:\",list(df.identifier[df.negative == maxNeg])[0], \")\")"
   ]
  },
  {
   "cell_type": "code",
   "execution_count": 12,
   "metadata": {},
   "outputs": [
    {
     "name": "stdout",
     "output_type": "stream",
     "text": [
      "Highest Neutral Score:\n",
      "\t 1.0\n",
      "Review with Highest Neutral Score:\n",
      "\t BRITISH MUSIC SUNG AT ST. JOHN LATFRAN A CONTEMPORARY MASS (Identifier: 21217 )\n"
     ]
    }
   ],
   "source": [
    "maxNeu = max(df.neutral)\n",
    "print(\"Highest Neutral Score:\\n\\t\", maxNeu)\n",
    "print(\"Review with Highest Neutral Score:\\n\\t\", list(df.title[df.neutral == maxNeu])[0], \"(Identifier:\",list(df.identifier[df.neutral == maxNeu])[0], \")\")"
   ]
  },
  {
   "cell_type": "code",
   "execution_count": 13,
   "metadata": {},
   "outputs": [
    {
     "name": "stdout",
     "output_type": "stream",
     "text": [
      "Most Positive (Highest) Compound Score:\n",
      "\t 1.0\n",
      "Review with Most Positive (Highest) Compount Score:\n",
      "\t . . .. . \" i / . . k LUCGIRAHD (Identifier: 64287 )\n",
      "\n",
      "Most Negative (Lowest) Compound Score:\n",
      "\t -0.9998\n",
      "Review with Most Negative (Lowest) Compount Score:\n",
      "\t '1993: the year a simple handshake gave new hope lor a more peaceful world...' (Identifier: 70658 )\n"
     ]
    }
   ],
   "source": [
    "maxCom = max(df[\"compound\"])\n",
    "minCom = min(df[\"compound\"])\n",
    "print(\"Most Positive (Highest) Compound Score:\\n\\t\", maxCom)\n",
    "print(\"Review with Most Positive (Highest) Compount Score:\\n\\t\", list(df.title[df[\"compound\"] == maxCom])[0], \"(Identifier:\",list(df.identifier[df[\"compound\"] == maxCom])[0], \")\")\n",
    "print(\"\\nMost Negative (Lowest) Compound Score:\\n\\t\", minCom)\n",
    "print(\"Review with Most Negative (Lowest) Compount Score:\\n\\t\", list(df.title[df[\"compound\"] == minCom])[0], \"(Identifier:\",list(df.identifier[df[\"compound\"] == minCom])[0], \")\")"
   ]
  },
  {
   "cell_type": "markdown",
   "metadata": {},
   "source": [
    "To get a sense of how well the sentiment analyzer performs, we can read some of these reviews and judge for ourselves whether the VADER scores seem accurate!  \n",
    "\n",
    "Let's randomly select music reviews with at least one of the four genres we're focusing on (opera, jazz, rap, and rock), getting a selection of articles published in every year from 1950 through 2009."
   ]
  },
  {
   "cell_type": "code",
   "execution_count": 14,
   "metadata": {},
   "outputs": [
    {
     "name": "stdout",
     "output_type": "stream",
     "text": [
      "Opera articles: 18628\n",
      "Jazz articles: 7681\n",
      "Rap articles: 1925\n",
      "Rock articles: 9222\n"
     ]
    }
   ],
   "source": [
    "#  Input: music-related term and a DataFrame of music review metadata\n",
    "# Output: a list of booleans (True or False) noting which reviews have the input term\n",
    "def termFilter(term_string, dataframe):\n",
    "    df_terms = list(dataframe.term)\n",
    "    with_term = []\n",
    "    for t in df_terms:\n",
    "        if term_string in t:\n",
    "            with_term += [True]\n",
    "        else:\n",
    "            with_term += [False]\n",
    "    \n",
    "    assert(len(with_term) == len(df_terms))\n",
    "    return with_term\n",
    "\n",
    "# Determine which music reviews have the words opera, jazz, rap, and rock\n",
    "with_opera = termFilter(\"opera\", df)\n",
    "with_jazz = termFilter(\"jazz\", df)\n",
    "with_rap = termFilter(\"rap\", df)\n",
    "with_rock = termFilter(\"rock\", df)\n",
    "\n",
    "# Add the lists of booleans to the DataFrame of music review metadata (including sentiment scores)\n",
    "df[\"with_opera\"] = with_opera\n",
    "df[\"with_jazz\"] = with_jazz\n",
    "df[\"with_rap\"] = with_rap\n",
    "df[\"with_rock\"] = with_rock\n",
    "\n",
    "# Create subsets of data, making one DataFrame of music reviews per genre\n",
    "df_opera = df[df.with_opera == True]\n",
    "df_jazz = df[df.with_jazz == True]\n",
    "df_rap = df[df.with_rap == True]\n",
    "df_rock = df[df.with_rock == True]\n",
    "print(\"Opera articles:\",df_opera.shape[0])\n",
    "print(\"Jazz articles:\",df_jazz.shape[0])\n",
    "print(\"Rap articles:\",df_rap.shape[0])\n",
    "print(\"Rock articles:\",df_rock.shape[0])"
   ]
  },
  {
   "cell_type": "code",
   "execution_count": 15,
   "metadata": {},
   "outputs": [],
   "source": [
    "# Create a 2D list of files for each genre, with one list per year of publication\n",
    "def listsOfArticlesPerYear(dataframe):\n",
    "    # Get a non-repeating list of all years in the dataframe\n",
    "    years = dataframe.year.unique()\n",
    "    articles = []\n",
    "    for y in years:\n",
    "        # For each year, create a list of articles published in that year\n",
    "        # and add those articles' identifiers to a list \n",
    "        articles += [list(dataframe[dataframe.year == y].filepath)]\n",
    "    # Return the two-dimensional list of articles (one sub-list per year) \n",
    "    return articles\n",
    "\n",
    "opera_ids = listsOfArticlesPerYear(df_opera)\n",
    "# print(opera_ids[1:2])\n",
    "jazz_ids = listsOfArticlesPerYear(df_jazz)\n",
    "rap_ids = listsOfArticlesPerYear(df_rap)\n",
    "rock_ids = listsOfArticlesPerYear(df_rock)"
   ]
  },
  {
   "cell_type": "code",
   "execution_count": 16,
   "metadata": {},
   "outputs": [
    {
     "name": "stdout",
     "output_type": "stream",
     "text": [
      "Number of publication years for our corpus: 60\n",
      "\n",
      "Opera articles to read: 60\n",
      "Jazz articles to read: 60\n",
      "Rap articles to read: 42\n",
      "Rock articles to read: 60\n",
      "\n",
      "Articles to read: 222\n"
     ]
    }
   ],
   "source": [
    "year_entries = len(df.year.unique())\n",
    "print(\"Number of publication years for our corpus:\",year_entries)\n",
    "\n",
    "# Randomly select one article from each year from each genre's identifiers lists\n",
    "def randomSelection(twoDlist):\n",
    "    to_read = []\n",
    "    for year_of_articles in twoDlist:\n",
    "        to_read += [random.choice(year_of_articles)]\n",
    "    return to_read\n",
    "\n",
    "read_opera = randomSelection(opera_ids)\n",
    "print(\"\\nOpera articles to read:\", len(read_opera))\n",
    "read_jazz = randomSelection(jazz_ids)\n",
    "print(\"Jazz articles to read:\", len(read_jazz))\n",
    "read_rap = randomSelection(rap_ids)\n",
    "print(\"Rap articles to read:\", len(read_rap))\n",
    "read_rock = randomSelection(rock_ids)\n",
    "print(\"Rock articles to read:\", len(read_rock))\n",
    "print(\"\\nArticles to read:\",len(read_opera)+len(read_jazz)+len(read_rap)+len(read_rock))"
   ]
  },
  {
   "cell_type": "markdown",
   "metadata": {},
   "source": [
    "I'm also going to add five articles with the maximum and minimum VADER scores to our subset of articles to read and manually analyze the sentiment of."
   ]
  },
  {
   "cell_type": "code",
   "execution_count": 17,
   "metadata": {},
   "outputs": [
    {
     "name": "stdout",
     "output_type": "stream",
     "text": [
      "['TheTimesMusicReviews_1950-2009_part1/70658', 'TheTimesMusicReviews_1950-2009_part1/64287']\n",
      "Total articles to read: 227\n"
     ]
    }
   ],
   "source": [
    "max_min_scores = [70658, 64287, 21217, 98832, 72571]\n",
    "to_read = []\n",
    "for identifier in max_min_scores:\n",
    "    filepath = list(df.filepath[df.identifier == identifier])[0]\n",
    "    identifier = re.findall(\"\\d{5,}\", filepath)[0]\n",
    "    to_read.append(filepath)\n",
    "\n",
    "def flattenTwoDLists(genre_list, to_read):\n",
    "    for id_list in genre_list:\n",
    "        for filepath in id_list:\n",
    "            to_read += [filepath]\n",
    "    return to_read\n",
    "\n",
    "to_read_ids = flattenTwoDLists([read_opera, read_jazz, read_rock, read_rap], to_read)\n",
    "print(to_read_ids[0:2])\n",
    "print(\"Total articles to read:\", len(to_read_ids))"
   ]
  },
  {
   "cell_type": "markdown",
   "metadata": {},
   "source": [
    "Now let's export the selected reviews so we can read and manually score their sentiment."
   ]
  },
  {
   "cell_type": "code",
   "execution_count": 18,
   "metadata": {},
   "outputs": [
    {
     "name": "stdout",
     "output_type": "stream",
     "text": [
      "TheTimesMusicReviews_1950-2009_part1/20787\n"
     ]
    }
   ],
   "source": [
    "data_path = \"../TheTimes_DaveO/TheTimesMusicReviews_1950-2009\"\n",
    "articles = PlaintextCorpusReader(data_path, \".+/.+\", encoding='utf-8')\n",
    "fileids = articles.fileids()\n",
    "print(fileids[0])"
   ]
  },
  {
   "cell_type": "code",
   "execution_count": 22,
   "metadata": {},
   "outputs": [
    {
     "name": "stdout",
     "output_type": "stream",
     "text": [
      "Files ready for manual sentiment analysis in the directory ToReadAndScore!\n"
     ]
    }
   ],
   "source": [
    "for filepath in to_read_ids:\n",
    "    file = open(\"../TheTimes_DaveO/ToReadAndScore/\"+str(filepath), \"a\")\n",
    "    file.write(articles.raw(filepath))\n",
    "    file.close()\n",
    "    \n",
    "print(\"Files ready for manual sentiment analysis in the directory ToReadAndScore!\")"
   ]
  },
  {
   "cell_type": "markdown",
   "metadata": {},
   "source": [
    "Let's make sure the division of the files, though as equal as possible in number, is also relatively equal in word length."
   ]
  },
  {
   "cell_type": "code",
   "execution_count": 31,
   "metadata": {},
   "outputs": [],
   "source": [
    "dave_path =  \"../TheTimes_DaveO/ToReadAndScore/Dave\"\n",
    "dave = PlaintextCorpusReader(dave_path, \".+\", encoding='utf-8')\n",
    "dave_tokens = dave.words()\n",
    "orian_path =  \"../TheTimes_DaveO/ToReadAndScore/Orian\"\n",
    "orian = PlaintextCorpusReader(orian_path, \".+\", encoding='utf-8')\n",
    "orian_tokens = orian.words()\n",
    "lucy_path =  \"../TheTimes_DaveO/ToReadAndScore/Lucy\"\n",
    "lucy = PlaintextCorpusReader(lucy_path, \".+\", encoding='utf-8')\n",
    "lucy_tokens = lucy.words()"
   ]
  },
  {
   "cell_type": "code",
   "execution_count": 32,
   "metadata": {},
   "outputs": [
    {
     "name": "stdout",
     "output_type": "stream",
     "text": [
      "76739\n",
      "76396\n",
      "62749\n"
     ]
    }
   ],
   "source": [
    "print(len(dave_tokens))\n",
    "print(len(orian_tokens))\n",
    "print(len(lucy_tokens))"
   ]
  },
  {
   "cell_type": "markdown",
   "metadata": {},
   "source": [
    "#### 2.2 Analysis by Genre\n",
    "The *defoe* text mining output reports the music-related terms that each review contains, so we can create subsets of our data based on the these terms."
   ]
  },
  {
   "cell_type": "code",
   "execution_count": 33,
   "metadata": {},
   "outputs": [],
   "source": [
    "# From https://github.com/defoe-code/defoe/blob/master/queries/music_genres.txt\n",
    "genres = ['music', 'african', 'big band', 'bluegrass', 'country', 'blues', 'musical', 'classical', \n",
    "          'electronic', 'folk', 'gospel', 'hip hop', 'jazz', 'latin', 'metal', 'easy listening', \n",
    "          'opera', 'pop', 'rap', 'rave', 'reggae', 'rock']\n",
    "\n",
    "musical_terms = [\"song\", \"lyric\", \"album\", \"band\", \"artist\", \"singer\", \"songwriter\", \"rapper\", \"composer\", \n",
    "                 \"composition\", \"orchesra\", \"dj\", \"music\"]"
   ]
  },
  {
   "cell_type": "markdown",
   "metadata": {},
   "source": [
    "Let's start with an analysis of reviews that use the term **opera**.\n",
    "\n",
    "**Step 1:** Identify which articles have the term \"opera.\""
   ]
  },
  {
   "cell_type": "code",
   "execution_count": 34,
   "metadata": {},
   "outputs": [],
   "source": [
    "def termFilter(term_string, dataframe):\n",
    "    df_terms = list(dataframe.term)\n",
    "    with_term = []\n",
    "    for t in df_terms:\n",
    "        if term_string in t:\n",
    "            with_term += [True]\n",
    "        else:\n",
    "            with_term += [False]\n",
    "    \n",
    "    assert(len(with_term) == len(df_terms))\n",
    "    return with_term\n",
    "\n",
    "with_opera = termFilter(\" opera\", df)"
   ]
  },
  {
   "cell_type": "markdown",
   "metadata": {},
   "source": [
    "**Step 2:** Create a subset of the data that ONLY includes articles with the term \"opera.\""
   ]
  },
  {
   "cell_type": "code",
   "execution_count": 35,
   "metadata": {},
   "outputs": [
    {
     "name": "stdout",
     "output_type": "stream",
     "text": [
      "(18628, 19)\n"
     ]
    }
   ],
   "source": [
    "df[\"with_opera\"] = with_opera\n",
    "df_opera = df[df[\"with_opera\"] == True]\n",
    "print(df_opera.shape)"
   ]
  },
  {
   "cell_type": "code",
   "execution_count": 36,
   "metadata": {},
   "outputs": [
    {
     "data": {
      "text/html": [
       "<div>\n",
       "<style scoped>\n",
       "    .dataframe tbody tr th:only-of-type {\n",
       "        vertical-align: middle;\n",
       "    }\n",
       "\n",
       "    .dataframe tbody tr th {\n",
       "        vertical-align: top;\n",
       "    }\n",
       "\n",
       "    .dataframe thead th {\n",
       "        text-align: right;\n",
       "    }\n",
       "</style>\n",
       "<table border=\"1\" class=\"dataframe\">\n",
       "  <thead>\n",
       "    <tr style=\"text-align: right;\">\n",
       "      <th></th>\n",
       "      <th>identifier</th>\n",
       "      <th>title</th>\n",
       "      <th>year</th>\n",
       "      <th>author</th>\n",
       "      <th>term</th>\n",
       "      <th>section</th>\n",
       "      <th>pages</th>\n",
       "      <th>filename</th>\n",
       "      <th>article_id</th>\n",
       "      <th>issue_id</th>\n",
       "      <th>filepath</th>\n",
       "      <th>compound</th>\n",
       "      <th>positive</th>\n",
       "      <th>neutral</th>\n",
       "      <th>negative</th>\n",
       "      <th>with_opera</th>\n",
       "      <th>with_jazz</th>\n",
       "      <th>with_rap</th>\n",
       "      <th>with_rock</th>\n",
       "    </tr>\n",
       "  </thead>\n",
       "  <tbody>\n",
       "    <tr>\n",
       "      <th>83606</th>\n",
       "      <td>106791</td>\n",
       "      <td>John Scrimger, Linda Ormiston, Marilyn HIII Smith</td>\n",
       "      <td>2009</td>\n",
       "      <td>''</td>\n",
       "      <td>[' musical', ' opera']</td>\n",
       "      <td>Reviews</td>\n",
       "      <td>[]</td>\n",
       "      <td>/lustre/home/dc125/shared/TDA_GDA_1785-2009/19...</td>\n",
       "      <td>0FFO-2009-0815-0268-006</td>\n",
       "      <td>0FFO-2009-0815</td>\n",
       "      <td>TheTimesMusicReviews_1950-2009_part2/106791</td>\n",
       "      <td>0.4939</td>\n",
       "      <td>0.084</td>\n",
       "      <td>0.916</td>\n",
       "      <td>0.000</td>\n",
       "      <td>True</td>\n",
       "      <td>False</td>\n",
       "      <td>False</td>\n",
       "      <td>False</td>\n",
       "    </tr>\n",
       "    <tr>\n",
       "      <th>83609</th>\n",
       "      <td>106794</td>\n",
       "      <td>''</td>\n",
       "      <td>2009</td>\n",
       "      <td>''</td>\n",
       "      <td>[' classical', ' jazz', ' opera']</td>\n",
       "      <td>Reviews</td>\n",
       "      <td>[]</td>\n",
       "      <td>/lustre/home/dc125/shared/TDA_GDA_1785-2009/19...</td>\n",
       "      <td>0FFO-2009-0815-0268-017</td>\n",
       "      <td>0FFO-2009-0815</td>\n",
       "      <td>TheTimesMusicReviews_1950-2009_part2/106794</td>\n",
       "      <td>0.9812</td>\n",
       "      <td>0.162</td>\n",
       "      <td>0.802</td>\n",
       "      <td>0.036</td>\n",
       "      <td>True</td>\n",
       "      <td>True</td>\n",
       "      <td>False</td>\n",
       "      <td>False</td>\n",
       "    </tr>\n",
       "    <tr>\n",
       "      <th>83610</th>\n",
       "      <td>106795</td>\n",
       "      <td>Which shows?</td>\n",
       "      <td>2009</td>\n",
       "      <td>''</td>\n",
       "      <td>[' musical', ' opera', ' rock']</td>\n",
       "      <td>Reviews</td>\n",
       "      <td>['0271']</td>\n",
       "      <td>/lustre/home/dc125/shared/TDA_GDA_1785-2009/19...</td>\n",
       "      <td>0FFO-2009-0815-0271-002</td>\n",
       "      <td>0FFO-2009-0815</td>\n",
       "      <td>TheTimesMusicReviews_1950-2009_part2/106795</td>\n",
       "      <td>-0.9401</td>\n",
       "      <td>0.000</td>\n",
       "      <td>0.736</td>\n",
       "      <td>0.264</td>\n",
       "      <td>True</td>\n",
       "      <td>False</td>\n",
       "      <td>False</td>\n",
       "      <td>True</td>\n",
       "    </tr>\n",
       "    <tr>\n",
       "      <th>83616</th>\n",
       "      <td>106801</td>\n",
       "      <td>Desolate islands' ghostly power</td>\n",
       "      <td>2009</td>\n",
       "      <td>Richard Morrison</td>\n",
       "      <td>[' band', ' electronic', ' opera', ' singers',...</td>\n",
       "      <td>Reviews</td>\n",
       "      <td>[]</td>\n",
       "      <td>/lustre/home/dc125/shared/TDA_GDA_1785-2009/19...</td>\n",
       "      <td>0FFO-2009-0817-0080-003</td>\n",
       "      <td>0FFO-2009-0817</td>\n",
       "      <td>TheTimesMusicReviews_1950-2009_part2/106801</td>\n",
       "      <td>0.9452</td>\n",
       "      <td>0.100</td>\n",
       "      <td>0.840</td>\n",
       "      <td>0.060</td>\n",
       "      <td>True</td>\n",
       "      <td>False</td>\n",
       "      <td>False</td>\n",
       "      <td>False</td>\n",
       "    </tr>\n",
       "    <tr>\n",
       "      <th>83619</th>\n",
       "      <td>106804</td>\n",
       "      <td>\"Prom 39 BBCSO/Brabbins Albert Hall/Radio 3 w ...</td>\n",
       "      <td>2009</td>\n",
       "      <td>Hilary Finch</td>\n",
       "      <td>[' electronic', ' musical', ' opera', ' orches...</td>\n",
       "      <td>Reviews</td>\n",
       "      <td>[]</td>\n",
       "      <td>/lustre/home/dc125/shared/TDA_GDA_1785-2009/19...</td>\n",
       "      <td>0FFO-2009-0817-0081-001</td>\n",
       "      <td>0FFO-2009-0817</td>\n",
       "      <td>TheTimesMusicReviews_1950-2009_part2/106804</td>\n",
       "      <td>0.9849</td>\n",
       "      <td>0.142</td>\n",
       "      <td>0.805</td>\n",
       "      <td>0.053</td>\n",
       "      <td>True</td>\n",
       "      <td>False</td>\n",
       "      <td>False</td>\n",
       "      <td>False</td>\n",
       "    </tr>\n",
       "  </tbody>\n",
       "</table>\n",
       "</div>"
      ],
      "text/plain": [
       "       identifier                                              title  year  \\\n",
       "83606      106791  John Scrimger, Linda Ormiston, Marilyn HIII Smith  2009   \n",
       "83609      106794                                                 ''  2009   \n",
       "83610      106795                                       Which shows?  2009   \n",
       "83616      106801                    Desolate islands' ghostly power  2009   \n",
       "83619      106804  \"Prom 39 BBCSO/Brabbins Albert Hall/Radio 3 w ...  2009   \n",
       "\n",
       "                 author                                               term  \\\n",
       "83606                ''                             [' musical', ' opera']   \n",
       "83609                ''                  [' classical', ' jazz', ' opera']   \n",
       "83610                ''                    [' musical', ' opera', ' rock']   \n",
       "83616  Richard Morrison  [' band', ' electronic', ' opera', ' singers',...   \n",
       "83619      Hilary Finch  [' electronic', ' musical', ' opera', ' orches...   \n",
       "\n",
       "       section     pages                                           filename  \\\n",
       "83606  Reviews        []  /lustre/home/dc125/shared/TDA_GDA_1785-2009/19...   \n",
       "83609  Reviews        []  /lustre/home/dc125/shared/TDA_GDA_1785-2009/19...   \n",
       "83610  Reviews  ['0271']  /lustre/home/dc125/shared/TDA_GDA_1785-2009/19...   \n",
       "83616  Reviews        []  /lustre/home/dc125/shared/TDA_GDA_1785-2009/19...   \n",
       "83619  Reviews        []  /lustre/home/dc125/shared/TDA_GDA_1785-2009/19...   \n",
       "\n",
       "                    article_id        issue_id  \\\n",
       "83606  0FFO-2009-0815-0268-006  0FFO-2009-0815   \n",
       "83609  0FFO-2009-0815-0268-017  0FFO-2009-0815   \n",
       "83610  0FFO-2009-0815-0271-002  0FFO-2009-0815   \n",
       "83616  0FFO-2009-0817-0080-003  0FFO-2009-0817   \n",
       "83619  0FFO-2009-0817-0081-001  0FFO-2009-0817   \n",
       "\n",
       "                                          filepath  compound  positive  \\\n",
       "83606  TheTimesMusicReviews_1950-2009_part2/106791    0.4939     0.084   \n",
       "83609  TheTimesMusicReviews_1950-2009_part2/106794    0.9812     0.162   \n",
       "83610  TheTimesMusicReviews_1950-2009_part2/106795   -0.9401     0.000   \n",
       "83616  TheTimesMusicReviews_1950-2009_part2/106801    0.9452     0.100   \n",
       "83619  TheTimesMusicReviews_1950-2009_part2/106804    0.9849     0.142   \n",
       "\n",
       "       neutral  negative  with_opera  with_jazz  with_rap  with_rock  \n",
       "83606    0.916     0.000        True      False     False      False  \n",
       "83609    0.802     0.036        True       True     False      False  \n",
       "83610    0.736     0.264        True      False     False       True  \n",
       "83616    0.840     0.060        True      False     False      False  \n",
       "83619    0.805     0.053        True      False     False      False  "
      ]
     },
     "execution_count": 36,
     "metadata": {},
     "output_type": "execute_result"
    }
   ],
   "source": [
    "df_opera.tail()"
   ]
  },
  {
   "cell_type": "markdown",
   "metadata": {},
   "source": [
    "**Step 3:** Calculate the maximum, minimum, and average compound sentiment scores."
   ]
  },
  {
   "cell_type": "code",
   "execution_count": 37,
   "metadata": {},
   "outputs": [
    {
     "name": "stdout",
     "output_type": "stream",
     "text": [
      "Most positive opera review: 1.0\n",
      "Most negative opera review: -0.9998\n",
      "Average opera review compound score: 0.8428176562164506\n"
     ]
    }
   ],
   "source": [
    "print(\"Most positive opera review:\", max(df_opera[\"compound\"]))\n",
    "print(\"Most negative opera review:\", min(df_opera[\"compound\"]))\n",
    "print(\"Average opera review compound score:\", np.mean(df_opera[\"compound\"]))"
   ]
  },
  {
   "cell_type": "markdown",
   "metadata": {},
   "source": [
    "It looks like most of the reviews with the word \"opera\" are pretty positive!  Let's create a visualization of the data so we can get a better sense of the opera data overall.\n",
    "\n",
    "**Step 4:** Graph the compound scores of reviews with the word \"opera.\""
   ]
  },
  {
   "cell_type": "code",
   "execution_count": 38,
   "metadata": {},
   "outputs": [
    {
     "data": {
      "text/html": [
       "<div>\n",
       "<style scoped>\n",
       "    .dataframe tbody tr th:only-of-type {\n",
       "        vertical-align: middle;\n",
       "    }\n",
       "\n",
       "    .dataframe tbody tr th {\n",
       "        vertical-align: top;\n",
       "    }\n",
       "\n",
       "    .dataframe thead th {\n",
       "        text-align: right;\n",
       "    }\n",
       "</style>\n",
       "<table border=\"1\" class=\"dataframe\">\n",
       "  <thead>\n",
       "    <tr style=\"text-align: right;\">\n",
       "      <th></th>\n",
       "      <th>year</th>\n",
       "      <th>compound</th>\n",
       "    </tr>\n",
       "  </thead>\n",
       "  <tbody>\n",
       "    <tr>\n",
       "      <th>55</th>\n",
       "      <td>2005</td>\n",
       "      <td>0.812485</td>\n",
       "    </tr>\n",
       "    <tr>\n",
       "      <th>56</th>\n",
       "      <td>2006</td>\n",
       "      <td>0.664850</td>\n",
       "    </tr>\n",
       "    <tr>\n",
       "      <th>57</th>\n",
       "      <td>2007</td>\n",
       "      <td>0.533270</td>\n",
       "    </tr>\n",
       "    <tr>\n",
       "      <th>58</th>\n",
       "      <td>2008</td>\n",
       "      <td>0.385795</td>\n",
       "    </tr>\n",
       "    <tr>\n",
       "      <th>59</th>\n",
       "      <td>2009</td>\n",
       "      <td>0.692013</td>\n",
       "    </tr>\n",
       "  </tbody>\n",
       "</table>\n",
       "</div>"
      ],
      "text/plain": [
       "    year  compound\n",
       "55  2005  0.812485\n",
       "56  2006  0.664850\n",
       "57  2007  0.533270\n",
       "58  2008  0.385795\n",
       "59  2009  0.692013"
      ]
     },
     "execution_count": 38,
     "metadata": {},
     "output_type": "execute_result"
    }
   ],
   "source": [
    "opera_compound = pd.DataFrame({\"compound\":list(df_opera[\"compound\"]), \"year\":list(df_opera[\"year\"])})\n",
    "opera_yearly = opera_compound.groupby(by=\"year\").mean().reset_index()\n",
    "opera_yearly.tail()"
   ]
  },
  {
   "cell_type": "code",
   "execution_count": 39,
   "metadata": {},
   "outputs": [
    {
     "data": {
      "text/plain": [
       "0.3857946666666665"
      ]
     },
     "execution_count": 39,
     "metadata": {},
     "output_type": "execute_result"
    }
   ],
   "source": [
    "min(opera_yearly[\"compound\"])"
   ]
  },
  {
   "cell_type": "code",
   "execution_count": 49,
   "metadata": {},
   "outputs": [
    {
     "data": {
      "text/plain": [
       "[(0.4, 1),\n",
       " Text(0.5, 1.0, \"Yearly Avg Compound Sentiment Score for 'opera' Reviews\")]"
      ]
     },
     "execution_count": 49,
     "metadata": {},
     "output_type": "execute_result"
    },
    {
     "data": {
      "image/png": "[encoded data removed]",
      "text/plain": [
       "<Figure size 432x288 with 1 Axes>"
      ]
     },
     "metadata": {
      "needs_background": "light"
     },
     "output_type": "display_data"
    }
   ],
   "source": [
    "opera_viz = sns.scatterplot(data=opera_yearly, x=\"year\", y=\"compound\")\n",
    "opera_viz.set(ylim=(0.4,1),title=\"Yearly Avg Compound Sentiment Score for 'opera' Reviews\")"
   ]
  },
  {
   "cell_type": "markdown",
   "metadata": {},
   "source": [
    "**Step 4:** Let's compare these results to the genre \"rock.\""
   ]
  },
  {
   "cell_type": "code",
   "execution_count": 41,
   "metadata": {},
   "outputs": [
    {
     "name": "stdout",
     "output_type": "stream",
     "text": [
      "(9222, 19)\n"
     ]
    },
    {
     "data": {
      "text/html": [
       "<div>\n",
       "<style scoped>\n",
       "    .dataframe tbody tr th:only-of-type {\n",
       "        vertical-align: middle;\n",
       "    }\n",
       "\n",
       "    .dataframe tbody tr th {\n",
       "        vertical-align: top;\n",
       "    }\n",
       "\n",
       "    .dataframe thead th {\n",
       "        text-align: right;\n",
       "    }\n",
       "</style>\n",
       "<table border=\"1\" class=\"dataframe\">\n",
       "  <thead>\n",
       "    <tr style=\"text-align: right;\">\n",
       "      <th></th>\n",
       "      <th>identifier</th>\n",
       "      <th>title</th>\n",
       "      <th>year</th>\n",
       "      <th>author</th>\n",
       "      <th>term</th>\n",
       "      <th>section</th>\n",
       "      <th>pages</th>\n",
       "      <th>filename</th>\n",
       "      <th>article_id</th>\n",
       "      <th>issue_id</th>\n",
       "      <th>filepath</th>\n",
       "      <th>compound</th>\n",
       "      <th>positive</th>\n",
       "      <th>neutral</th>\n",
       "      <th>negative</th>\n",
       "      <th>with_opera</th>\n",
       "      <th>with_jazz</th>\n",
       "      <th>with_rap</th>\n",
       "      <th>with_rock</th>\n",
       "    </tr>\n",
       "  </thead>\n",
       "  <tbody>\n",
       "    <tr>\n",
       "      <th>321</th>\n",
       "      <td>21108</td>\n",
       "      <td>HASTINGS MUSIC FESTIVAL BRAHMS AND HAYDN</td>\n",
       "      <td>1950</td>\n",
       "      <td>FROM OUR SPECIAL CORRESPONDENT</td>\n",
       "      <td>[' composers', ' musical', ' orchestra', ' roc...</td>\n",
       "      <td>Reviews</td>\n",
       "      <td>[]</td>\n",
       "      <td>/lustre/home/dc125/shared/TDA_GDA_1785-2009/19...</td>\n",
       "      <td>0FFO-1950-JUN15-008-021</td>\n",
       "      <td>0FFO-1950-JUN15</td>\n",
       "      <td>TheTimesMusicReviews_1950-2009_part1/21108</td>\n",
       "      <td>0.9941</td>\n",
       "      <td>0.160</td>\n",
       "      <td>0.797</td>\n",
       "      <td>0.043</td>\n",
       "      <td>False</td>\n",
       "      <td>False</td>\n",
       "      <td>False</td>\n",
       "      <td>True</td>\n",
       "    </tr>\n",
       "    <tr>\n",
       "      <th>672</th>\n",
       "      <td>21459</td>\n",
       "      <td>THE CONCERT HALL PLATFORM DESIGN</td>\n",
       "      <td>1951</td>\n",
       "      <td>BY OUR MUSIC CRITIC</td>\n",
       "      <td>[' orchestra', ' rock']</td>\n",
       "      <td>Reviews</td>\n",
       "      <td>[]</td>\n",
       "      <td>/lustre/home/dc125/shared/TDA_GDA_1785-2009/19...</td>\n",
       "      <td>0FFO-1951-APR20-008-015</td>\n",
       "      <td>0FFO-1951-APR20</td>\n",
       "      <td>TheTimesMusicReviews_1950-2009_part1/21459</td>\n",
       "      <td>0.8622</td>\n",
       "      <td>0.067</td>\n",
       "      <td>0.890</td>\n",
       "      <td>0.043</td>\n",
       "      <td>False</td>\n",
       "      <td>False</td>\n",
       "      <td>False</td>\n",
       "      <td>True</td>\n",
       "    </tr>\n",
       "    <tr>\n",
       "      <th>713</th>\n",
       "      <td>21500</td>\n",
       "      <td>'''RECORDING BIRDS ON SCILLIES NIGHT FLIGHT OF...</td>\n",
       "      <td>1951</td>\n",
       "      <td>By Ludwig Koch</td>\n",
       "      <td>[' rock', ' song']</td>\n",
       "      <td>Reviews</td>\n",
       "      <td>['006']</td>\n",
       "      <td>/lustre/home/dc125/shared/TDA_GDA_1785-2009/19...</td>\n",
       "      <td>0FFO-1951-AUG21-006-014</td>\n",
       "      <td>0FFO-1951-AUG21</td>\n",
       "      <td>TheTimesMusicReviews_1950-2009_part1/21500</td>\n",
       "      <td>0.9972</td>\n",
       "      <td>0.109</td>\n",
       "      <td>0.838</td>\n",
       "      <td>0.053</td>\n",
       "      <td>False</td>\n",
       "      <td>False</td>\n",
       "      <td>False</td>\n",
       "      <td>True</td>\n",
       "    </tr>\n",
       "    <tr>\n",
       "      <th>738</th>\n",
       "      <td>21525</td>\n",
       "      <td>THE HAMBURG ORCHESTRA A GERMAN PROGRAMME</td>\n",
       "      <td>1951</td>\n",
       "      <td>''</td>\n",
       "      <td>[' composer', ' composers', ' musical', ' orch...</td>\n",
       "      <td>Reviews</td>\n",
       "      <td>[]</td>\n",
       "      <td>/lustre/home/dc125/shared/TDA_GDA_1785-2009/19...</td>\n",
       "      <td>0FFO-1951-DEC01-008-016</td>\n",
       "      <td>0FFO-1951-DEC01</td>\n",
       "      <td>TheTimesMusicReviews_1950-2009_part1/21525</td>\n",
       "      <td>0.9899</td>\n",
       "      <td>0.148</td>\n",
       "      <td>0.794</td>\n",
       "      <td>0.058</td>\n",
       "      <td>False</td>\n",
       "      <td>False</td>\n",
       "      <td>False</td>\n",
       "      <td>True</td>\n",
       "    </tr>\n",
       "    <tr>\n",
       "      <th>930</th>\n",
       "      <td>21717</td>\n",
       "      <td>GLYNDEBOUTRNE OPERA \" COSI FAN TUITE \"</td>\n",
       "      <td>1951</td>\n",
       "      <td>FROM OUR SPECIAL CORRESPONDENT</td>\n",
       "      <td>[' opera', ' orchestra', ' rock']</td>\n",
       "      <td>Reviews</td>\n",
       "      <td>['004']</td>\n",
       "      <td>/lustre/home/dc125/shared/TDA_GDA_1785-2009/19...</td>\n",
       "      <td>0FFO-1951-JUL02-004-018</td>\n",
       "      <td>0FFO-1951-JUL02</td>\n",
       "      <td>TheTimesMusicReviews_1950-2009_part1/21717</td>\n",
       "      <td>0.9452</td>\n",
       "      <td>0.106</td>\n",
       "      <td>0.870</td>\n",
       "      <td>0.024</td>\n",
       "      <td>True</td>\n",
       "      <td>False</td>\n",
       "      <td>False</td>\n",
       "      <td>True</td>\n",
       "    </tr>\n",
       "  </tbody>\n",
       "</table>\n",
       "</div>"
      ],
      "text/plain": [
       "     identifier                                              title  year  \\\n",
       "321       21108           HASTINGS MUSIC FESTIVAL BRAHMS AND HAYDN  1950   \n",
       "672       21459                   THE CONCERT HALL PLATFORM DESIGN  1951   \n",
       "713       21500  '''RECORDING BIRDS ON SCILLIES NIGHT FLIGHT OF...  1951   \n",
       "738       21525           THE HAMBURG ORCHESTRA A GERMAN PROGRAMME  1951   \n",
       "930       21717             GLYNDEBOUTRNE OPERA \" COSI FAN TUITE \"  1951   \n",
       "\n",
       "                             author  \\\n",
       "321  FROM OUR SPECIAL CORRESPONDENT   \n",
       "672             BY OUR MUSIC CRITIC   \n",
       "713                  By Ludwig Koch   \n",
       "738                              ''   \n",
       "930  FROM OUR SPECIAL CORRESPONDENT   \n",
       "\n",
       "                                                  term  section    pages  \\\n",
       "321  [' composers', ' musical', ' orchestra', ' roc...  Reviews       []   \n",
       "672                            [' orchestra', ' rock']  Reviews       []   \n",
       "713                                 [' rock', ' song']  Reviews  ['006']   \n",
       "738  [' composer', ' composers', ' musical', ' orch...  Reviews       []   \n",
       "930                  [' opera', ' orchestra', ' rock']  Reviews  ['004']   \n",
       "\n",
       "                                              filename  \\\n",
       "321  /lustre/home/dc125/shared/TDA_GDA_1785-2009/19...   \n",
       "672  /lustre/home/dc125/shared/TDA_GDA_1785-2009/19...   \n",
       "713  /lustre/home/dc125/shared/TDA_GDA_1785-2009/19...   \n",
       "738  /lustre/home/dc125/shared/TDA_GDA_1785-2009/19...   \n",
       "930  /lustre/home/dc125/shared/TDA_GDA_1785-2009/19...   \n",
       "\n",
       "                  article_id         issue_id  \\\n",
       "321  0FFO-1950-JUN15-008-021  0FFO-1950-JUN15   \n",
       "672  0FFO-1951-APR20-008-015  0FFO-1951-APR20   \n",
       "713  0FFO-1951-AUG21-006-014  0FFO-1951-AUG21   \n",
       "738  0FFO-1951-DEC01-008-016  0FFO-1951-DEC01   \n",
       "930  0FFO-1951-JUL02-004-018  0FFO-1951-JUL02   \n",
       "\n",
       "                                       filepath  compound  positive  neutral  \\\n",
       "321  TheTimesMusicReviews_1950-2009_part1/21108    0.9941     0.160    0.797   \n",
       "672  TheTimesMusicReviews_1950-2009_part1/21459    0.8622     0.067    0.890   \n",
       "713  TheTimesMusicReviews_1950-2009_part1/21500    0.9972     0.109    0.838   \n",
       "738  TheTimesMusicReviews_1950-2009_part1/21525    0.9899     0.148    0.794   \n",
       "930  TheTimesMusicReviews_1950-2009_part1/21717    0.9452     0.106    0.870   \n",
       "\n",
       "     negative  with_opera  with_jazz  with_rap  with_rock  \n",
       "321     0.043       False      False     False       True  \n",
       "672     0.043       False      False     False       True  \n",
       "713     0.053       False      False     False       True  \n",
       "738     0.058       False      False     False       True  \n",
       "930     0.024        True      False     False       True  "
      ]
     },
     "execution_count": 41,
     "metadata": {},
     "output_type": "execute_result"
    }
   ],
   "source": [
    "with_rock = termFilter(\" rock\", df)\n",
    "df[\"with_rock\"] = with_rock\n",
    "df_rock = df[df[\"with_rock\"] == True]\n",
    "print(df_rock.shape)\n",
    "df_rock.head()"
   ]
  },
  {
   "cell_type": "code",
   "execution_count": 42,
   "metadata": {},
   "outputs": [
    {
     "name": "stdout",
     "output_type": "stream",
     "text": [
      "Most positive rock review: 1.0\n",
      "Most negative rock review: -0.9998\n",
      "Average rock review compound score: 0.7506756126653603\n"
     ]
    }
   ],
   "source": [
    "print(\"Most positive rock review:\", max(df_rock[\"compound\"]))\n",
    "print(\"Most negative rock review:\", min(df_rock[\"compound\"]))\n",
    "print(\"Average rock review compound score:\", np.mean(df_rock[\"compound\"]))"
   ]
  },
  {
   "cell_type": "markdown",
   "metadata": {},
   "source": [
    "On average, the reviews with the term \"rock\" have a slightly less positive score than reviews with the term \"opera.\""
   ]
  },
  {
   "cell_type": "code",
   "execution_count": 43,
   "metadata": {},
   "outputs": [
    {
     "data": {
      "text/plain": [
       "0.3533727941176474"
      ]
     },
     "execution_count": 43,
     "metadata": {},
     "output_type": "execute_result"
    }
   ],
   "source": [
    "rock_compound = pd.DataFrame({\"compound\":list(df_rock[\"compound\"]), \"year\":list(df_rock[\"year\"])})\n",
    "rock_yearly = rock_compound.groupby(by=\"year\").mean().reset_index()\n",
    "min(rock_yearly[\"compound\"])"
   ]
  },
  {
   "cell_type": "code",
   "execution_count": 50,
   "metadata": {},
   "outputs": [
    {
     "data": {
      "text/plain": [
       "[(0.4, 1),\n",
       " Text(0.5, 1.0, \"Yearly Avg Compound Sentiment Score for 'rock' Reviews\")]"
      ]
     },
     "execution_count": 50,
     "metadata": {},
     "output_type": "execute_result"
    },
    {
     "data": {
      "image/png": "[encoded data removed]",
      "text/plain": [
       "<Figure size 432x288 with 1 Axes>"
      ]
     },
     "metadata": {
      "needs_background": "light"
     },
     "output_type": "display_data"
    }
   ],
   "source": [
    "rock_viz = sns.scatterplot(data=rock_yearly, x=\"year\", y=\"compound\")\n",
    "rock_viz.set(ylim=(0.4, 1), title=\"Yearly Avg Compound Sentiment Score for 'rock' Reviews\")  # use the same y range as the opera visualization"
   ]
  },
  {
   "cell_type": "markdown",
   "metadata": {},
   "source": [
    "This looks quite different from the \"opera\" visualization!  The sentiment fluctuates more from year to year and overall doesn't go drop as low as opera does.  Since 1980, both have a downward trend, moving towards less positive sentiment (though not reaching what the VADER documentation classifies as negative sentiment).\n",
    "\n",
    "**Step 5:** How about reviews with the term \"rap?\""
   ]
  },
  {
   "cell_type": "code",
   "execution_count": 45,
   "metadata": {},
   "outputs": [
    {
     "name": "stdout",
     "output_type": "stream",
     "text": [
      "(1925, 19)\n",
      "Most positive rock review: 0.9999\n",
      "Most negative rock review: -0.9998\n",
      "Average rock review compound score: 0.7471128311688315\n"
     ]
    },
    {
     "data": {
      "text/plain": [
       "-0.6756"
      ]
     },
     "execution_count": 45,
     "metadata": {},
     "output_type": "execute_result"
    }
   ],
   "source": [
    "with_rock = termFilter(\" rap\", df)\n",
    "df[\"with_rap\"] = with_rock\n",
    "df_rap = df[df[\"with_rap\"] == True]\n",
    "print(df_rap.shape)\n",
    "print(\"Most positive rock review:\", max(df_rap[\"compound\"]))\n",
    "print(\"Most negative rock review:\", min(df_rap[\"compound\"]))\n",
    "print(\"Average rock review compound score:\", np.mean(df_rap[\"compound\"]))\n",
    "rap_compound = pd.DataFrame({\"compound\":list(df_rap[\"compound\"]), \"year\":list(df_rap[\"year\"])})\n",
    "rap_yearly = rap_compound.groupby(by=\"year\").mean().reset_index()\n",
    "min(rap_yearly[\"compound\"])"
   ]
  },
  {
   "cell_type": "code",
   "execution_count": 51,
   "metadata": {},
   "outputs": [
    {
     "data": {
      "text/plain": [
       "[(0.4, 1),\n",
       " Text(0.5, 1.0, \"Yearly Avg Compound Sentiment Score for 'rap' Reviews\")]"
      ]
     },
     "execution_count": 51,
     "metadata": {},
     "output_type": "execute_result"
    },
    {
     "data": {
      "image/png": "[encoded data removed]",
      "text/plain": [
       "<Figure size 432x288 with 1 Axes>"
      ]
     },
     "metadata": {
      "needs_background": "light"
     },
     "output_type": "display_data"
    }
   ],
   "source": [
    "rap_viz = sns.scatterplot(data=rap_yearly, x=\"year\", y=\"compound\")\n",
    "rap_viz.set(ylim=(0.4, 1), title=\"Yearly Avg Compound Sentiment Score for 'rap' Reviews\")  # use the same y range as the opera visualization"
   ]
  },
  {
   "cell_type": "markdown",
   "metadata": {},
   "source": [
    "Again a very different visualization!\n",
    "\n",
    "Let's export all three charts for quick reference and comparison."
   ]
  },
  {
   "cell_type": "code",
   "execution_count": 52,
   "metadata": {},
   "outputs": [],
   "source": [
    "opera_viz.figure.savefig(\"yearly_compound_opera.png\")\n",
    "rock_viz.figure.savefig(\"yearly_compound_rock.png\")\n",
    "rap_viz.figure.savefig(\"yearly_compound_rap.png\")"
   ]
  },
  {
   "cell_type": "code",
   "execution_count": null,
   "metadata": {},
   "outputs": [],
   "source": [
    "# to try: https://seaborn.pydata.org/examples/timeseries_facets.html"
   ]
  }
 ],
 "metadata": {
  "kernelspec": {
   "display_name": "Python 3",
   "language": "python",
   "name": "python3"
  },
  "language_info": {
   "codemirror_mode": {
    "name": "ipython",
    "version": 3
   },
   "file_extension": ".py",
   "mimetype": "text/x-python",
   "name": "python",
   "nbconvert_exporter": "python",
   "pygments_lexer": "ipython3",
   "version": "3.8.5"
  }
 },
 "nbformat": 4,
 "nbformat_minor": 4
}
