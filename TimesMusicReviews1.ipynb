{
 "cells": [
  {
   "cell_type": "markdown",
   "metadata": {},
   "source": [
    "# Sentiment Analysis of The Times Music Reviews\n",
    "## Part I: Data Preparation\n",
    "*How have artforms been reported?  Is there a status hierarchy between them?  How has this changed over time?*\n",
    "\n",
    "* **Project:** What counts as culture?  Reporting and criticism in The Times 1785-2000\n",
    "* **Project Lead:** Dave O'Brien\n",
    "* **Developer:** Lucy Havens\n",
    "* **Funding:** from the Centre for Data, Culture & Society, University of Edinburgh\n",
    "\n",
    "Begun February 2021"
   ]
  },
  {
   "cell_type": "markdown",
   "metadata": {},
   "source": [
    "### 1. Load Data\n",
    "Before we can write much code, we need to import programming libraries needed for data loading and tranformation:"
   ]
  },
  {
   "cell_type": "code",
   "execution_count": 1,
   "metadata": {},
   "outputs": [],
   "source": [
    "import re\n",
    "import string\n",
    "import numpy as np\n",
    "import pandas as pd"
   ]
  },
  {
   "cell_type": "code",
   "execution_count": 3,
   "metadata": {},
   "outputs": [],
   "source": [
    "# From https://github.com/defoe-code/defoe/blob/master/queries/music_genres.txt\n",
    "genres = [\"Music\", \"African\", \"Big Band\", \"Bluegrass\", \"Country\", \"Blues\", \"Musical\", \"Classical\", \"Electronic\",\n",
    "          \"Folk\", \"Gospel\", \"Hip Hop\", \"Jazz\", \"Latin\", \"Metal\", \"Easy Listening\", \"Opera\", \"Pop\", \"Rap\", \"Rave\",\n",
    "          \"Reggae\", \"Rock\"\n",
    "         ]\n",
    "musical_terms = []"
   ]
  },
  {
   "cell_type": "code",
   "execution_count": 4,
   "metadata": {
    "collapsed": true,
    "jupyter": {
     "outputs_hidden": true,
     "source_hidden": true
    }
   },
   "outputs": [
    {
     "name": "stdout",
     "output_type": "stream",
     "text": [
      "1819:\n",
      "- 'article_id:': 0FFO-1819-DEC01-001-004\n",
      "  'authors:': ''\n",
      "  filename: /lustre/home/sc048/rosaf4/TDA_GDA_1785-2009/1785_1909/0FFO-1819-DEC01.xml\n",
      "  issue_id: 0FFO-1819-DEC01\n",
      "  original text: \"PARLIAMIENTARY INTELLIGEATCE. HOUSE OF LORDS. TITTRAnAr NrlV. ?d)\\\n",
      "    \\ CASH PAVNMT,N''T.S. * TIiie H~ari of LAAUD~ERDALE, seeing a noble lord in his\\\n",
      "    \\ place, f4rom whom~ he -niighit expect to obtain information on a subject of\\\n",
      "    \\ imvportaiice respecting the currency of the country, wished to knowv whietheor\\\n",
      "    \\ there waLs any truith in a report whichl prevailed, that minis- ters intended\\\n",
      "    \\ to make a proposition to Pa-rliam-ent for preventing the resuimption of cashi-payments\\\n",
      "    \\ at the time fixed by the act 1' Thle Earl of LIVERPOOL did ,lot know uipon whlat\\\n",
      "    \\ grouind suchl an idea couild hiave been entertained by aniy part of tile public.\\\n",
      "    \\ ex- cep tht,in hi gratmetoplis te most absurdI and unfoundedc reprtsmigt otai\\\n",
      "    \\ crditfro soe; buthe-could assutre the\n"
     ]
    }
   ],
   "source": [
    "file = open(\"../TheTimes_DaveO/TimesMusicReviewsData/results_music_types_excluding_music_details\", \"r\")\n",
    "data = file.read()\n",
    "print(data[:1000])\n",
    "file.close()\n",
    "# YAML file format:\n",
    "#     Year\n",
    "#     - 'article_id:':\n",
    "#       'authors:' ''\n",
    "#       filename: ...\n",
    "#       issue_id: ...\n",
    "#       original text: \" .....\\\n",
    "#                        ......\"\n",
    "#       page_ids:\n",
    "#       - '000'\n",
    "#       - '000'\n",
    "#       - '000'\n",
    "#       term: ...\n",
    "#       title: ..."
   ]
  },
  {
   "cell_type": "markdown",
   "metadata": {},
   "source": [
    "Now we can read the data file from the defoe query, which looked for articles in the Reviews section of *The Times*, from 1910 onwards, that contain any of the following terms:\n",
    "* song(s)\n",
    "* lyric(s)\n",
    "* album(s)\n",
    "* band(s)\n",
    "* artist(s)\n",
    "* singer(s)\n",
    "* songwriter(s)\n",
    "* rapper(s)\n",
    "* composer(s)\n",
    "* composition(s)\n",
    "* orchestra(s)\n",
    "* DJ(s)\n",
    "* Music\n",
    "* African\n",
    "* Big Band\n",
    "* Bluegrass\n",
    "* Country\n",
    "* Blues\n",
    "* Musical\n",
    "* Classical\n",
    "* Electronic\n",
    "* Folk\n",
    "* Gospel\n",
    "* Hip Hop\n",
    "* Jazz\n",
    "* Latin\n",
    "* Metal\n",
    "* Easy Listening\n",
    "* Opera\n",
    "* Pop\n",
    "* Rap\n",
    "* Rave\n",
    "* Reggae\n",
    "* Rock"
   ]
  },
  {
   "cell_type": "code",
   "execution_count": 2,
   "metadata": {},
   "outputs": [
    {
     "name": "stdout",
     "output_type": "stream",
     "text": [
      "1910:\n",
      "- 'article_id:': 0FFO-1910-JAN06-011-005\n",
      "  'authors:': ''\n",
      "  filename: /lustre/home/dc125/shared/TDA_GDA_1785-2009/1910_2010/0FFO-1910-JAN06.xml\n",
      "  issue_id: 0FFO-1910-JAN06\n",
      "  original text: Nrsic. NEW PIAOFORTE MUSIC. Among pianoforto duets sont by Meessrs.\n",
      "    Augenor there aro a couplo of very elementary little. pieces. written by Francis\n",
      "    Edwaard Bache for his little brothers, ono of whom afterwards became eminent as\n",
      "    a solo planist; two books of F. Kirchners consist of dances, Spanish and. Bohemian\n",
      "    respee- tively, and arrangements are cent of Wagner's \" Huldigungsmarsch \" and\n",
      "    Thomnas's anaytond over- ture. X. Scharwenka's well-knouwn PoIsh dance is set\n",
      "    for solo, duct, and quartet (two pianas, eight -hands). Among educational publications,\n",
      "    there aro Duvernoy's graceful \"Melodious Studies,\" an elementary book of some\n",
      "    value by G. florvith; numerous books of rather slight quality by Paul Zilcher,\n",
      "    a well-arranged book by G. Schifer, who also has compil\n"
     ]
    }
   ],
   "source": [
    "file = open(\"../TheTimes_DaveO/results_keysearch_details_tda-1910_2010\", \"r\")\n",
    "data = file.read()\n",
    "print(data[:1000])\n",
    "file.close()\n",
    "# YAML file format:\n",
    "#     Year\n",
    "#     - 'article_id:':\n",
    "#       'authors:' ''\n",
    "#       filename: ...\n",
    "#       issue_id: ...\n",
    "#       original text: \" .....\\\n",
    "#                        ......\"\n",
    "#       page_ids:\n",
    "#       - '000'\n",
    "#       - '000'\n",
    "#       - '000'\n",
    "#       section:\n",
    "#       term: \n",
    "#       - ...\n",
    "#       title: ..."
   ]
  },
  {
   "cell_type": "markdown",
   "metadata": {},
   "source": [
    "### 2. Transform Data\n",
    "#### 2.1 Create a CSV file containing article metadata\n",
    "**Step 1:** Create a list of for each metadata field for all articles, meaning all article_ids are in one list, all authors are in another list, etc.  The lists should all be the same length, with one item for every article in the corpus."
   ]
  },
  {
   "cell_type": "code",
   "execution_count": 3,
   "metadata": {},
   "outputs": [],
   "source": [
    "def readFileByLines(filepath):\n",
    "    file = open(filepath,'r')\n",
    "    lines_list = file.readlines()\n",
    "    file.close()\n",
    "    return lines_list"
   ]
  },
  {
   "cell_type": "code",
   "execution_count": 29,
   "metadata": {},
   "outputs": [],
   "source": [
    "def createDataLists(lines_list):\n",
    "    article_ids, authors, filenames, issue_ids, terms, sections, titles, years, original_texts, page_ids = [], [], [], [], [], [], [], [], [], []\n",
    "    y = ''\n",
    "    txt = False\n",
    "    pages = []\n",
    "    term = []\n",
    "    for line in lines_list:\n",
    "        # Check if the line is a year\n",
    "        date = re.findall(\"\\d{4}:\\n\", line)\n",
    "        if len(date) != 0:\n",
    "            date = int(date[0][0:4])\n",
    "            # Valid dates should be no earlier than 1910\n",
    "            # and no later than 2010 in this corpus\n",
    "            if date >= 1910 and date <= 2010:\n",
    "                y = date\n",
    "        else:\n",
    "            if \"'article_id:':\" in line:\n",
    "                a_id = line.replace(\"'article_id:':\",\"\")\n",
    "                a_id = a_id.strip('-')\n",
    "                a_id = a_id.strip()\n",
    "            elif \"'authors:':\" in line:\n",
    "                auth = line.replace(\"'authors:':\", \"\")\n",
    "                auth = auth.strip()\n",
    "            elif \"filename:\" in line:\n",
    "                f = line.replace(\"filename:\",'')\n",
    "                f = f.strip()\n",
    "            elif 'issue_id:' in line:\n",
    "                i_id = line.replace('issue_id:','')\n",
    "                i_id = i_id.strip()\n",
    "            elif 'original text:' in line:\n",
    "                txt = line.replace('original text:','')\n",
    "                txt = txt.replace(\"\\\\\",\"\")\n",
    "                txt = txt.strip()\n",
    "            elif 'term:' in line:\n",
    "                t = line.replace('term:','')\n",
    "                t = t.strip()\n",
    "                if len(t) > 0:\n",
    "                    term += [t]\n",
    "            elif re.search(\"  - [a-zA-Z]+\", line) != None:\n",
    "                t = re.search(\"  - [a-zA-Z]+\", line)[0]\n",
    "                t = t.replace('  -','')\n",
    "                term += [t]\n",
    "            elif 'section:' in line:\n",
    "                sec = line.replace('section:','')\n",
    "                sec = sec.strip()\n",
    "            elif re.search(\"- '(\\d)+'\", line) != None:\n",
    "                p = re.search(\"- '(\\d)+'\", line)[0]\n",
    "                p = p.strip('-')\n",
    "                p = p.strip()\n",
    "                p = p.strip(\"'\")\n",
    "                pages += [p]\n",
    "            # only the first line of the original text is preceded with a line name,\n",
    "            # so all lines without one of the line names above, without the line page_ids,\n",
    "            # and with backslashes are original text\n",
    "            elif ('page_ids:' not in line) and (\"  - \" not in line) and ('title:' not in line) and (txt):\n",
    "                txt_cont = line.replace(\"\\\\\",\"\")\n",
    "                txt_cont = txt_cont.strip()\n",
    "                txt += \" \" + txt_cont\n",
    "            elif txt and ('title:' in line):\n",
    "                t = line.replace('title:','')\n",
    "                t = t.strip()\n",
    "                titles += [t]\n",
    "                # title is the last line per term details instance, so add the completed\n",
    "                # original text, pages and year the article was published after this line, along\n",
    "                # with all the remaining data, and reset the original text, year, and pages variables\n",
    "#                 if txt:\n",
    "                txt = txt.strip('\\\"') # Remove leading and ending quotation marks, if present\n",
    "                original_texts += [txt]\n",
    "                txt = False\n",
    "                years += [y]\n",
    "                page_ids += [pages]\n",
    "                pages = []\n",
    "                article_ids += [a_id]\n",
    "                authors += [auth]\n",
    "                filenames += [f]\n",
    "                issue_ids += [i_id]\n",
    "                terms += [term]\n",
    "                term = []\n",
    "                sections += [sec]\n",
    "                \n",
    "    return article_ids, authors, filenames, issue_ids, terms, sections, titles, years, original_texts, page_ids"
   ]
  },
  {
   "cell_type": "code",
   "execution_count": 30,
   "metadata": {},
   "outputs": [],
   "source": [
    "# times_lines = readFileByLines(\"../TheTimes_DaveO/TimesMusicReviewsData/results_music_types_excluding_music_details\")\n",
    "times_lines = readFileByLines(\"../TheTimes_DaveO/results_keysearch_details_tda-1910_2010\")\n",
    "article_ids, authors, filenames, issue_ids, terms, sections, titles, years, original_texts, page_ids = createDataLists(times_lines)\n",
    "assert len(article_ids) == len(years)\n",
    "assert len(authors) == len(filenames)\n",
    "assert len(original_texts) == len(terms)\n",
    "assert len(issue_ids) == len(titles)\n",
    "assert len(page_ids) == len(original_texts)\n",
    "assert len(authors) == len(sections)"
   ]
  },
  {
   "cell_type": "code",
   "execution_count": 31,
   "metadata": {},
   "outputs": [
    {
     "name": "stdout",
     "output_type": "stream",
     "text": [
      "Total articles: 106810\n"
     ]
    }
   ],
   "source": [
    "print(\"Total articles:\", len(article_ids))\n",
    "# print(len(authors))\n",
    "# print(len(filenames))\n",
    "# print(len(issue_ids))\n",
    "# print(len(terms))\n",
    "# print(len(titles))\n",
    "# print(len(years))\n",
    "# print(len(original_texts))\n",
    "# print(len(page_ids))"
   ]
  },
  {
   "cell_type": "markdown",
   "metadata": {},
   "source": [
    "Let's print the beginning and end of an article's text to see what it looks like:"
   ]
  },
  {
   "cell_type": "code",
   "execution_count": 21,
   "metadata": {},
   "outputs": [
    {
     "name": "stdout",
     "output_type": "stream",
     "text": [
      "SAVOY THE.ATRE.-MiSs Amy Evans now appeats as Sclene, Queen of. the Flairics, the part in Fallen FairCs hitherto taken by 3iss 'ancy McIntosh. Miss Evans ih new to the London musical stage, thongh she has, we believe, been heard on the concert platform, and sho ought to prove a valuable addition to our sopranos. Sihe has a delicate but a beautiful voice. Heir high notes, both forlisaimo and piantW\n",
      "iola and Its famous makers. Yesterday the delegates visited Canterbury, and went over tho cathedral.\n"
     ]
    }
   ],
   "source": [
    "print(original_texts[1][:400])\n",
    "print(original_texts[1][-100:])"
   ]
  },
  {
   "cell_type": "markdown",
   "metadata": {},
   "source": [
    "The `\\` at the beginning of each line of `original text` and the `\"...\"` surrounding the entire `original text` entries have successfully been removed!\n",
    "\n",
    "**Step 2:** Create a DataFrame of all data lists except the articles' text (stored in the `original_text` list) that can serve as our inventory of articles.  *DataFrames* are essentially tables, organizing data into rows and columns for easy export as a CSV that can be viewed in Microsoft Excel!"
   ]
  },
  {
   "cell_type": "code",
   "execution_count": 32,
   "metadata": {},
   "outputs": [
    {
     "data": {
      "text/html": [
       "<div>\n",
       "<style scoped>\n",
       "    .dataframe tbody tr th:only-of-type {\n",
       "        vertical-align: middle;\n",
       "    }\n",
       "\n",
       "    .dataframe tbody tr th {\n",
       "        vertical-align: top;\n",
       "    }\n",
       "\n",
       "    .dataframe thead th {\n",
       "        text-align: right;\n",
       "    }\n",
       "</style>\n",
       "<table border=\"1\" class=\"dataframe\">\n",
       "  <thead>\n",
       "    <tr style=\"text-align: right;\">\n",
       "      <th></th>\n",
       "      <th>title</th>\n",
       "      <th>year</th>\n",
       "      <th>author</th>\n",
       "      <th>term</th>\n",
       "      <th>section</th>\n",
       "      <th>pages</th>\n",
       "      <th>filename</th>\n",
       "      <th>article_id</th>\n",
       "      <th>issue_id</th>\n",
       "    </tr>\n",
       "  </thead>\n",
       "  <tbody>\n",
       "    <tr>\n",
       "      <th>0</th>\n",
       "      <td>Nrsic. NEW PIAOFORTE MUSIC.</td>\n",
       "      <td>1910</td>\n",
       "      <td>''</td>\n",
       "      <td>[ composer,  composers,  compositions,  opera,...</td>\n",
       "      <td>Reviews</td>\n",
       "      <td>[011]</td>\n",
       "      <td>/lustre/home/dc125/shared/TDA_GDA_1785-2009/19...</td>\n",
       "      <td>0FFO-1910-JAN06-011-005</td>\n",
       "      <td>0FFO-1910-JAN06</td>\n",
       "    </tr>\n",
       "    <tr>\n",
       "      <th>1</th>\n",
       "      <td>''</td>\n",
       "      <td>1910</td>\n",
       "      <td>''</td>\n",
       "      <td>[ band,  composer,  musical,  opera]</td>\n",
       "      <td>Reviews</td>\n",
       "      <td>[011]</td>\n",
       "      <td>/lustre/home/dc125/shared/TDA_GDA_1785-2009/19...</td>\n",
       "      <td>0FFO-1910-JAN06-011-021</td>\n",
       "      <td>0FFO-1910-JAN06</td>\n",
       "    </tr>\n",
       "    <tr>\n",
       "      <th>2</th>\n",
       "      <td>MlJSIc. ENGUSH MUSIC IN ROME.</td>\n",
       "      <td>1910</td>\n",
       "      <td>''</td>\n",
       "      <td>[ orchestra]</td>\n",
       "      <td>Reviews</td>\n",
       "      <td>[]</td>\n",
       "      <td>/lustre/home/dc125/shared/TDA_GDA_1785-2009/19...</td>\n",
       "      <td>0FFO-1910-JAN07-009-009</td>\n",
       "      <td>0FFO-1910-JAN07</td>\n",
       "    </tr>\n",
       "    <tr>\n",
       "      <th>3</th>\n",
       "      <td>IuSIC. MUSIC IN TIE THEATRE.</td>\n",
       "      <td>1910</td>\n",
       "      <td>''</td>\n",
       "      <td>[ composers,  lyrics,  musical,  opera,  orche...</td>\n",
       "      <td>Reviews</td>\n",
       "      <td>[011]</td>\n",
       "      <td>/lustre/home/dc125/shared/TDA_GDA_1785-2009/19...</td>\n",
       "      <td>0FFO-1910-JAN08-011-015</td>\n",
       "      <td>0FFO-1910-JAN08</td>\n",
       "    </tr>\n",
       "    <tr>\n",
       "      <th>4</th>\n",
       "      <td>THE THEATRES.</td>\n",
       "      <td>1910</td>\n",
       "      <td>''</td>\n",
       "      <td>[ classical,  musical,  singer]</td>\n",
       "      <td>Reviews</td>\n",
       "      <td>[]</td>\n",
       "      <td>/lustre/home/dc125/shared/TDA_GDA_1785-2009/19...</td>\n",
       "      <td>0FFO-1910-JAN10-008-003</td>\n",
       "      <td>0FFO-1910-JAN10</td>\n",
       "    </tr>\n",
       "    <tr>\n",
       "      <th>5</th>\n",
       "      <td>WusIC. PROGRADIES OF TEE WVEEK.</td>\n",
       "      <td>1910</td>\n",
       "      <td>''</td>\n",
       "      <td>[ artists,  composer,  composers,  opera,  orc...</td>\n",
       "      <td>Reviews</td>\n",
       "      <td>[011]</td>\n",
       "      <td>/lustre/home/dc125/shared/TDA_GDA_1785-2009/19...</td>\n",
       "      <td>0FFO-1910-JAN10-011-007</td>\n",
       "      <td>0FFO-1910-JAN10</td>\n",
       "    </tr>\n",
       "    <tr>\n",
       "      <th>6</th>\n",
       "      <td>MUSIC. ST. JOHN'S COLLEOG (CVIBRIDGE) 9ISSION ...</td>\n",
       "      <td>1910</td>\n",
       "      <td>(FROM OUR OWN CORRESPONDENT.)</td>\n",
       "      <td>[ composer,  composers,  composition,  musical...</td>\n",
       "      <td>Reviews</td>\n",
       "      <td>[013]</td>\n",
       "      <td>/lustre/home/dc125/shared/TDA_GDA_1785-2009/19...</td>\n",
       "      <td>0FFO-1910-JAN12-013-013</td>\n",
       "      <td>0FFO-1910-JAN12</td>\n",
       "    </tr>\n",
       "    <tr>\n",
       "      <th>7</th>\n",
       "      <td>BOOKS Or PtpEENtxECE. .\" \"BltR's .PrxA4r' 1910.</td>\n",
       "      <td>1910</td>\n",
       "      <td>''</td>\n",
       "      <td>[ country]</td>\n",
       "      <td>Reviews</td>\n",
       "      <td>[013]</td>\n",
       "      <td>/lustre/home/dc125/shared/TDA_GDA_1785-2009/19...</td>\n",
       "      <td>0FFO-1910-JAN12-013-014</td>\n",
       "      <td>0FFO-1910-JAN12</td>\n",
       "    </tr>\n",
       "    <tr>\n",
       "      <th>8</th>\n",
       "      <td>WYNDHIAM'S THEATRE. \" CAPTAIN KIDD.\" .A Musica...</td>\n",
       "      <td>1910</td>\n",
       "      <td>''</td>\n",
       "      <td>[ composer,  lyrics,  musical]</td>\n",
       "      <td>Reviews</td>\n",
       "      <td>[010]</td>\n",
       "      <td>/lustre/home/dc125/shared/TDA_GDA_1785-2009/19...</td>\n",
       "      <td>0FFO-1910-JAN13-010-018</td>\n",
       "      <td>0FFO-1910-JAN13</td>\n",
       "    </tr>\n",
       "    <tr>\n",
       "      <th>9</th>\n",
       "      <td>I . . I MuSIC. LONDON OEWBER CONCERT ASSOcIATION,</td>\n",
       "      <td>1910</td>\n",
       "      <td>''</td>\n",
       "      <td>[ artist,  composer,  composers]</td>\n",
       "      <td>Reviews</td>\n",
       "      <td>[011]</td>\n",
       "      <td>/lustre/home/dc125/shared/TDA_GDA_1785-2009/19...</td>\n",
       "      <td>0FFO-1910-JAN13-011-005</td>\n",
       "      <td>0FFO-1910-JAN13</td>\n",
       "    </tr>\n",
       "  </tbody>\n",
       "</table>\n",
       "</div>"
      ],
      "text/plain": [
       "                                               title  year  \\\n",
       "0                        Nrsic. NEW PIAOFORTE MUSIC.  1910   \n",
       "1                                                 ''  1910   \n",
       "2                      MlJSIc. ENGUSH MUSIC IN ROME.  1910   \n",
       "3                       IuSIC. MUSIC IN TIE THEATRE.  1910   \n",
       "4                                      THE THEATRES.  1910   \n",
       "5                    WusIC. PROGRADIES OF TEE WVEEK.  1910   \n",
       "6  MUSIC. ST. JOHN'S COLLEOG (CVIBRIDGE) 9ISSION ...  1910   \n",
       "7    BOOKS Or PtpEENtxECE. .\" \"BltR's .PrxA4r' 1910.  1910   \n",
       "8  WYNDHIAM'S THEATRE. \" CAPTAIN KIDD.\" .A Musica...  1910   \n",
       "9  I . . I MuSIC. LONDON OEWBER CONCERT ASSOcIATION,  1910   \n",
       "\n",
       "                          author  \\\n",
       "0                             ''   \n",
       "1                             ''   \n",
       "2                             ''   \n",
       "3                             ''   \n",
       "4                             ''   \n",
       "5                             ''   \n",
       "6  (FROM OUR OWN CORRESPONDENT.)   \n",
       "7                             ''   \n",
       "8                             ''   \n",
       "9                             ''   \n",
       "\n",
       "                                                term  section  pages  \\\n",
       "0  [ composer,  composers,  compositions,  opera,...  Reviews  [011]   \n",
       "1               [ band,  composer,  musical,  opera]  Reviews  [011]   \n",
       "2                                       [ orchestra]  Reviews     []   \n",
       "3  [ composers,  lyrics,  musical,  opera,  orche...  Reviews  [011]   \n",
       "4                    [ classical,  musical,  singer]  Reviews     []   \n",
       "5  [ artists,  composer,  composers,  opera,  orc...  Reviews  [011]   \n",
       "6  [ composer,  composers,  composition,  musical...  Reviews  [013]   \n",
       "7                                         [ country]  Reviews  [013]   \n",
       "8                     [ composer,  lyrics,  musical]  Reviews  [010]   \n",
       "9                   [ artist,  composer,  composers]  Reviews  [011]   \n",
       "\n",
       "                                            filename               article_id  \\\n",
       "0  /lustre/home/dc125/shared/TDA_GDA_1785-2009/19...  0FFO-1910-JAN06-011-005   \n",
       "1  /lustre/home/dc125/shared/TDA_GDA_1785-2009/19...  0FFO-1910-JAN06-011-021   \n",
       "2  /lustre/home/dc125/shared/TDA_GDA_1785-2009/19...  0FFO-1910-JAN07-009-009   \n",
       "3  /lustre/home/dc125/shared/TDA_GDA_1785-2009/19...  0FFO-1910-JAN08-011-015   \n",
       "4  /lustre/home/dc125/shared/TDA_GDA_1785-2009/19...  0FFO-1910-JAN10-008-003   \n",
       "5  /lustre/home/dc125/shared/TDA_GDA_1785-2009/19...  0FFO-1910-JAN10-011-007   \n",
       "6  /lustre/home/dc125/shared/TDA_GDA_1785-2009/19...  0FFO-1910-JAN12-013-013   \n",
       "7  /lustre/home/dc125/shared/TDA_GDA_1785-2009/19...  0FFO-1910-JAN12-013-014   \n",
       "8  /lustre/home/dc125/shared/TDA_GDA_1785-2009/19...  0FFO-1910-JAN13-010-018   \n",
       "9  /lustre/home/dc125/shared/TDA_GDA_1785-2009/19...  0FFO-1910-JAN13-011-005   \n",
       "\n",
       "          issue_id  \n",
       "0  0FFO-1910-JAN06  \n",
       "1  0FFO-1910-JAN06  \n",
       "2  0FFO-1910-JAN07  \n",
       "3  0FFO-1910-JAN08  \n",
       "4  0FFO-1910-JAN10  \n",
       "5  0FFO-1910-JAN10  \n",
       "6  0FFO-1910-JAN12  \n",
       "7  0FFO-1910-JAN12  \n",
       "8  0FFO-1910-JAN13  \n",
       "9  0FFO-1910-JAN13  "
      ]
     },
     "execution_count": 32,
     "metadata": {},
     "output_type": "execute_result"
    }
   ],
   "source": [
    "metadata = {'title':titles, 'year':years, 'author':authors, \n",
    "             'term':terms, 'section':sections, 'pages':page_ids, 'filename':filenames, 'article_id':article_ids, 'issue_id':issue_ids}\n",
    "inventory = pd.DataFrame.from_dict(metadata)\n",
    "inventory.head(10)"
   ]
  },
  {
   "cell_type": "code",
   "execution_count": 33,
   "metadata": {},
   "outputs": [
    {
     "name": "stdout",
     "output_type": "stream",
     "text": [
      "[\"''\" '(FROM OUR OWN CORRESPONDENT.)' '(FROM A CORRESPONDENT.)' ...\n",
      " 'Mike Wade' 'Loudon Wainwright' 'A. L. Kennedy']\n",
      "5839\n"
     ]
    }
   ],
   "source": [
    "print(inventory.author.unique())\n",
    "print(len(inventory.author.unique()))"
   ]
  },
  {
   "cell_type": "markdown",
   "metadata": {},
   "source": [
    "There are 5,839 unique author names included in the metadata for the articles in our corpus!"
   ]
  },
  {
   "cell_type": "code",
   "execution_count": 34,
   "metadata": {},
   "outputs": [
    {
     "name": "stdout",
     "output_type": "stream",
     "text": [
      "1910\n",
      "2009\n"
     ]
    }
   ],
   "source": [
    "print(min(inventory.year))\n",
    "print(max(inventory.year))"
   ]
  },
  {
   "cell_type": "code",
   "execution_count": 35,
   "metadata": {},
   "outputs": [
    {
     "data": {
      "text/html": [
       "<div>\n",
       "<style scoped>\n",
       "    .dataframe tbody tr th:only-of-type {\n",
       "        vertical-align: middle;\n",
       "    }\n",
       "\n",
       "    .dataframe tbody tr th {\n",
       "        vertical-align: top;\n",
       "    }\n",
       "\n",
       "    .dataframe thead th {\n",
       "        text-align: right;\n",
       "    }\n",
       "</style>\n",
       "<table border=\"1\" class=\"dataframe\">\n",
       "  <thead>\n",
       "    <tr style=\"text-align: right;\">\n",
       "      <th></th>\n",
       "      <th>title</th>\n",
       "      <th>year</th>\n",
       "      <th>author</th>\n",
       "      <th>term</th>\n",
       "      <th>section</th>\n",
       "      <th>pages</th>\n",
       "      <th>filename</th>\n",
       "      <th>article_id</th>\n",
       "      <th>issue_id</th>\n",
       "    </tr>\n",
       "  </thead>\n",
       "  <tbody>\n",
       "    <tr>\n",
       "      <th>0</th>\n",
       "      <td>Nrsic. NEW PIAOFORTE MUSIC.</td>\n",
       "      <td>1910</td>\n",
       "      <td>''</td>\n",
       "      <td>[ composer,  composers,  compositions,  opera,...</td>\n",
       "      <td>Reviews</td>\n",
       "      <td>[011]</td>\n",
       "      <td>/lustre/home/dc125/shared/TDA_GDA_1785-2009/19...</td>\n",
       "      <td>0FFO-1910-JAN06-011-005</td>\n",
       "      <td>0FFO-1910-JAN06</td>\n",
       "    </tr>\n",
       "    <tr>\n",
       "      <th>328</th>\n",
       "      <td>'\" Is4IJSIC. SAVOY THE.ATRE. \" ORPHEUS.\"'</td>\n",
       "      <td>1910</td>\n",
       "      <td>''</td>\n",
       "      <td>[ composer,  composers,  country,  lyrics,  mu...</td>\n",
       "      <td>Reviews</td>\n",
       "      <td>[010]</td>\n",
       "      <td>/lustre/home/dc125/shared/TDA_GDA_1785-2009/19...</td>\n",
       "      <td>0FFO-1910-APR13-010-010</td>\n",
       "      <td>0FFO-1910-APR13</td>\n",
       "    </tr>\n",
       "    <tr>\n",
       "      <th>327</th>\n",
       "      <td>HIS MAJESTY'S TEEATRE. \" KING L1AR.\"</td>\n",
       "      <td>1910</td>\n",
       "      <td>''</td>\n",
       "      <td>[[]]</td>\n",
       "      <td>Reviews</td>\n",
       "      <td>[010]</td>\n",
       "      <td>/lustre/home/dc125/shared/TDA_GDA_1785-2009/19...</td>\n",
       "      <td>0FFO-1910-APR13-010-008</td>\n",
       "      <td>0FFO-1910-APR13</td>\n",
       "    </tr>\n",
       "    <tr>\n",
       "      <th>326</th>\n",
       "      <td>MUSIC'. CORONET THEATRE. I' s U;N\" BALLO IN MA...</td>\n",
       "      <td>1910</td>\n",
       "      <td>''</td>\n",
       "      <td>[ composer,  musical,  opera,  orchestra,  songs]</td>\n",
       "      <td>Reviews</td>\n",
       "      <td>[012]</td>\n",
       "      <td>/lustre/home/dc125/shared/TDA_GDA_1785-2009/19...</td>\n",
       "      <td>0FFO-1910-APR12-012-003</td>\n",
       "      <td>0FFO-1910-APR12</td>\n",
       "    </tr>\n",
       "    <tr>\n",
       "      <th>325</th>\n",
       "      <td>MUSIC. HERR STRAUSS AT QUEEN'S HALL</td>\n",
       "      <td>1910</td>\n",
       "      <td>''</td>\n",
       "      <td>[ classical,  composers,  lyric,  lyrics,  mus...</td>\n",
       "      <td>Reviews</td>\n",
       "      <td>[013]</td>\n",
       "      <td>/lustre/home/dc125/shared/TDA_GDA_1785-2009/19...</td>\n",
       "      <td>0FFO-1910-APR11-013-014</td>\n",
       "      <td>0FFO-1910-APR11</td>\n",
       "    </tr>\n",
       "    <tr>\n",
       "      <th>...</th>\n",
       "      <td>...</td>\n",
       "      <td>...</td>\n",
       "      <td>...</td>\n",
       "      <td>...</td>\n",
       "      <td>...</td>\n",
       "      <td>...</td>\n",
       "      <td>...</td>\n",
       "      <td>...</td>\n",
       "      <td>...</td>\n",
       "    </tr>\n",
       "    <tr>\n",
       "      <th>105268</th>\n",
       "      <td>\"Vt_t_\\xA3 lsf7#JI.Bjk. Moseley Folk Festival ...</td>\n",
       "      <td>2009</td>\n",
       "      <td>Stephen Dalton</td>\n",
       "      <td>[ album,  band,  folk,  musical,  rock,  songs]</td>\n",
       "      <td>Reviews</td>\n",
       "      <td>[0104]</td>\n",
       "      <td>/lustre/home/dc125/shared/TDA_GDA_1785-2009/19...</td>\n",
       "      <td>0FFO-2009-0908-0104-001</td>\n",
       "      <td>0FFO-2009-0908</td>\n",
       "    </tr>\n",
       "    <tr>\n",
       "      <th>105269</th>\n",
       "      <td>Dance Deloitte Ignite 09 Covent Garden</td>\n",
       "      <td>2009</td>\n",
       "      <td>Donald Hutera</td>\n",
       "      <td>[ artist,  opera]</td>\n",
       "      <td>Reviews</td>\n",
       "      <td>[0104]</td>\n",
       "      <td>/lustre/home/dc125/shared/TDA_GDA_1785-2009/19...</td>\n",
       "      <td>0FFO-2009-0908-0104-002</td>\n",
       "      <td>0FFO-2009-0908</td>\n",
       "    </tr>\n",
       "    <tr>\n",
       "      <th>105270</th>\n",
       "      <td>Pop Moby Rough Trade East, El</td>\n",
       "      <td>2009</td>\n",
       "      <td>David Sinclair</td>\n",
       "      <td>[ album,  band,  blues,  gospel,  pop,  singer...</td>\n",
       "      <td>Reviews</td>\n",
       "      <td>[0104]</td>\n",
       "      <td>/lustre/home/dc125/shared/TDA_GDA_1785-2009/19...</td>\n",
       "      <td>0FFO-2009-0908-0104-005</td>\n",
       "      <td>0FFO-2009-0908</td>\n",
       "    </tr>\n",
       "    <tr>\n",
       "      <th>105218</th>\n",
       "      <td>The hits just kept on comin; sadly</td>\n",
       "      <td>2009</td>\n",
       "      <td>Allen Robertson</td>\n",
       "      <td>[ folk,  latin,  singers,  song]</td>\n",
       "      <td>Reviews</td>\n",
       "      <td>[]</td>\n",
       "      <td>/lustre/home/dc125/shared/TDA_GDA_1785-2009/19...</td>\n",
       "      <td>0FFO-2009-0903-0092-002</td>\n",
       "      <td>0FFO-2009-0903</td>\n",
       "    </tr>\n",
       "    <tr>\n",
       "      <th>106809</th>\n",
       "      <td>Dead-end street</td>\n",
       "      <td>2009</td>\n",
       "      <td>Alex Hardy</td>\n",
       "      <td>[ musical]</td>\n",
       "      <td>Reviews</td>\n",
       "      <td>[]</td>\n",
       "      <td>/lustre/home/dc125/shared/TDA_GDA_1785-2009/19...</td>\n",
       "      <td>0FFO-2009-0818-0082-001</td>\n",
       "      <td>0FFO-2009-0818</td>\n",
       "    </tr>\n",
       "  </tbody>\n",
       "</table>\n",
       "<p>106810 rows × 9 columns</p>\n",
       "</div>"
      ],
      "text/plain": [
       "                                                    title  year  \\\n",
       "0                             Nrsic. NEW PIAOFORTE MUSIC.  1910   \n",
       "328             '\" Is4IJSIC. SAVOY THE.ATRE. \" ORPHEUS.\"'  1910   \n",
       "327                  HIS MAJESTY'S TEEATRE. \" KING L1AR.\"  1910   \n",
       "326     MUSIC'. CORONET THEATRE. I' s U;N\" BALLO IN MA...  1910   \n",
       "325                   MUSIC. HERR STRAUSS AT QUEEN'S HALL  1910   \n",
       "...                                                   ...   ...   \n",
       "105268  \"Vt_t_\\xA3 lsf7#JI.Bjk. Moseley Folk Festival ...  2009   \n",
       "105269             Dance Deloitte Ignite 09 Covent Garden  2009   \n",
       "105270                      Pop Moby Rough Trade East, El  2009   \n",
       "105218                 The hits just kept on comin; sadly  2009   \n",
       "106809                                    Dead-end street  2009   \n",
       "\n",
       "                 author                                               term  \\\n",
       "0                    ''  [ composer,  composers,  compositions,  opera,...   \n",
       "328                  ''  [ composer,  composers,  country,  lyrics,  mu...   \n",
       "327                  ''                                               [[]]   \n",
       "326                  ''  [ composer,  musical,  opera,  orchestra,  songs]   \n",
       "325                  ''  [ classical,  composers,  lyric,  lyrics,  mus...   \n",
       "...                 ...                                                ...   \n",
       "105268   Stephen Dalton    [ album,  band,  folk,  musical,  rock,  songs]   \n",
       "105269    Donald Hutera                                  [ artist,  opera]   \n",
       "105270   David Sinclair  [ album,  band,  blues,  gospel,  pop,  singer...   \n",
       "105218  Allen Robertson                   [ folk,  latin,  singers,  song]   \n",
       "106809       Alex Hardy                                         [ musical]   \n",
       "\n",
       "        section   pages                                           filename  \\\n",
       "0       Reviews   [011]  /lustre/home/dc125/shared/TDA_GDA_1785-2009/19...   \n",
       "328     Reviews   [010]  /lustre/home/dc125/shared/TDA_GDA_1785-2009/19...   \n",
       "327     Reviews   [010]  /lustre/home/dc125/shared/TDA_GDA_1785-2009/19...   \n",
       "326     Reviews   [012]  /lustre/home/dc125/shared/TDA_GDA_1785-2009/19...   \n",
       "325     Reviews   [013]  /lustre/home/dc125/shared/TDA_GDA_1785-2009/19...   \n",
       "...         ...     ...                                                ...   \n",
       "105268  Reviews  [0104]  /lustre/home/dc125/shared/TDA_GDA_1785-2009/19...   \n",
       "105269  Reviews  [0104]  /lustre/home/dc125/shared/TDA_GDA_1785-2009/19...   \n",
       "105270  Reviews  [0104]  /lustre/home/dc125/shared/TDA_GDA_1785-2009/19...   \n",
       "105218  Reviews      []  /lustre/home/dc125/shared/TDA_GDA_1785-2009/19...   \n",
       "106809  Reviews      []  /lustre/home/dc125/shared/TDA_GDA_1785-2009/19...   \n",
       "\n",
       "                     article_id         issue_id  \n",
       "0       0FFO-1910-JAN06-011-005  0FFO-1910-JAN06  \n",
       "328     0FFO-1910-APR13-010-010  0FFO-1910-APR13  \n",
       "327     0FFO-1910-APR13-010-008  0FFO-1910-APR13  \n",
       "326     0FFO-1910-APR12-012-003  0FFO-1910-APR12  \n",
       "325     0FFO-1910-APR11-013-014  0FFO-1910-APR11  \n",
       "...                         ...              ...  \n",
       "105268  0FFO-2009-0908-0104-001   0FFO-2009-0908  \n",
       "105269  0FFO-2009-0908-0104-002   0FFO-2009-0908  \n",
       "105270  0FFO-2009-0908-0104-005   0FFO-2009-0908  \n",
       "105218  0FFO-2009-0903-0092-002   0FFO-2009-0903  \n",
       "106809  0FFO-2009-0818-0082-001   0FFO-2009-0818  \n",
       "\n",
       "[106810 rows x 9 columns]"
      ]
     },
     "execution_count": 35,
     "metadata": {},
     "output_type": "execute_result"
    }
   ],
   "source": [
    "inventory.sort_values(\"year\")"
   ]
  },
  {
   "cell_type": "markdown",
   "metadata": {},
   "source": [
    "**Step 3:** Export the inventory as a CSV file."
   ]
  },
  {
   "cell_type": "code",
   "execution_count": 36,
   "metadata": {},
   "outputs": [],
   "source": [
    "inventory.to_csv(\"../TheTimes_DaveO/TheTimesArticles_1910-2009_Inventory.csv\")"
   ]
  },
  {
   "cell_type": "markdown",
   "metadata": {},
   "source": [
    "#### 2.2 Create one TXT file per article \n",
    "Each file contains the text from the field `original_text` and uses its corresponding `article_id` as the filename.\n",
    "\n",
    "**Step 1:** Create a subset of the data that only contains articles written in 1950 or later, including the articles' `original_text`."
   ]
  },
  {
   "cell_type": "code",
   "execution_count": 37,
   "metadata": {},
   "outputs": [
    {
     "data": {
      "text/html": [
       "<div>\n",
       "<style scoped>\n",
       "    .dataframe tbody tr th:only-of-type {\n",
       "        vertical-align: middle;\n",
       "    }\n",
       "\n",
       "    .dataframe tbody tr th {\n",
       "        vertical-align: top;\n",
       "    }\n",
       "\n",
       "    .dataframe thead th {\n",
       "        text-align: right;\n",
       "    }\n",
       "</style>\n",
       "<table border=\"1\" class=\"dataframe\">\n",
       "  <thead>\n",
       "    <tr style=\"text-align: right;\">\n",
       "      <th></th>\n",
       "      <th>title</th>\n",
       "      <th>year</th>\n",
       "      <th>author</th>\n",
       "      <th>term</th>\n",
       "      <th>section</th>\n",
       "      <th>pages</th>\n",
       "      <th>filename</th>\n",
       "      <th>article_id</th>\n",
       "      <th>issue_id</th>\n",
       "      <th>original_text</th>\n",
       "    </tr>\n",
       "  </thead>\n",
       "  <tbody>\n",
       "    <tr>\n",
       "      <th>20787</th>\n",
       "      <td>SOME NEW SCORES MOTET AND OPERA</td>\n",
       "      <td>1950</td>\n",
       "      <td>BY OUR MUSIC CRITIC</td>\n",
       "      <td>[ bands,  composer,  musical,  opera,  orchest...</td>\n",
       "      <td>Reviews</td>\n",
       "      <td>[]</td>\n",
       "      <td>/lustre/home/dc125/shared/TDA_GDA_1785-2009/19...</td>\n",
       "      <td>0FFO-1950-JUN30-008-023</td>\n",
       "      <td>0FFO-1950-JUN30</td>\n",
       "      <td>'SOME NEW SCORES MOTET AND OPERA BY OUR MUSIC ...</td>\n",
       "    </tr>\n",
       "    <tr>\n",
       "      <th>20788</th>\n",
       "      <td>THE ROYAL OPERA \" TRISTAN AND ISOLDE \"</td>\n",
       "      <td>1950</td>\n",
       "      <td>''</td>\n",
       "      <td>[ opera,  orchestra]</td>\n",
       "      <td>Reviews</td>\n",
       "      <td>[]</td>\n",
       "      <td>/lustre/home/dc125/shared/TDA_GDA_1785-2009/19...</td>\n",
       "      <td>0FFO-1950-JUN30-008-027</td>\n",
       "      <td>0FFO-1950-JUN30</td>\n",
       "      <td>THE ROYAL OPERA \" TRISTAN AND ISOLDE \" Nietzsc...</td>\n",
       "    </tr>\n",
       "    <tr>\n",
       "      <th>20789</th>\n",
       "      <td>GROWING TASTE FOR MUSIC PLEA FOR ENLARGED QUEE...</td>\n",
       "      <td>1950</td>\n",
       "      <td>''</td>\n",
       "      <td>[ country]</td>\n",
       "      <td>Reviews</td>\n",
       "      <td>[]</td>\n",
       "      <td>/lustre/home/dc125/shared/TDA_GDA_1785-2009/19...</td>\n",
       "      <td>0FFO-1950-JUN30-008-032</td>\n",
       "      <td>0FFO-1950-JUN30</td>\n",
       "      <td>'GROWING TASTE FOR MUSIC PLEA FOR ENLARGED QUE...</td>\n",
       "    </tr>\n",
       "    <tr>\n",
       "      <th>20790</th>\n",
       "      <td>ROYAL PHILHARMONIC CONCERT BEECHAM AND MOZART</td>\n",
       "      <td>1950</td>\n",
       "      <td>''</td>\n",
       "      <td>[ orchestra,  orchestras]</td>\n",
       "      <td>Reviews</td>\n",
       "      <td>[010]</td>\n",
       "      <td>/lustre/home/dc125/shared/TDA_GDA_1785-2009/19...</td>\n",
       "      <td>0FFO-1950-MAR02-010-006</td>\n",
       "      <td>0FFO-1950-MAR02</td>\n",
       "      <td>ROYAL PHILHARMONIC CONCERT BEECHAM AND MOZART ...</td>\n",
       "    </tr>\n",
       "    <tr>\n",
       "      <th>20791</th>\n",
       "      <td>MUSICAL JOURNALS SOME NEWCOMERS</td>\n",
       "      <td>1950</td>\n",
       "      <td>BY OUR MUSIC CRITIC</td>\n",
       "      <td>[ musical,  orchestra,  orchestras]</td>\n",
       "      <td>Reviews</td>\n",
       "      <td>[007]</td>\n",
       "      <td>/lustre/home/dc125/shared/TDA_GDA_1785-2009/19...</td>\n",
       "      <td>0FFO-1950-MAR03-007-010</td>\n",
       "      <td>0FFO-1950-MAR03</td>\n",
       "      <td>'MUSICAL JOURNALS SOME NEWCOMERS BY OuR Music ...</td>\n",
       "    </tr>\n",
       "  </tbody>\n",
       "</table>\n",
       "</div>"
      ],
      "text/plain": [
       "                                                   title  year  \\\n",
       "20787                    SOME NEW SCORES MOTET AND OPERA  1950   \n",
       "20788             THE ROYAL OPERA \" TRISTAN AND ISOLDE \"  1950   \n",
       "20789  GROWING TASTE FOR MUSIC PLEA FOR ENLARGED QUEE...  1950   \n",
       "20790      ROYAL PHILHARMONIC CONCERT BEECHAM AND MOZART  1950   \n",
       "20791                    MUSICAL JOURNALS SOME NEWCOMERS  1950   \n",
       "\n",
       "                    author                                               term  \\\n",
       "20787  BY OUR MUSIC CRITIC  [ bands,  composer,  musical,  opera,  orchest...   \n",
       "20788                   ''                               [ opera,  orchestra]   \n",
       "20789                   ''                                         [ country]   \n",
       "20790                   ''                          [ orchestra,  orchestras]   \n",
       "20791  BY OUR MUSIC CRITIC                [ musical,  orchestra,  orchestras]   \n",
       "\n",
       "       section  pages                                           filename  \\\n",
       "20787  Reviews     []  /lustre/home/dc125/shared/TDA_GDA_1785-2009/19...   \n",
       "20788  Reviews     []  /lustre/home/dc125/shared/TDA_GDA_1785-2009/19...   \n",
       "20789  Reviews     []  /lustre/home/dc125/shared/TDA_GDA_1785-2009/19...   \n",
       "20790  Reviews  [010]  /lustre/home/dc125/shared/TDA_GDA_1785-2009/19...   \n",
       "20791  Reviews  [007]  /lustre/home/dc125/shared/TDA_GDA_1785-2009/19...   \n",
       "\n",
       "                    article_id         issue_id  \\\n",
       "20787  0FFO-1950-JUN30-008-023  0FFO-1950-JUN30   \n",
       "20788  0FFO-1950-JUN30-008-027  0FFO-1950-JUN30   \n",
       "20789  0FFO-1950-JUN30-008-032  0FFO-1950-JUN30   \n",
       "20790  0FFO-1950-MAR02-010-006  0FFO-1950-MAR02   \n",
       "20791  0FFO-1950-MAR03-007-010  0FFO-1950-MAR03   \n",
       "\n",
       "                                           original_text  \n",
       "20787  'SOME NEW SCORES MOTET AND OPERA BY OUR MUSIC ...  \n",
       "20788  THE ROYAL OPERA \" TRISTAN AND ISOLDE \" Nietzsc...  \n",
       "20789  'GROWING TASTE FOR MUSIC PLEA FOR ENLARGED QUE...  \n",
       "20790  ROYAL PHILHARMONIC CONCERT BEECHAM AND MOZART ...  \n",
       "20791  'MUSICAL JOURNALS SOME NEWCOMERS BY OuR Music ...  "
      ]
     },
     "execution_count": 37,
     "metadata": {},
     "output_type": "execute_result"
    }
   ],
   "source": [
    "# Add the articles' text to the inventory DataFrame\n",
    "inventory['original_text'] = original_texts\n",
    "# Create a DataFrame containing only articles published from 1950 onwards\n",
    "subset = inventory[inventory.year >= 1950]\n",
    "subset.head()"
   ]
  },
  {
   "cell_type": "code",
   "execution_count": 38,
   "metadata": {},
   "outputs": [
    {
     "name": "stdout",
     "output_type": "stream",
     "text": [
      "Rows (articles): 83625\n",
      "Columns (data fields per article): 10\n"
     ]
    }
   ],
   "source": [
    "print(\"Rows (articles):\", subset.shape[0])\n",
    "print(\"Columns (data fields per article):\", subset.shape[1])"
   ]
  },
  {
   "cell_type": "code",
   "execution_count": 39,
   "metadata": {},
   "outputs": [
    {
     "name": "stdout",
     "output_type": "stream",
     "text": [
      "20787\n",
      "106809\n"
     ]
    }
   ],
   "source": [
    "indeces = list(subset.index)\n",
    "print(indeces[0])\n",
    "print(indeces[-1])"
   ]
  },
  {
   "cell_type": "code",
   "execution_count": 40,
   "metadata": {},
   "outputs": [
    {
     "name": "stdout",
     "output_type": "stream",
     "text": [
      "Series([], Name: original_text, dtype: object)\n"
     ]
    }
   ],
   "source": [
    "# Make sure each article has text in the \"original text\" field\n",
    "print(subset.original_text[subset.original_text == False])"
   ]
  },
  {
   "cell_type": "markdown",
   "metadata": {
    "jupyter": {
     "source_hidden": true
    }
   },
   "source": [
    "**Step 2:** Let's review the titles of the articles in our subset of data, removing articles with titles that are obviously not about music and keeping all those that have any possibility of being about music. "
   ]
  },
  {
   "cell_type": "code",
   "execution_count": 20,
   "metadata": {
    "collapsed": true,
    "jupyter": {
     "outputs_hidden": true,
     "source_hidden": true
    }
   },
   "outputs": [
    {
     "name": "stdout",
     "output_type": "stream",
     "text": [
      "69355\n"
     ]
    }
   ],
   "source": [
    "# print(subset.title.unique())\n",
    "print(len(subset.title.unique()))"
   ]
  },
  {
   "cell_type": "code",
   "execution_count": 14,
   "metadata": {
    "jupyter": {
     "source_hidden": true
    }
   },
   "outputs": [],
   "source": [
    "# not_music = [\"'CORONATION HONOURS THE THREE NEW PEERS: ONE ORDER OF MERIT'\",\n",
    "#        'STOCK EXCHANGE DEALINGS',\n",
    "#        'Idea for :Realization of Peace in Vietnam Without Sacrificing a Single Human',\n",
    "#        'Gen:eral Election results 1974', 'Election results October, 1974',\n",
    "#        'CONCISE CROSSWORD (No 569)',\n",
    "#        'CONCISE CROSSWORD NO 1084', 'CONCISE CROSSWORD NO 136? j',\n",
    "#        'xigg ^TjMEs DEGREE COURSE VACANCY SERVICE', '\"Branson nets \\\\xA382minsale to Japanese\"',\n",
    "#        'Chest, Heart and Stroke Association',\n",
    "#        'Equity reversal',\n",
    "#        'WINTER OLYMPICS 42',\n",
    "#        'clirectorv', \"'i| .- : WORD-WATCHING -|'\", \n",
    "#        'Full details of courses start here', 'BUSINESS 26',\n",
    "#        'AS-LEVEL RESULTS', 'CLEARING',\n",
    "#        '\"- . UNIVERSITY CLEARING LiSTIWeS START HERE .., _____\\\\xA3\"',\n",
    "#        '\"TRAVEL \\\\u201E\"', \n",
    "#        'ELECTION 2005',\n",
    "#        '\"*FTSE 350 firms have a combined value of \\\\xA31,739 billion\"',\n",
    "#        'SECONDARY SCHOOLS REPORT',\n",
    "#        'NatWest Three brush up on their small talk',\n",
    "#        \"'''Student Prince'' actor dies'\",\n",
    "#        ]"
   ]
  },
  {
   "cell_type": "code",
   "execution_count": 36,
   "metadata": {
    "jupyter": {
     "source_hidden": true
    }
   },
   "outputs": [],
   "source": [
    "# subset = subset[~subset[\"title\"].isin(not_music)]\n",
    "# subset"
   ]
  },
  {
   "cell_type": "code",
   "execution_count": 41,
   "metadata": {},
   "outputs": [
    {
     "name": "stdout",
     "output_type": "stream",
     "text": [
      "['Reviews']\n"
     ]
    }
   ],
   "source": [
    "print(subset.section.unique())"
   ]
  },
  {
   "cell_type": "code",
   "execution_count": 42,
   "metadata": {},
   "outputs": [
    {
     "name": "stdout",
     "output_type": "stream",
     "text": [
      "[1950 1951 1952 1953 1954 1955 1956 1957 1958 1959 1960 1961 1962 1963\n",
      " 1964 1965 1966 1967 1968 1969 1970 1971 1972 1973 1974 1975 1976 1977\n",
      " 1978 1979 1980 1981 1982 1983 1984 1985 2000 1986 1987 1988 1989 1990\n",
      " 1991 1992 1993 1994 1995 1996 1997 1998 1999 2001 2002 2003 2004 2005\n",
      " 2006 2007 2008 2009]\n"
     ]
    }
   ],
   "source": [
    "subset_years = subset.year.unique()\n",
    "subset_years.sort\n",
    "print(subset_years)"
   ]
  },
  {
   "cell_type": "markdown",
   "metadata": {},
   "source": [
    "All right so now we have 83,625 reviews published every year from 1950 through 2009!\n",
    "\n",
    "**Step 2:** Associate each article's text and index number (a unique identifier) to one another by creating a dictionary from the `original_text` and `indeces` columns of our subset of data."
   ]
  },
  {
   "cell_type": "code",
   "execution_count": 43,
   "metadata": {},
   "outputs": [
    {
     "name": "stdout",
     "output_type": "stream",
     "text": [
      "'SOME NEW SCORES MOTET AND OPERA BY OUR MUSIC CRIrIC Music publishing has got into its stride once m\n"
     ]
    }
   ],
   "source": [
    "id_text = dict(zip(list(indeces),list(subset.original_text)))\n",
    "print(id_text[20787][:100]) # first 100 characters of text from an article with the input index number"
   ]
  },
  {
   "cell_type": "markdown",
   "metadata": {},
   "source": [
    "**Step 3:** Write each article's text to a file named as the article's index in the inventory, splitting large articles into multiple files."
   ]
  },
  {
   "cell_type": "code",
   "execution_count": 44,
   "metadata": {},
   "outputs": [
    {
     "name": "stdout",
     "output_type": "stream",
     "text": [
      "Shortest article: 64\n",
      "Longest article: 47716\n",
      "Average article length: 3431.853620328849\n"
     ]
    }
   ],
   "source": [
    "# Find length of articles (length = number of characters)\n",
    "original_texts = list(subset.original_text)\n",
    "texts_len = []\n",
    "for t in original_texts:\n",
    "    texts_len += [len(t)]\n",
    "print(\"Shortest article:\", min(texts_len))\n",
    "print(\"Longest article:\", max(texts_len))\n",
    "print(\"Average article length:\", sum(texts_len)/len(texts_len))\n",
    "# texts_len.sort()\n",
    "# print(texts_len)"
   ]
  },
  {
   "cell_type": "code",
   "execution_count": 45,
   "metadata": {},
   "outputs": [],
   "source": [
    "def writeTxtFiles(article_dict, max_chars):\n",
    "    for key,value in article_dict.items():\n",
    "        text_len = len(value) # number of characters in the article\n",
    "        \n",
    "        # If the article has more than the input maximum number of characters, \n",
    "        # split the article's text across multiple files\n",
    "        if text_len > max_chars:\n",
    "            split_files = int(text_len/max_chars)\n",
    "            char_index = 0\n",
    "            while char_index < split_files:\n",
    "                # Create multiple files no longer than the input maximum number of characters (max_chars)\n",
    "                filepath = \"../TheTimes_DaveO/TheTimesMusicReviews_1950-2009_part1/\"+str(key)+\"_\"+str(char_index)\n",
    "                split_value = value[(char_index*max_chars):((char_index+1)*max_chars)]\n",
    "                file = open(filepath, \"a\")  # a for append\n",
    "                try:\n",
    "                    file.write(value)\n",
    "                except TypeError:\n",
    "                    print(key, value)\n",
    "                file.close()\n",
    "                char_index += 1\n",
    "            # Write the last file with the remaining characters in the article \n",
    "            filepath = \"../TheTimes_DaveO/TheTimesMusicReviews_1950-2009_part1/\"+str(key)+\"_\"+str(char_index)\n",
    "            split_value = value[(char_index*max_chars):]\n",
    "            file = open(filepath, \"a\")  # a for append\n",
    "            try:\n",
    "                file.write(value)\n",
    "            except TypeError:\n",
    "                print(key, value)\n",
    "            file.close()\n",
    "        \n",
    "        # If the article has no more than the maximum number of characters, \n",
    "        # write the article's text to a single file\n",
    "        else:\n",
    "            filepath = \"../TheTimes_DaveO/TheTimesMusicReviews_1950-2009_part1/\"+str(key)\n",
    "            file = open(filepath, \"a\")  # a for append\n",
    "            try:\n",
    "                file.write(value)\n",
    "            except TypeError:\n",
    "                print(key, value)\n",
    "            file.close()\n",
    "            \n",
    "    print(\"Text files for each article can now be found in the folder named TheTimesMusicReviews_1950-2009_part1!\")"
   ]
  },
  {
   "cell_type": "code",
   "execution_count": 46,
   "metadata": {},
   "outputs": [
    {
     "ename": "OSError",
     "evalue": "[Errno 27] File too large: '../TheTimes_DaveO/TheTimesMusicReviews_1950-2009_part1/86443'",
     "output_type": "error",
     "traceback": [
      "\u001b[0;31m---------------------------------------------------------------------------\u001b[0m",
      "\u001b[0;31mOSError\u001b[0m                                   Traceback (most recent call last)",
      "\u001b[0;32m<ipython-input-46-3910eaf13d71>\u001b[0m in \u001b[0;36m<module>\u001b[0;34m\u001b[0m\n\u001b[0;32m----> 1\u001b[0;31m \u001b[0mwriteTxtFiles\u001b[0m\u001b[0;34m(\u001b[0m\u001b[0mid_text\u001b[0m\u001b[0;34m,\u001b[0m \u001b[0;36m10000\u001b[0m\u001b[0;34m)\u001b[0m\u001b[0;34m\u001b[0m\u001b[0;34m\u001b[0m\u001b[0m\n\u001b[0m",
      "\u001b[0;32m<ipython-input-45-b43d077fee8b>\u001b[0m in \u001b[0;36mwriteTxtFiles\u001b[0;34m(article_dict, max_chars)\u001b[0m\n\u001b[1;32m     33\u001b[0m         \u001b[0;32melse\u001b[0m\u001b[0;34m:\u001b[0m\u001b[0;34m\u001b[0m\u001b[0;34m\u001b[0m\u001b[0m\n\u001b[1;32m     34\u001b[0m             \u001b[0mfilepath\u001b[0m \u001b[0;34m=\u001b[0m \u001b[0;34m\"../TheTimes_DaveO/TheTimesMusicReviews_1950-2009_part1/\"\u001b[0m\u001b[0;34m+\u001b[0m\u001b[0mstr\u001b[0m\u001b[0;34m(\u001b[0m\u001b[0mkey\u001b[0m\u001b[0;34m)\u001b[0m\u001b[0;34m\u001b[0m\u001b[0;34m\u001b[0m\u001b[0m\n\u001b[0;32m---> 35\u001b[0;31m             \u001b[0mfile\u001b[0m \u001b[0;34m=\u001b[0m \u001b[0mopen\u001b[0m\u001b[0;34m(\u001b[0m\u001b[0mfilepath\u001b[0m\u001b[0;34m,\u001b[0m \u001b[0;34m\"a\"\u001b[0m\u001b[0;34m)\u001b[0m  \u001b[0;31m# a for append\u001b[0m\u001b[0;34m\u001b[0m\u001b[0;34m\u001b[0m\u001b[0m\n\u001b[0m\u001b[1;32m     36\u001b[0m             \u001b[0;32mtry\u001b[0m\u001b[0;34m:\u001b[0m\u001b[0;34m\u001b[0m\u001b[0;34m\u001b[0m\u001b[0m\n\u001b[1;32m     37\u001b[0m                 \u001b[0mfile\u001b[0m\u001b[0;34m.\u001b[0m\u001b[0mwrite\u001b[0m\u001b[0;34m(\u001b[0m\u001b[0mvalue\u001b[0m\u001b[0;34m)\u001b[0m\u001b[0;34m\u001b[0m\u001b[0;34m\u001b[0m\u001b[0m\n",
      "\u001b[0;31mOSError\u001b[0m: [Errno 27] File too large: '../TheTimes_DaveO/TheTimesMusicReviews_1950-2009_part1/86443'"
     ]
    }
   ],
   "source": [
    "writeTxtFiles(id_text, 10000)"
   ]
  },
  {
   "cell_type": "code",
   "execution_count": 47,
   "metadata": {},
   "outputs": [],
   "source": [
    "len(id_text[86443])\n",
    "def writeTxtFiles(article_dict, max_chars):\n",
    "    for key,value in article_dict.items():\n",
    "        if key >= 86433:\n",
    "            text_len = len(value) # number of characters in the article\n",
    "\n",
    "            # If the article has more than the input maximum number of characters, \n",
    "            # split the article's text across multiple files\n",
    "            if text_len > max_chars:\n",
    "                split_files = int(text_len/max_chars)\n",
    "                char_index = 0\n",
    "                while char_index < split_files:\n",
    "                    # Create multiple files no longer than the input maximum number of characters (max_chars)\n",
    "                    filepath = \"../TheTimes_DaveO/TheTimesMusicReviews_1950-2009_part2/\"+str(key)+\"_\"+str(char_index)\n",
    "                    split_value = value[(char_index*max_chars):((char_index+1)*max_chars)]\n",
    "                    file = open(filepath, \"a\")  # a for append\n",
    "                    try:\n",
    "                        file.write(value)\n",
    "                    except TypeError:\n",
    "                        print(key, value)\n",
    "                    file.close()\n",
    "                    char_index += 1\n",
    "                # Write the last file with the remaining characters in the article \n",
    "                filepath = \"../TheTimes_DaveO/TheTimesMusicReviews_1950-2009_part2/\"+str(key)+\"_\"+str(char_index)\n",
    "                split_value = value[(char_index*max_chars):]\n",
    "                file = open(filepath, \"a\")  # a for append\n",
    "                try:\n",
    "                    file.write(value)\n",
    "                except TypeError:\n",
    "                    print(key, value)\n",
    "                file.close()\n",
    "\n",
    "            # If the article has no more than the maximum number of characters, \n",
    "            # write the article's text to a single file\n",
    "            else:\n",
    "                filepath = \"../TheTimes_DaveO/TheTimesMusicReviews_1950-2009_part2/\"+str(key)\n",
    "                file = open(filepath, \"a\")  # a for append\n",
    "                try:\n",
    "                    file.write(value)\n",
    "                except TypeError:\n",
    "                    print(key, value)\n",
    "                file.close()\n",
    "\n",
    "    print(\"Text files for each article can now be found in the folder named TheTimesMusicReviews_1950-2009_part2!\")"
   ]
  },
  {
   "cell_type": "code",
   "execution_count": 48,
   "metadata": {},
   "outputs": [
    {
     "name": "stdout",
     "output_type": "stream",
     "text": [
      "Text files for each article can now be found in the folder named TheTimesMusicReviews_1950-2009_part2!\n"
     ]
    }
   ],
   "source": [
    "writeTxtFiles(id_text, 10000)"
   ]
  },
  {
   "cell_type": "markdown",
   "metadata": {},
   "source": [
    "**Step 4:** Create an inventory for this subset of data (excluding the articles' text)."
   ]
  },
  {
   "cell_type": "code",
   "execution_count": 49,
   "metadata": {},
   "outputs": [],
   "source": [
    "subset_inventory = subset.drop(columns=\"original_text\")\n",
    "subset_inventory.to_csv(\"../TheTimes_DaveO/TheTimesArticles_1950-2009_Inventory.csv\")"
   ]
  },
  {
   "cell_type": "markdown",
   "metadata": {},
   "source": [
    "## 3. Analyze Data"
   ]
  },
  {
   "cell_type": "code",
   "execution_count": 50,
   "metadata": {},
   "outputs": [],
   "source": [
    "texts_words = []\n",
    "for t in original_texts:\n",
    "    t = t.split(\" \")\n",
    "    texts_words += [len(t)]"
   ]
  },
  {
   "cell_type": "code",
   "execution_count": 51,
   "metadata": {},
   "outputs": [
    {
     "name": "stdout",
     "output_type": "stream",
     "text": [
      "Rough Estimate of Word Counts\n",
      " - Shortest article: 8\n",
      " - Longest article: 7719\n",
      " - Average total words: 573.3512107623318\n"
     ]
    }
   ],
   "source": [
    "print(\"Rough Estimate of Word Counts\")\n",
    "print(\" - Shortest article:\",min(texts_words))\n",
    "print(\" - Longest article:\",max(texts_words))\n",
    "print(\" - Average total words:\",(sum(texts_words))/(len(texts_words)))"
   ]
  },
  {
   "cell_type": "code",
   "execution_count": null,
   "metadata": {},
   "outputs": [],
   "source": []
  }
 ],
 "metadata": {
  "kernelspec": {
   "display_name": "Python 3",
   "language": "python",
   "name": "python3"
  },
  "language_info": {
   "codemirror_mode": {
    "name": "ipython",
    "version": 3
   },
   "file_extension": ".py",
   "mimetype": "text/x-python",
   "name": "python",
   "nbconvert_exporter": "python",
   "pygments_lexer": "ipython3",
   "version": "3.8.5"
  }
 },
 "nbformat": 4,
 "nbformat_minor": 4
}
